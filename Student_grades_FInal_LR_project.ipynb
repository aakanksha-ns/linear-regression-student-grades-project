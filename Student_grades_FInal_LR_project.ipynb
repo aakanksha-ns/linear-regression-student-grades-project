{
  "cells": [
    {
      "cell_type": "markdown",
      "source": [
        "# Linear Regression Project\n",
        "\n",
        "-Shreejaya Bharathan and Aakanksha Nallabothula Surya"
      ],
      "metadata": {}
    },
    {
      "cell_type": "code",
      "source": [
        "import numpy as np\n",
        "import matplotlib.pyplot as plt \n",
        "\n",
        "import pandas as pd\n",
        "import statsmodels.api as sm\n",
        "import statsmodels.formula.api as smf\n",
        "import scipy.stats as stats\n",
        "import matplotlib.cm as cm\n",
        "from IPython.display import display\n",
        "from mpl_toolkits.mplot3d import Axes3D\n",
        "from sklearn.feature_selection import f_regression\n",
        "from statsmodels.stats.anova import anova_lm"
      ],
      "outputs": [],
      "execution_count": 1,
      "metadata": {}
    },
    {
      "cell_type": "markdown",
      "source": [
        "## Dataset \n",
        "https://www.kaggle.com/uciml/student-alcohol-consumption"
      ],
      "metadata": {}
    },
    {
      "cell_type": "code",
      "source": [
        "student_data = pd.read_csv('./student-mat.csv')"
      ],
      "outputs": [],
      "execution_count": 2,
      "metadata": {}
    },
    {
      "cell_type": "code",
      "source": [
        "student_data.head()"
      ],
      "outputs": [
        {
          "output_type": "execute_result",
          "execution_count": 3,
          "data": {
            "text/html": [
              "<div>\n",
              "<style scoped>\n",
              "    .dataframe tbody tr th:only-of-type {\n",
              "        vertical-align: middle;\n",
              "    }\n",
              "\n",
              "    .dataframe tbody tr th {\n",
              "        vertical-align: top;\n",
              "    }\n",
              "\n",
              "    .dataframe thead th {\n",
              "        text-align: right;\n",
              "    }\n",
              "</style>\n",
              "<table border=\"1\" class=\"dataframe\">\n",
              "  <thead>\n",
              "    <tr style=\"text-align: right;\">\n",
              "      <th></th>\n",
              "      <th>school</th>\n",
              "      <th>sex</th>\n",
              "      <th>age</th>\n",
              "      <th>address</th>\n",
              "      <th>famsize</th>\n",
              "      <th>Pstatus</th>\n",
              "      <th>Medu</th>\n",
              "      <th>Fedu</th>\n",
              "      <th>Mjob</th>\n",
              "      <th>Fjob</th>\n",
              "      <th>...</th>\n",
              "      <th>famrel</th>\n",
              "      <th>freetime</th>\n",
              "      <th>goout</th>\n",
              "      <th>Dalc</th>\n",
              "      <th>Walc</th>\n",
              "      <th>health</th>\n",
              "      <th>absences</th>\n",
              "      <th>G1</th>\n",
              "      <th>G2</th>\n",
              "      <th>G3</th>\n",
              "    </tr>\n",
              "  </thead>\n",
              "  <tbody>\n",
              "    <tr>\n",
              "      <td>0</td>\n",
              "      <td>GP</td>\n",
              "      <td>F</td>\n",
              "      <td>18</td>\n",
              "      <td>U</td>\n",
              "      <td>GT3</td>\n",
              "      <td>A</td>\n",
              "      <td>4</td>\n",
              "      <td>4</td>\n",
              "      <td>at_home</td>\n",
              "      <td>teacher</td>\n",
              "      <td>...</td>\n",
              "      <td>4</td>\n",
              "      <td>3</td>\n",
              "      <td>4</td>\n",
              "      <td>1</td>\n",
              "      <td>1</td>\n",
              "      <td>3</td>\n",
              "      <td>6</td>\n",
              "      <td>5</td>\n",
              "      <td>6</td>\n",
              "      <td>6</td>\n",
              "    </tr>\n",
              "    <tr>\n",
              "      <td>1</td>\n",
              "      <td>GP</td>\n",
              "      <td>F</td>\n",
              "      <td>17</td>\n",
              "      <td>U</td>\n",
              "      <td>GT3</td>\n",
              "      <td>T</td>\n",
              "      <td>1</td>\n",
              "      <td>1</td>\n",
              "      <td>at_home</td>\n",
              "      <td>other</td>\n",
              "      <td>...</td>\n",
              "      <td>5</td>\n",
              "      <td>3</td>\n",
              "      <td>3</td>\n",
              "      <td>1</td>\n",
              "      <td>1</td>\n",
              "      <td>3</td>\n",
              "      <td>4</td>\n",
              "      <td>5</td>\n",
              "      <td>5</td>\n",
              "      <td>6</td>\n",
              "    </tr>\n",
              "    <tr>\n",
              "      <td>2</td>\n",
              "      <td>GP</td>\n",
              "      <td>F</td>\n",
              "      <td>15</td>\n",
              "      <td>U</td>\n",
              "      <td>LE3</td>\n",
              "      <td>T</td>\n",
              "      <td>1</td>\n",
              "      <td>1</td>\n",
              "      <td>at_home</td>\n",
              "      <td>other</td>\n",
              "      <td>...</td>\n",
              "      <td>4</td>\n",
              "      <td>3</td>\n",
              "      <td>2</td>\n",
              "      <td>2</td>\n",
              "      <td>3</td>\n",
              "      <td>3</td>\n",
              "      <td>10</td>\n",
              "      <td>7</td>\n",
              "      <td>8</td>\n",
              "      <td>10</td>\n",
              "    </tr>\n",
              "    <tr>\n",
              "      <td>3</td>\n",
              "      <td>GP</td>\n",
              "      <td>F</td>\n",
              "      <td>15</td>\n",
              "      <td>U</td>\n",
              "      <td>GT3</td>\n",
              "      <td>T</td>\n",
              "      <td>4</td>\n",
              "      <td>2</td>\n",
              "      <td>health</td>\n",
              "      <td>services</td>\n",
              "      <td>...</td>\n",
              "      <td>3</td>\n",
              "      <td>2</td>\n",
              "      <td>2</td>\n",
              "      <td>1</td>\n",
              "      <td>1</td>\n",
              "      <td>5</td>\n",
              "      <td>2</td>\n",
              "      <td>15</td>\n",
              "      <td>14</td>\n",
              "      <td>15</td>\n",
              "    </tr>\n",
              "    <tr>\n",
              "      <td>4</td>\n",
              "      <td>GP</td>\n",
              "      <td>F</td>\n",
              "      <td>16</td>\n",
              "      <td>U</td>\n",
              "      <td>GT3</td>\n",
              "      <td>T</td>\n",
              "      <td>3</td>\n",
              "      <td>3</td>\n",
              "      <td>other</td>\n",
              "      <td>other</td>\n",
              "      <td>...</td>\n",
              "      <td>4</td>\n",
              "      <td>3</td>\n",
              "      <td>2</td>\n",
              "      <td>1</td>\n",
              "      <td>2</td>\n",
              "      <td>5</td>\n",
              "      <td>4</td>\n",
              "      <td>6</td>\n",
              "      <td>10</td>\n",
              "      <td>10</td>\n",
              "    </tr>\n",
              "  </tbody>\n",
              "</table>\n",
              "<p>5 rows × 33 columns</p>\n",
              "</div>"
            ],
            "text/plain": [
              "  school sex  age address famsize Pstatus  Medu  Fedu     Mjob      Fjob  ...  \\\n",
              "0     GP   F   18       U     GT3       A     4     4  at_home   teacher  ...   \n",
              "1     GP   F   17       U     GT3       T     1     1  at_home     other  ...   \n",
              "2     GP   F   15       U     LE3       T     1     1  at_home     other  ...   \n",
              "3     GP   F   15       U     GT3       T     4     2   health  services  ...   \n",
              "4     GP   F   16       U     GT3       T     3     3    other     other  ...   \n",
              "\n",
              "  famrel freetime  goout  Dalc  Walc health absences  G1  G2  G3  \n",
              "0      4        3      4     1     1      3        6   5   6   6  \n",
              "1      5        3      3     1     1      3        4   5   5   6  \n",
              "2      4        3      2     2     3      3       10   7   8  10  \n",
              "3      3        2      2     1     1      5        2  15  14  15  \n",
              "4      4        3      2     1     2      5        4   6  10  10  \n",
              "\n",
              "[5 rows x 33 columns]"
            ]
          },
          "metadata": {}
        }
      ],
      "execution_count": 3,
      "metadata": {}
    },
    {
      "cell_type": "markdown",
      "source": [
        "## Test train split"
      ],
      "metadata": {}
    },
    {
      "cell_type": "code",
      "source": [
        "### creating a subset of data for prediction \n",
        "test_data = student_data.sample(n=10)\n",
        "print(list(test_data.index))\n",
        "### updating the training data\n",
        "student_data = student_data.drop(list(test_data.index))\n",
        "student_data.shape"
      ],
      "outputs": [
        {
          "output_type": "stream",
          "name": "stdout",
          "text": [
            "[162, 288, 144, 17, 119, 211, 263, 88, 218, 206]\n"
          ]
        },
        {
          "output_type": "execute_result",
          "execution_count": 4,
          "data": {
            "text/plain": [
              "(385, 33)"
            ]
          },
          "metadata": {}
        }
      ],
      "execution_count": 4,
      "metadata": {}
    },
    {
      "cell_type": "markdown",
      "source": [
        "#### Selecting variables of intereset for our research"
      ],
      "metadata": {}
    },
    {
      "cell_type": "code",
      "source": [
        "student_data = student_data[['sex','famsize','Pstatus','famsup','studytime','failures','romantic','goout','absences','Dalc','traveltime','paid','schoolsup', 'G3']]"
      ],
      "outputs": [],
      "execution_count": 5,
      "metadata": {}
    },
    {
      "cell_type": "code",
      "source": [
        "student_data.shape"
      ],
      "outputs": [
        {
          "output_type": "execute_result",
          "execution_count": 6,
          "data": {
            "text/plain": [
              "(385, 14)"
            ]
          },
          "metadata": {}
        }
      ],
      "execution_count": 6,
      "metadata": {}
    },
    {
      "cell_type": "code",
      "source": [
        "features = student_data.drop('G3',axis=1)"
      ],
      "outputs": [],
      "execution_count": 7,
      "metadata": {}
    },
    {
      "cell_type": "code",
      "source": [
        "features.columns"
      ],
      "outputs": [
        {
          "output_type": "execute_result",
          "execution_count": 8,
          "data": {
            "text/plain": [
              "Index(['sex', 'famsize', 'Pstatus', 'famsup', 'studytime', 'failures',\n",
              "       'romantic', 'goout', 'absences', 'Dalc', 'traveltime', 'paid',\n",
              "       'schoolsup'],\n",
              "      dtype='object')"
            ]
          },
          "metadata": {}
        }
      ],
      "execution_count": 8,
      "metadata": {}
    },
    {
      "cell_type": "markdown",
      "source": [
        "## Explanatory Analysis"
      ],
      "metadata": {}
    },
    {
      "cell_type": "markdown",
      "source": [
        "### Scatter plots "
      ],
      "metadata": {}
    },
    {
      "cell_type": "code",
      "source": [
        "## pairplot\n",
        "\n",
        "import seaborn as sn\n",
        "sn.pairplot(student_data)"
      ],
      "outputs": [
        {
          "output_type": "execute_result",
          "execution_count": 9,
          "data": {
            "text/plain": [
              "<seaborn.axisgrid.PairGrid at 0x130efae50>"
            ]
          },
          "metadata": {}
        },
        {
          "output_type": "display_data",
          "data": {
            "image/png": "[encoded data removed]",
            "text/plain": [
              "<Figure size 1260x1260 with 56 Axes>"
            ]
          },
          "metadata": {
            "needs_background": "light"
          }
        }
      ],
      "execution_count": 9,
      "metadata": {}
    },
    {
      "cell_type": "code",
      "source": [
        "#scatter plot\n",
        "import matplotlib.pyplot as plt\n",
        "plt.figure(figsize=(35, 4))\n",
        "\n",
        "\n",
        "# i: index\n",
        "for i, col in enumerate(features.columns):\n",
        "    plt.subplot(1, 13, i+1)\n",
        "    x = features[col]\n",
        "    y = student_data['G3']\n",
        "    plt.plot(x, y, 'o')\n",
        "    # Create regression line\n",
        "    plt.plot(np.unique(x))\n",
        "    plt.title(col)\n",
        "    plt.xlabel(col)\n",
        "    plt.ylabel('grade')"
      ],
      "outputs": [
        {
          "output_type": "display_data",
          "data": {
            "image/png": "[encoded data removed]",
            "text/plain": [
              "<Figure size 2520x288 with 13 Axes>"
            ]
          },
          "metadata": {
            "needs_background": "light"
          }
        }
      ],
      "execution_count": 10,
      "metadata": {}
    },
    {
      "cell_type": "markdown",
      "source": [
        "### Correlation matrix"
      ],
      "metadata": {}
    },
    {
      "cell_type": "code",
      "source": [
        "#correlation\n",
        "import seaborn as sns\n",
        "correlation_matrix = student_data.corr().round(2)\n",
        "# annot = True to print the values inside the square\n",
        "plt.figure(figsize = (16,5))\n",
        "sns.heatmap(data=correlation_matrix, annot=True)"
      ],
      "outputs": [
        {
          "output_type": "execute_result",
          "execution_count": 11,
          "data": {
            "text/plain": [
              "<matplotlib.axes._subplots.AxesSubplot at 0x135598050>"
            ]
          },
          "metadata": {}
        },
        {
          "output_type": "display_data",
          "data": {
            "image/png": "[encoded data removed]",
            "text/plain": [
              "<Figure size 1152x360 with 2 Axes>"
            ]
          },
          "metadata": {
            "needs_background": "light"
          }
        }
      ],
      "execution_count": 11,
      "metadata": {}
    },
    {
      "cell_type": "markdown",
      "source": [
        "## Regression Analysis"
      ],
      "metadata": {}
    },
    {
      "cell_type": "markdown",
      "source": [
        "### FULL MODEL"
      ],
      "metadata": {}
    },
    {
      "cell_type": "code",
      "source": [
        "reg = smf.ols('G3~  C(sex) + C(famsize) + C(Pstatus) + C(traveltime) + C(studytime)+failures +C(schoolsup)+ C(famsup)+C(paid)+ C(romantic) + C(goout) + C(Dalc) +absences', data = student_data).fit()\n",
        "reg.summary()"
      ],
      "outputs": [
        {
          "output_type": "execute_result",
          "execution_count": 12,
          "data": {
            "text/html": [
              "<table class=\"simpletable\">\n",
              "<caption>OLS Regression Results</caption>\n",
              "<tr>\n",
              "  <th>Dep. Variable:</th>           <td>G3</td>        <th>  R-squared:         </th> <td>   0.215</td>\n",
              "</tr>\n",
              "<tr>\n",
              "  <th>Model:</th>                   <td>OLS</td>       <th>  Adj. R-squared:    </th> <td>   0.165</td>\n",
              "</tr>\n",
              "<tr>\n",
              "  <th>Method:</th>             <td>Least Squares</td>  <th>  F-statistic:       </th> <td>   4.298</td>\n",
              "</tr>\n",
              "<tr>\n",
              "  <th>Date:</th>             <td>Sun, 13 Oct 2019</td> <th>  Prob (F-statistic):</th> <td>7.55e-10</td>\n",
              "</tr>\n",
              "<tr>\n",
              "  <th>Time:</th>                 <td>21:15:26</td>     <th>  Log-Likelihood:    </th> <td> -1083.9</td>\n",
              "</tr>\n",
              "<tr>\n",
              "  <th>No. Observations:</th>      <td>   385</td>      <th>  AIC:               </th> <td>   2216.</td>\n",
              "</tr>\n",
              "<tr>\n",
              "  <th>Df Residuals:</th>          <td>   361</td>      <th>  BIC:               </th> <td>   2311.</td>\n",
              "</tr>\n",
              "<tr>\n",
              "  <th>Df Model:</th>              <td>    23</td>      <th>                     </th>     <td> </td>   \n",
              "</tr>\n",
              "<tr>\n",
              "  <th>Covariance Type:</th>      <td>nonrobust</td>    <th>                     </th>     <td> </td>   \n",
              "</tr>\n",
              "</table>\n",
              "<table class=\"simpletable\">\n",
              "<tr>\n",
              "           <td></td>              <th>coef</th>     <th>std err</th>      <th>t</th>      <th>P>|t|</th>  <th>[0.025</th>    <th>0.975]</th>  \n",
              "</tr>\n",
              "<tr>\n",
              "  <th>Intercept</th>           <td>   11.1743</td> <td>    1.246</td> <td>    8.965</td> <td> 0.000</td> <td>    8.723</td> <td>   13.625</td>\n",
              "</tr>\n",
              "<tr>\n",
              "  <th>C(sex)[T.M]</th>         <td>    1.3332</td> <td>    0.483</td> <td>    2.761</td> <td> 0.006</td> <td>    0.384</td> <td>    2.283</td>\n",
              "</tr>\n",
              "<tr>\n",
              "  <th>C(famsize)[T.LE3]</th>   <td>    0.9922</td> <td>    0.494</td> <td>    2.009</td> <td> 0.045</td> <td>    0.021</td> <td>    1.963</td>\n",
              "</tr>\n",
              "<tr>\n",
              "  <th>C(Pstatus)[T.T]</th>     <td>   -0.7757</td> <td>    0.724</td> <td>   -1.072</td> <td> 0.285</td> <td>   -2.199</td> <td>    0.648</td>\n",
              "</tr>\n",
              "<tr>\n",
              "  <th>C(traveltime)[T.2]</th>  <td>   -0.8875</td> <td>    0.495</td> <td>   -1.794</td> <td> 0.074</td> <td>   -1.860</td> <td>    0.085</td>\n",
              "</tr>\n",
              "<tr>\n",
              "  <th>C(traveltime)[T.3]</th>  <td>   -0.6220</td> <td>    0.965</td> <td>   -0.645</td> <td> 0.519</td> <td>   -2.519</td> <td>    1.275</td>\n",
              "</tr>\n",
              "<tr>\n",
              "  <th>C(traveltime)[T.4]</th>  <td>   -0.7846</td> <td>    1.591</td> <td>   -0.493</td> <td> 0.622</td> <td>   -3.914</td> <td>    2.344</td>\n",
              "</tr>\n",
              "<tr>\n",
              "  <th>C(studytime)[T.2]</th>   <td>   -0.0649</td> <td>    0.559</td> <td>   -0.116</td> <td> 0.908</td> <td>   -1.165</td> <td>    1.035</td>\n",
              "</tr>\n",
              "<tr>\n",
              "  <th>C(studytime)[T.3]</th>   <td>    1.4569</td> <td>    0.757</td> <td>    1.926</td> <td> 0.055</td> <td>   -0.031</td> <td>    2.945</td>\n",
              "</tr>\n",
              "<tr>\n",
              "  <th>C(studytime)[T.4]</th>   <td>    0.3176</td> <td>    0.954</td> <td>    0.333</td> <td> 0.739</td> <td>   -1.559</td> <td>    2.194</td>\n",
              "</tr>\n",
              "<tr>\n",
              "  <th>C(schoolsup)[T.yes]</th> <td>   -0.9905</td> <td>    0.655</td> <td>   -1.512</td> <td> 0.131</td> <td>   -2.279</td> <td>    0.298</td>\n",
              "</tr>\n",
              "<tr>\n",
              "  <th>C(famsup)[T.yes]</th>    <td>   -0.5932</td> <td>    0.474</td> <td>   -1.252</td> <td> 0.211</td> <td>   -1.525</td> <td>    0.338</td>\n",
              "</tr>\n",
              "<tr>\n",
              "  <th>C(paid)[T.yes]</th>      <td>    0.7064</td> <td>    0.478</td> <td>    1.478</td> <td> 0.140</td> <td>   -0.234</td> <td>    1.646</td>\n",
              "</tr>\n",
              "<tr>\n",
              "  <th>C(romantic)[T.yes]</th>  <td>   -1.3477</td> <td>    0.473</td> <td>   -2.849</td> <td> 0.005</td> <td>   -2.278</td> <td>   -0.417</td>\n",
              "</tr>\n",
              "<tr>\n",
              "  <th>C(goout)[T.2]</th>       <td>    0.9878</td> <td>    0.992</td> <td>    0.996</td> <td> 0.320</td> <td>   -0.963</td> <td>    2.939</td>\n",
              "</tr>\n",
              "<tr>\n",
              "  <th>C(goout)[T.3]</th>       <td>    0.3858</td> <td>    0.974</td> <td>    0.396</td> <td> 0.692</td> <td>   -1.529</td> <td>    2.301</td>\n",
              "</tr>\n",
              "<tr>\n",
              "  <th>C(goout)[T.4]</th>       <td>   -0.2518</td> <td>    1.012</td> <td>   -0.249</td> <td> 0.804</td> <td>   -2.242</td> <td>    1.738</td>\n",
              "</tr>\n",
              "<tr>\n",
              "  <th>C(goout)[T.5]</th>       <td>   -0.3911</td> <td>    1.096</td> <td>   -0.357</td> <td> 0.722</td> <td>   -2.547</td> <td>    1.765</td>\n",
              "</tr>\n",
              "<tr>\n",
              "  <th>C(Dalc)[T.2]</th>        <td>   -1.0081</td> <td>    0.581</td> <td>   -1.737</td> <td> 0.083</td> <td>   -2.150</td> <td>    0.134</td>\n",
              "</tr>\n",
              "<tr>\n",
              "  <th>C(Dalc)[T.3]</th>        <td>   -0.4782</td> <td>    0.928</td> <td>   -0.515</td> <td> 0.607</td> <td>   -2.304</td> <td>    1.348</td>\n",
              "</tr>\n",
              "<tr>\n",
              "  <th>C(Dalc)[T.4]</th>        <td>   -1.5312</td> <td>    1.583</td> <td>   -0.967</td> <td> 0.334</td> <td>   -4.644</td> <td>    1.581</td>\n",
              "</tr>\n",
              "<tr>\n",
              "  <th>C(Dalc)[T.5]</th>        <td>    0.7646</td> <td>    1.522</td> <td>    0.502</td> <td> 0.616</td> <td>   -2.229</td> <td>    3.758</td>\n",
              "</tr>\n",
              "<tr>\n",
              "  <th>failures</th>            <td>   -1.8011</td> <td>    0.316</td> <td>   -5.702</td> <td> 0.000</td> <td>   -2.422</td> <td>   -1.180</td>\n",
              "</tr>\n",
              "<tr>\n",
              "  <th>absences</th>            <td>    0.0533</td> <td>    0.027</td> <td>    1.942</td> <td> 0.053</td> <td>   -0.001</td> <td>    0.107</td>\n",
              "</tr>\n",
              "</table>\n",
              "<table class=\"simpletable\">\n",
              "<tr>\n",
              "  <th>Omnibus:</th>       <td>24.731</td> <th>  Durbin-Watson:     </th> <td>   2.095</td>\n",
              "</tr>\n",
              "<tr>\n",
              "  <th>Prob(Omnibus):</th> <td> 0.000</td> <th>  Jarque-Bera (JB):  </th> <td>  27.630</td>\n",
              "</tr>\n",
              "<tr>\n",
              "  <th>Skew:</th>          <td>-0.633</td> <th>  Prob(JB):          </th> <td>1.00e-06</td>\n",
              "</tr>\n",
              "<tr>\n",
              "  <th>Kurtosis:</th>      <td> 3.344</td> <th>  Cond. No.          </th> <td>    97.0</td>\n",
              "</tr>\n",
              "</table><br/><br/>Warnings:<br/>[1] Standard Errors assume that the covariance matrix of the errors is correctly specified."
            ],
            "text/plain": [
              "<class 'statsmodels.iolib.summary.Summary'>\n",
              "\"\"\"\n",
              "                            OLS Regression Results                            \n",
              "==============================================================================\n",
              "Dep. Variable:                     G3   R-squared:                       0.215\n",
              "Model:                            OLS   Adj. R-squared:                  0.165\n",
              "Method:                 Least Squares   F-statistic:                     4.298\n",
              "Date:                Sun, 13 Oct 2019   Prob (F-statistic):           7.55e-10\n",
              "Time:                        21:15:26   Log-Likelihood:                -1083.9\n",
              "No. Observations:                 385   AIC:                             2216.\n",
              "Df Residuals:                     361   BIC:                             2311.\n",
              "Df Model:                          23                                         \n",
              "Covariance Type:            nonrobust                                         \n",
              "=======================================================================================\n",
              "                          coef    std err          t      P>|t|      [0.025      0.975]\n",
              "---------------------------------------------------------------------------------------\n",
              "Intercept              11.1743      1.246      8.965      0.000       8.723      13.625\n",
              "C(sex)[T.M]             1.3332      0.483      2.761      0.006       0.384       2.283\n",
              "C(famsize)[T.LE3]       0.9922      0.494      2.009      0.045       0.021       1.963\n",
              "C(Pstatus)[T.T]        -0.7757      0.724     -1.072      0.285      -2.199       0.648\n",
              "C(traveltime)[T.2]     -0.8875      0.495     -1.794      0.074      -1.860       0.085\n",
              "C(traveltime)[T.3]     -0.6220      0.965     -0.645      0.519      -2.519       1.275\n",
              "C(traveltime)[T.4]     -0.7846      1.591     -0.493      0.622      -3.914       2.344\n",
              "C(studytime)[T.2]      -0.0649      0.559     -0.116      0.908      -1.165       1.035\n",
              "C(studytime)[T.3]       1.4569      0.757      1.926      0.055      -0.031       2.945\n",
              "C(studytime)[T.4]       0.3176      0.954      0.333      0.739      -1.559       2.194\n",
              "C(schoolsup)[T.yes]    -0.9905      0.655     -1.512      0.131      -2.279       0.298\n",
              "C(famsup)[T.yes]       -0.5932      0.474     -1.252      0.211      -1.525       0.338\n",
              "C(paid)[T.yes]          0.7064      0.478      1.478      0.140      -0.234       1.646\n",
              "C(romantic)[T.yes]     -1.3477      0.473     -2.849      0.005      -2.278      -0.417\n",
              "C(goout)[T.2]           0.9878      0.992      0.996      0.320      -0.963       2.939\n",
              "C(goout)[T.3]           0.3858      0.974      0.396      0.692      -1.529       2.301\n",
              "C(goout)[T.4]          -0.2518      1.012     -0.249      0.804      -2.242       1.738\n",
              "C(goout)[T.5]          -0.3911      1.096     -0.357      0.722      -2.547       1.765\n",
              "C(Dalc)[T.2]           -1.0081      0.581     -1.737      0.083      -2.150       0.134\n",
              "C(Dalc)[T.3]           -0.4782      0.928     -0.515      0.607      -2.304       1.348\n",
              "C(Dalc)[T.4]           -1.5312      1.583     -0.967      0.334      -4.644       1.581\n",
              "C(Dalc)[T.5]            0.7646      1.522      0.502      0.616      -2.229       3.758\n",
              "failures               -1.8011      0.316     -5.702      0.000      -2.422      -1.180\n",
              "absences                0.0533      0.027      1.942      0.053      -0.001       0.107\n",
              "==============================================================================\n",
              "Omnibus:                       24.731   Durbin-Watson:                   2.095\n",
              "Prob(Omnibus):                  0.000   Jarque-Bera (JB):               27.630\n",
              "Skew:                          -0.633   Prob(JB):                     1.00e-06\n",
              "Kurtosis:                       3.344   Cond. No.                         97.0\n",
              "==============================================================================\n",
              "\n",
              "Warnings:\n",
              "[1] Standard Errors assume that the covariance matrix of the errors is correctly specified.\n",
              "\"\"\""
            ]
          },
          "metadata": {}
        }
      ],
      "execution_count": 12,
      "metadata": {}
    },
    {
      "cell_type": "markdown",
      "source": [
        "### INDIVIDUAL T tests"
      ],
      "metadata": {}
    },
    {
      "cell_type": "markdown",
      "source": [
        "## sex\n",
        "\n",
        "p-value close to 0.05 => significant"
      ],
      "metadata": {}
    },
    {
      "cell_type": "code",
      "source": [
        "reg_sex = smf.ols('G3~ C(sex)', data=student_data).fit()\n",
        "reg_sex.summary()"
      ],
      "outputs": [
        {
          "output_type": "execute_result",
          "execution_count": 13,
          "data": {
            "text/html": [
              "<table class=\"simpletable\">\n",
              "<caption>OLS Regression Results</caption>\n",
              "<tr>\n",
              "  <th>Dep. Variable:</th>           <td>G3</td>        <th>  R-squared:         </th> <td>   0.012</td>\n",
              "</tr>\n",
              "<tr>\n",
              "  <th>Model:</th>                   <td>OLS</td>       <th>  Adj. R-squared:    </th> <td>   0.010</td>\n",
              "</tr>\n",
              "<tr>\n",
              "  <th>Method:</th>             <td>Least Squares</td>  <th>  F-statistic:       </th> <td>   4.690</td>\n",
              "</tr>\n",
              "<tr>\n",
              "  <th>Date:</th>             <td>Sun, 13 Oct 2019</td> <th>  Prob (F-statistic):</th>  <td>0.0310</td> \n",
              "</tr>\n",
              "<tr>\n",
              "  <th>Time:</th>                 <td>21:15:26</td>     <th>  Log-Likelihood:    </th> <td> -1128.1</td>\n",
              "</tr>\n",
              "<tr>\n",
              "  <th>No. Observations:</th>      <td>   385</td>      <th>  AIC:               </th> <td>   2260.</td>\n",
              "</tr>\n",
              "<tr>\n",
              "  <th>Df Residuals:</th>          <td>   383</td>      <th>  BIC:               </th> <td>   2268.</td>\n",
              "</tr>\n",
              "<tr>\n",
              "  <th>Df Model:</th>              <td>     1</td>      <th>                     </th>     <td> </td>   \n",
              "</tr>\n",
              "<tr>\n",
              "  <th>Covariance Type:</th>      <td>nonrobust</td>    <th>                     </th>     <td> </td>   \n",
              "</tr>\n",
              "</table>\n",
              "<table class=\"simpletable\">\n",
              "<tr>\n",
              "       <td></td>          <th>coef</th>     <th>std err</th>      <th>t</th>      <th>P>|t|</th>  <th>[0.025</th>    <th>0.975]</th>  \n",
              "</tr>\n",
              "<tr>\n",
              "  <th>Intercept</th>   <td>    9.9951</td> <td>    0.318</td> <td>   31.415</td> <td> 0.000</td> <td>    9.370</td> <td>   10.621</td>\n",
              "</tr>\n",
              "<tr>\n",
              "  <th>C(sex)[T.M]</th> <td>    1.0049</td> <td>    0.464</td> <td>    2.166</td> <td> 0.031</td> <td>    0.093</td> <td>    1.917</td>\n",
              "</tr>\n",
              "</table>\n",
              "<table class=\"simpletable\">\n",
              "<tr>\n",
              "  <th>Omnibus:</th>       <td>31.071</td> <th>  Durbin-Watson:     </th> <td>   2.018</td>\n",
              "</tr>\n",
              "<tr>\n",
              "  <th>Prob(Omnibus):</th> <td> 0.000</td> <th>  Jarque-Bera (JB):  </th> <td>  36.218</td>\n",
              "</tr>\n",
              "<tr>\n",
              "  <th>Skew:</th>          <td>-0.725</td> <th>  Prob(JB):          </th> <td>1.37e-08</td>\n",
              "</tr>\n",
              "<tr>\n",
              "  <th>Kurtosis:</th>      <td> 3.394</td> <th>  Cond. No.          </th> <td>    2.55</td>\n",
              "</tr>\n",
              "</table><br/><br/>Warnings:<br/>[1] Standard Errors assume that the covariance matrix of the errors is correctly specified."
            ],
            "text/plain": [
              "<class 'statsmodels.iolib.summary.Summary'>\n",
              "\"\"\"\n",
              "                            OLS Regression Results                            \n",
              "==============================================================================\n",
              "Dep. Variable:                     G3   R-squared:                       0.012\n",
              "Model:                            OLS   Adj. R-squared:                  0.010\n",
              "Method:                 Least Squares   F-statistic:                     4.690\n",
              "Date:                Sun, 13 Oct 2019   Prob (F-statistic):             0.0310\n",
              "Time:                        21:15:26   Log-Likelihood:                -1128.1\n",
              "No. Observations:                 385   AIC:                             2260.\n",
              "Df Residuals:                     383   BIC:                             2268.\n",
              "Df Model:                           1                                         \n",
              "Covariance Type:            nonrobust                                         \n",
              "===============================================================================\n",
              "                  coef    std err          t      P>|t|      [0.025      0.975]\n",
              "-------------------------------------------------------------------------------\n",
              "Intercept       9.9951      0.318     31.415      0.000       9.370      10.621\n",
              "C(sex)[T.M]     1.0049      0.464      2.166      0.031       0.093       1.917\n",
              "==============================================================================\n",
              "Omnibus:                       31.071   Durbin-Watson:                   2.018\n",
              "Prob(Omnibus):                  0.000   Jarque-Bera (JB):               36.218\n",
              "Skew:                          -0.725   Prob(JB):                     1.37e-08\n",
              "Kurtosis:                       3.394   Cond. No.                         2.55\n",
              "==============================================================================\n",
              "\n",
              "Warnings:\n",
              "[1] Standard Errors assume that the covariance matrix of the errors is correctly specified.\n",
              "\"\"\""
            ]
          },
          "metadata": {}
        }
      ],
      "execution_count": 13,
      "metadata": {}
    },
    {
      "cell_type": "markdown",
      "source": [
        "## famsize\n",
        "\n",
        "p-value > 0.05 => not significant"
      ],
      "metadata": {}
    },
    {
      "cell_type": "code",
      "source": [
        "reg_famsize = smf.ols('G3~ C(famsize)', data=student_data).fit()\n",
        "reg_famsize.summary()"
      ],
      "outputs": [
        {
          "output_type": "execute_result",
          "execution_count": 14,
          "data": {
            "text/html": [
              "<table class=\"simpletable\">\n",
              "<caption>OLS Regression Results</caption>\n",
              "<tr>\n",
              "  <th>Dep. Variable:</th>           <td>G3</td>        <th>  R-squared:         </th> <td>   0.007</td>\n",
              "</tr>\n",
              "<tr>\n",
              "  <th>Model:</th>                   <td>OLS</td>       <th>  Adj. R-squared:    </th> <td>   0.005</td>\n",
              "</tr>\n",
              "<tr>\n",
              "  <th>Method:</th>             <td>Least Squares</td>  <th>  F-statistic:       </th> <td>   2.859</td>\n",
              "</tr>\n",
              "<tr>\n",
              "  <th>Date:</th>             <td>Sun, 13 Oct 2019</td> <th>  Prob (F-statistic):</th>  <td>0.0917</td> \n",
              "</tr>\n",
              "<tr>\n",
              "  <th>Time:</th>                 <td>21:15:26</td>     <th>  Log-Likelihood:    </th> <td> -1129.0</td>\n",
              "</tr>\n",
              "<tr>\n",
              "  <th>No. Observations:</th>      <td>   385</td>      <th>  AIC:               </th> <td>   2262.</td>\n",
              "</tr>\n",
              "<tr>\n",
              "  <th>Df Residuals:</th>          <td>   383</td>      <th>  BIC:               </th> <td>   2270.</td>\n",
              "</tr>\n",
              "<tr>\n",
              "  <th>Df Model:</th>              <td>     1</td>      <th>                     </th>     <td> </td>   \n",
              "</tr>\n",
              "<tr>\n",
              "  <th>Covariance Type:</th>      <td>nonrobust</td>    <th>                     </th>     <td> </td>   \n",
              "</tr>\n",
              "</table>\n",
              "<table class=\"simpletable\">\n",
              "<tr>\n",
              "          <td></td>             <th>coef</th>     <th>std err</th>      <th>t</th>      <th>P>|t|</th>  <th>[0.025</th>    <th>0.975]</th>  \n",
              "</tr>\n",
              "<tr>\n",
              "  <th>Intercept</th>         <td>   10.2161</td> <td>    0.276</td> <td>   37.058</td> <td> 0.000</td> <td>    9.674</td> <td>   10.758</td>\n",
              "</tr>\n",
              "<tr>\n",
              "  <th>C(famsize)[T.LE3]</th> <td>    0.8642</td> <td>    0.511</td> <td>    1.691</td> <td> 0.092</td> <td>   -0.141</td> <td>    1.869</td>\n",
              "</tr>\n",
              "</table>\n",
              "<table class=\"simpletable\">\n",
              "<tr>\n",
              "  <th>Omnibus:</th>       <td>29.726</td> <th>  Durbin-Watson:     </th> <td>   2.018</td>\n",
              "</tr>\n",
              "<tr>\n",
              "  <th>Prob(Omnibus):</th> <td> 0.000</td> <th>  Jarque-Bera (JB):  </th> <td>  34.349</td>\n",
              "</tr>\n",
              "<tr>\n",
              "  <th>Skew:</th>          <td>-0.708</td> <th>  Prob(JB):          </th> <td>3.48e-08</td>\n",
              "</tr>\n",
              "<tr>\n",
              "  <th>Kurtosis:</th>      <td> 3.366</td> <th>  Cond. No.          </th> <td>    2.43</td>\n",
              "</tr>\n",
              "</table><br/><br/>Warnings:<br/>[1] Standard Errors assume that the covariance matrix of the errors is correctly specified."
            ],
            "text/plain": [
              "<class 'statsmodels.iolib.summary.Summary'>\n",
              "\"\"\"\n",
              "                            OLS Regression Results                            \n",
              "==============================================================================\n",
              "Dep. Variable:                     G3   R-squared:                       0.007\n",
              "Model:                            OLS   Adj. R-squared:                  0.005\n",
              "Method:                 Least Squares   F-statistic:                     2.859\n",
              "Date:                Sun, 13 Oct 2019   Prob (F-statistic):             0.0917\n",
              "Time:                        21:15:26   Log-Likelihood:                -1129.0\n",
              "No. Observations:                 385   AIC:                             2262.\n",
              "Df Residuals:                     383   BIC:                             2270.\n",
              "Df Model:                           1                                         \n",
              "Covariance Type:            nonrobust                                         \n",
              "=====================================================================================\n",
              "                        coef    std err          t      P>|t|      [0.025      0.975]\n",
              "-------------------------------------------------------------------------------------\n",
              "Intercept            10.2161      0.276     37.058      0.000       9.674      10.758\n",
              "C(famsize)[T.LE3]     0.8642      0.511      1.691      0.092      -0.141       1.869\n",
              "==============================================================================\n",
              "Omnibus:                       29.726   Durbin-Watson:                   2.018\n",
              "Prob(Omnibus):                  0.000   Jarque-Bera (JB):               34.349\n",
              "Skew:                          -0.708   Prob(JB):                     3.48e-08\n",
              "Kurtosis:                       3.366   Cond. No.                         2.43\n",
              "==============================================================================\n",
              "\n",
              "Warnings:\n",
              "[1] Standard Errors assume that the covariance matrix of the errors is correctly specified.\n",
              "\"\"\""
            ]
          },
          "metadata": {}
        }
      ],
      "execution_count": 14,
      "metadata": {}
    },
    {
      "cell_type": "markdown",
      "source": [
        "### Pstatus\n",
        "p-value > 0.05 => not-significant"
      ],
      "metadata": {}
    },
    {
      "cell_type": "code",
      "source": [
        "reg_pstatus = smf.ols('G3~ C(Pstatus)', data=student_data).fit()\n",
        "reg_pstatus.summary()"
      ],
      "outputs": [
        {
          "output_type": "execute_result",
          "execution_count": 15,
          "data": {
            "text/html": [
              "<table class=\"simpletable\">\n",
              "<caption>OLS Regression Results</caption>\n",
              "<tr>\n",
              "  <th>Dep. Variable:</th>           <td>G3</td>        <th>  R-squared:         </th> <td>   0.004</td>\n",
              "</tr>\n",
              "<tr>\n",
              "  <th>Model:</th>                   <td>OLS</td>       <th>  Adj. R-squared:    </th> <td>   0.001</td>\n",
              "</tr>\n",
              "<tr>\n",
              "  <th>Method:</th>             <td>Least Squares</td>  <th>  F-statistic:       </th> <td>   1.486</td>\n",
              "</tr>\n",
              "<tr>\n",
              "  <th>Date:</th>             <td>Sun, 13 Oct 2019</td> <th>  Prob (F-statistic):</th>  <td> 0.224</td> \n",
              "</tr>\n",
              "<tr>\n",
              "  <th>Time:</th>                 <td>21:15:26</td>     <th>  Log-Likelihood:    </th> <td> -1129.7</td>\n",
              "</tr>\n",
              "<tr>\n",
              "  <th>No. Observations:</th>      <td>   385</td>      <th>  AIC:               </th> <td>   2263.</td>\n",
              "</tr>\n",
              "<tr>\n",
              "  <th>Df Residuals:</th>          <td>   383</td>      <th>  BIC:               </th> <td>   2271.</td>\n",
              "</tr>\n",
              "<tr>\n",
              "  <th>Df Model:</th>              <td>     1</td>      <th>                     </th>     <td> </td>   \n",
              "</tr>\n",
              "<tr>\n",
              "  <th>Covariance Type:</th>      <td>nonrobust</td>    <th>                     </th>     <td> </td>   \n",
              "</tr>\n",
              "</table>\n",
              "<table class=\"simpletable\">\n",
              "<tr>\n",
              "         <td></td>            <th>coef</th>     <th>std err</th>      <th>t</th>      <th>P>|t|</th>  <th>[0.025</th>    <th>0.975]</th>  \n",
              "</tr>\n",
              "<tr>\n",
              "  <th>Intercept</th>       <td>   11.3000</td> <td>    0.721</td> <td>   15.662</td> <td> 0.000</td> <td>    9.881</td> <td>   12.719</td>\n",
              "</tr>\n",
              "<tr>\n",
              "  <th>C(Pstatus)[T.T]</th> <td>   -0.9290</td> <td>    0.762</td> <td>   -1.219</td> <td> 0.224</td> <td>   -2.428</td> <td>    0.570</td>\n",
              "</tr>\n",
              "</table>\n",
              "<table class=\"simpletable\">\n",
              "<tr>\n",
              "  <th>Omnibus:</th>       <td>31.068</td> <th>  Durbin-Watson:     </th> <td>   2.015</td>\n",
              "</tr>\n",
              "<tr>\n",
              "  <th>Prob(Omnibus):</th> <td> 0.000</td> <th>  Jarque-Bera (JB):  </th> <td>  36.217</td>\n",
              "</tr>\n",
              "<tr>\n",
              "  <th>Skew:</th>          <td>-0.726</td> <th>  Prob(JB):          </th> <td>1.37e-08</td>\n",
              "</tr>\n",
              "<tr>\n",
              "  <th>Kurtosis:</th>      <td> 3.385</td> <th>  Cond. No.          </th> <td>    6.05</td>\n",
              "</tr>\n",
              "</table><br/><br/>Warnings:<br/>[1] Standard Errors assume that the covariance matrix of the errors is correctly specified."
            ],
            "text/plain": [
              "<class 'statsmodels.iolib.summary.Summary'>\n",
              "\"\"\"\n",
              "                            OLS Regression Results                            \n",
              "==============================================================================\n",
              "Dep. Variable:                     G3   R-squared:                       0.004\n",
              "Model:                            OLS   Adj. R-squared:                  0.001\n",
              "Method:                 Least Squares   F-statistic:                     1.486\n",
              "Date:                Sun, 13 Oct 2019   Prob (F-statistic):              0.224\n",
              "Time:                        21:15:26   Log-Likelihood:                -1129.7\n",
              "No. Observations:                 385   AIC:                             2263.\n",
              "Df Residuals:                     383   BIC:                             2271.\n",
              "Df Model:                           1                                         \n",
              "Covariance Type:            nonrobust                                         \n",
              "===================================================================================\n",
              "                      coef    std err          t      P>|t|      [0.025      0.975]\n",
              "-----------------------------------------------------------------------------------\n",
              "Intercept          11.3000      0.721     15.662      0.000       9.881      12.719\n",
              "C(Pstatus)[T.T]    -0.9290      0.762     -1.219      0.224      -2.428       0.570\n",
              "==============================================================================\n",
              "Omnibus:                       31.068   Durbin-Watson:                   2.015\n",
              "Prob(Omnibus):                  0.000   Jarque-Bera (JB):               36.217\n",
              "Skew:                          -0.726   Prob(JB):                     1.37e-08\n",
              "Kurtosis:                       3.385   Cond. No.                         6.05\n",
              "==============================================================================\n",
              "\n",
              "Warnings:\n",
              "[1] Standard Errors assume that the covariance matrix of the errors is correctly specified.\n",
              "\"\"\""
            ]
          },
          "metadata": {}
        }
      ],
      "execution_count": 15,
      "metadata": {}
    },
    {
      "cell_type": "markdown",
      "source": [
        "## traveltime\n",
        "p-value > 0.05 so not significant"
      ],
      "metadata": {}
    },
    {
      "cell_type": "code",
      "source": [
        "reg_travel = smf.ols('G3~ C(traveltime)', data=student_data).fit()\n",
        "reg_travel.summary()"
      ],
      "outputs": [
        {
          "output_type": "execute_result",
          "execution_count": 16,
          "data": {
            "text/html": [
              "<table class=\"simpletable\">\n",
              "<caption>OLS Regression Results</caption>\n",
              "<tr>\n",
              "  <th>Dep. Variable:</th>           <td>G3</td>        <th>  R-squared:         </th> <td>   0.014</td>\n",
              "</tr>\n",
              "<tr>\n",
              "  <th>Model:</th>                   <td>OLS</td>       <th>  Adj. R-squared:    </th> <td>   0.006</td>\n",
              "</tr>\n",
              "<tr>\n",
              "  <th>Method:</th>             <td>Least Squares</td>  <th>  F-statistic:       </th> <td>   1.752</td>\n",
              "</tr>\n",
              "<tr>\n",
              "  <th>Date:</th>             <td>Sun, 13 Oct 2019</td> <th>  Prob (F-statistic):</th>  <td> 0.156</td> \n",
              "</tr>\n",
              "<tr>\n",
              "  <th>Time:</th>                 <td>21:15:26</td>     <th>  Log-Likelihood:    </th> <td> -1127.8</td>\n",
              "</tr>\n",
              "<tr>\n",
              "  <th>No. Observations:</th>      <td>   385</td>      <th>  AIC:               </th> <td>   2264.</td>\n",
              "</tr>\n",
              "<tr>\n",
              "  <th>Df Residuals:</th>          <td>   381</td>      <th>  BIC:               </th> <td>   2279.</td>\n",
              "</tr>\n",
              "<tr>\n",
              "  <th>Df Model:</th>              <td>     3</td>      <th>                     </th>     <td> </td>   \n",
              "</tr>\n",
              "<tr>\n",
              "  <th>Covariance Type:</th>      <td>nonrobust</td>    <th>                     </th>     <td> </td>   \n",
              "</tr>\n",
              "</table>\n",
              "<table class=\"simpletable\">\n",
              "<tr>\n",
              "           <td></td>             <th>coef</th>     <th>std err</th>      <th>t</th>      <th>P>|t|</th>  <th>[0.025</th>    <th>0.975]</th>  \n",
              "</tr>\n",
              "<tr>\n",
              "  <th>Intercept</th>          <td>   10.8167</td> <td>    0.287</td> <td>   37.642</td> <td> 0.000</td> <td>   10.252</td> <td>   11.382</td>\n",
              "</tr>\n",
              "<tr>\n",
              "  <th>C(traveltime)[T.2]</th> <td>   -0.7975</td> <td>    0.531</td> <td>   -1.502</td> <td> 0.134</td> <td>   -1.841</td> <td>    0.246</td>\n",
              "</tr>\n",
              "<tr>\n",
              "  <th>C(traveltime)[T.3]</th> <td>   -1.5895</td> <td>    1.012</td> <td>   -1.570</td> <td> 0.117</td> <td>   -3.580</td> <td>    0.401</td>\n",
              "</tr>\n",
              "<tr>\n",
              "  <th>C(traveltime)[T.4]</th> <td>   -2.0667</td> <td>    1.635</td> <td>   -1.264</td> <td> 0.207</td> <td>   -5.282</td> <td>    1.148</td>\n",
              "</tr>\n",
              "</table>\n",
              "<table class=\"simpletable\">\n",
              "<tr>\n",
              "  <th>Omnibus:</th>       <td>31.956</td> <th>  Durbin-Watson:     </th> <td>   2.036</td>\n",
              "</tr>\n",
              "<tr>\n",
              "  <th>Prob(Omnibus):</th> <td> 0.000</td> <th>  Jarque-Bera (JB):  </th> <td>  37.466</td>\n",
              "</tr>\n",
              "<tr>\n",
              "  <th>Skew:</th>          <td>-0.737</td> <th>  Prob(JB):          </th> <td>7.32e-09</td>\n",
              "</tr>\n",
              "<tr>\n",
              "  <th>Kurtosis:</th>      <td> 3.406</td> <th>  Cond. No.          </th> <td>    7.38</td>\n",
              "</tr>\n",
              "</table><br/><br/>Warnings:<br/>[1] Standard Errors assume that the covariance matrix of the errors is correctly specified."
            ],
            "text/plain": [
              "<class 'statsmodels.iolib.summary.Summary'>\n",
              "\"\"\"\n",
              "                            OLS Regression Results                            \n",
              "==============================================================================\n",
              "Dep. Variable:                     G3   R-squared:                       0.014\n",
              "Model:                            OLS   Adj. R-squared:                  0.006\n",
              "Method:                 Least Squares   F-statistic:                     1.752\n",
              "Date:                Sun, 13 Oct 2019   Prob (F-statistic):              0.156\n",
              "Time:                        21:15:26   Log-Likelihood:                -1127.8\n",
              "No. Observations:                 385   AIC:                             2264.\n",
              "Df Residuals:                     381   BIC:                             2279.\n",
              "Df Model:                           3                                         \n",
              "Covariance Type:            nonrobust                                         \n",
              "======================================================================================\n",
              "                         coef    std err          t      P>|t|      [0.025      0.975]\n",
              "--------------------------------------------------------------------------------------\n",
              "Intercept             10.8167      0.287     37.642      0.000      10.252      11.382\n",
              "C(traveltime)[T.2]    -0.7975      0.531     -1.502      0.134      -1.841       0.246\n",
              "C(traveltime)[T.3]    -1.5895      1.012     -1.570      0.117      -3.580       0.401\n",
              "C(traveltime)[T.4]    -2.0667      1.635     -1.264      0.207      -5.282       1.148\n",
              "==============================================================================\n",
              "Omnibus:                       31.956   Durbin-Watson:                   2.036\n",
              "Prob(Omnibus):                  0.000   Jarque-Bera (JB):               37.466\n",
              "Skew:                          -0.737   Prob(JB):                     7.32e-09\n",
              "Kurtosis:                       3.406   Cond. No.                         7.38\n",
              "==============================================================================\n",
              "\n",
              "Warnings:\n",
              "[1] Standard Errors assume that the covariance matrix of the errors is correctly specified.\n",
              "\"\"\""
            ]
          },
          "metadata": {}
        }
      ],
      "execution_count": 16,
      "metadata": {}
    },
    {
      "cell_type": "markdown",
      "source": [
        "## studytime\n",
        "p-value close to 0.05 so significant"
      ],
      "metadata": {}
    },
    {
      "cell_type": "code",
      "source": [
        "reg_studytime = smf.ols('G3~ C(studytime)', data=student_data).fit()\n",
        "reg_studytime.summary()"
      ],
      "outputs": [
        {
          "output_type": "execute_result",
          "execution_count": 17,
          "data": {
            "text/html": [
              "<table class=\"simpletable\">\n",
              "<caption>OLS Regression Results</caption>\n",
              "<tr>\n",
              "  <th>Dep. Variable:</th>           <td>G3</td>        <th>  R-squared:         </th> <td>   0.012</td>\n",
              "</tr>\n",
              "<tr>\n",
              "  <th>Model:</th>                   <td>OLS</td>       <th>  Adj. R-squared:    </th> <td>   0.004</td>\n",
              "</tr>\n",
              "<tr>\n",
              "  <th>Method:</th>             <td>Least Squares</td>  <th>  F-statistic:       </th> <td>   1.497</td>\n",
              "</tr>\n",
              "<tr>\n",
              "  <th>Date:</th>             <td>Sun, 13 Oct 2019</td> <th>  Prob (F-statistic):</th>  <td> 0.215</td> \n",
              "</tr>\n",
              "<tr>\n",
              "  <th>Time:</th>                 <td>21:15:26</td>     <th>  Log-Likelihood:    </th> <td> -1128.2</td>\n",
              "</tr>\n",
              "<tr>\n",
              "  <th>No. Observations:</th>      <td>   385</td>      <th>  AIC:               </th> <td>   2264.</td>\n",
              "</tr>\n",
              "<tr>\n",
              "  <th>Df Residuals:</th>          <td>   381</td>      <th>  BIC:               </th> <td>   2280.</td>\n",
              "</tr>\n",
              "<tr>\n",
              "  <th>Df Model:</th>              <td>     3</td>      <th>                     </th>     <td> </td>   \n",
              "</tr>\n",
              "<tr>\n",
              "  <th>Covariance Type:</th>      <td>nonrobust</td>    <th>                     </th>     <td> </td>   \n",
              "</tr>\n",
              "</table>\n",
              "<table class=\"simpletable\">\n",
              "<tr>\n",
              "          <td></td>             <th>coef</th>     <th>std err</th>      <th>t</th>      <th>P>|t|</th>  <th>[0.025</th>    <th>0.975]</th>  \n",
              "</tr>\n",
              "<tr>\n",
              "  <th>Intercept</th>         <td>   10.2376</td> <td>    0.453</td> <td>   22.577</td> <td> 0.000</td> <td>    9.346</td> <td>   11.129</td>\n",
              "</tr>\n",
              "<tr>\n",
              "  <th>C(studytime)[T.2]</th> <td>   -0.0624</td> <td>    0.559</td> <td>   -0.112</td> <td> 0.911</td> <td>   -1.162</td> <td>    1.037</td>\n",
              "</tr>\n",
              "<tr>\n",
              "  <th>C(studytime)[T.3]</th> <td>    1.1592</td> <td>    0.732</td> <td>    1.584</td> <td> 0.114</td> <td>   -0.279</td> <td>    2.598</td>\n",
              "</tr>\n",
              "<tr>\n",
              "  <th>C(studytime)[T.4]</th> <td>    1.0216</td> <td>    0.987</td> <td>    1.035</td> <td> 0.301</td> <td>   -0.920</td> <td>    2.963</td>\n",
              "</tr>\n",
              "</table>\n",
              "<table class=\"simpletable\">\n",
              "<tr>\n",
              "  <th>Omnibus:</th>       <td>34.972</td> <th>  Durbin-Watson:     </th> <td>   2.020</td>\n",
              "</tr>\n",
              "<tr>\n",
              "  <th>Prob(Omnibus):</th> <td> 0.000</td> <th>  Jarque-Bera (JB):  </th> <td>  41.849</td>\n",
              "</tr>\n",
              "<tr>\n",
              "  <th>Skew:</th>          <td>-0.768</td> <th>  Prob(JB):          </th> <td>8.18e-10</td>\n",
              "</tr>\n",
              "<tr>\n",
              "  <th>Kurtosis:</th>      <td> 3.498</td> <th>  Cond. No.          </th> <td>    5.55</td>\n",
              "</tr>\n",
              "</table><br/><br/>Warnings:<br/>[1] Standard Errors assume that the covariance matrix of the errors is correctly specified."
            ],
            "text/plain": [
              "<class 'statsmodels.iolib.summary.Summary'>\n",
              "\"\"\"\n",
              "                            OLS Regression Results                            \n",
              "==============================================================================\n",
              "Dep. Variable:                     G3   R-squared:                       0.012\n",
              "Model:                            OLS   Adj. R-squared:                  0.004\n",
              "Method:                 Least Squares   F-statistic:                     1.497\n",
              "Date:                Sun, 13 Oct 2019   Prob (F-statistic):              0.215\n",
              "Time:                        21:15:26   Log-Likelihood:                -1128.2\n",
              "No. Observations:                 385   AIC:                             2264.\n",
              "Df Residuals:                     381   BIC:                             2280.\n",
              "Df Model:                           3                                         \n",
              "Covariance Type:            nonrobust                                         \n",
              "=====================================================================================\n",
              "                        coef    std err          t      P>|t|      [0.025      0.975]\n",
              "-------------------------------------------------------------------------------------\n",
              "Intercept            10.2376      0.453     22.577      0.000       9.346      11.129\n",
              "C(studytime)[T.2]    -0.0624      0.559     -0.112      0.911      -1.162       1.037\n",
              "C(studytime)[T.3]     1.1592      0.732      1.584      0.114      -0.279       2.598\n",
              "C(studytime)[T.4]     1.0216      0.987      1.035      0.301      -0.920       2.963\n",
              "==============================================================================\n",
              "Omnibus:                       34.972   Durbin-Watson:                   2.020\n",
              "Prob(Omnibus):                  0.000   Jarque-Bera (JB):               41.849\n",
              "Skew:                          -0.768   Prob(JB):                     8.18e-10\n",
              "Kurtosis:                       3.498   Cond. No.                         5.55\n",
              "==============================================================================\n",
              "\n",
              "Warnings:\n",
              "[1] Standard Errors assume that the covariance matrix of the errors is correctly specified.\n",
              "\"\"\""
            ]
          },
          "metadata": {}
        }
      ],
      "execution_count": 17,
      "metadata": {}
    },
    {
      "cell_type": "markdown",
      "source": [
        "## failures\n",
        "p-value <0.05 => significant"
      ],
      "metadata": {}
    },
    {
      "cell_type": "code",
      "source": [
        "reg_failures = smf.ols('G3~ failures', data=student_data).fit()\n",
        "reg_failures.summary()"
      ],
      "outputs": [
        {
          "output_type": "execute_result",
          "execution_count": 18,
          "data": {
            "text/html": [
              "<table class=\"simpletable\">\n",
              "<caption>OLS Regression Results</caption>\n",
              "<tr>\n",
              "  <th>Dep. Variable:</th>           <td>G3</td>        <th>  R-squared:         </th> <td>   0.119</td>\n",
              "</tr>\n",
              "<tr>\n",
              "  <th>Model:</th>                   <td>OLS</td>       <th>  Adj. R-squared:    </th> <td>   0.116</td>\n",
              "</tr>\n",
              "<tr>\n",
              "  <th>Method:</th>             <td>Least Squares</td>  <th>  F-statistic:       </th> <td>   51.53</td>\n",
              "</tr>\n",
              "<tr>\n",
              "  <th>Date:</th>             <td>Sun, 13 Oct 2019</td> <th>  Prob (F-statistic):</th> <td>3.70e-12</td>\n",
              "</tr>\n",
              "<tr>\n",
              "  <th>Time:</th>                 <td>21:15:26</td>     <th>  Log-Likelihood:    </th> <td> -1106.2</td>\n",
              "</tr>\n",
              "<tr>\n",
              "  <th>No. Observations:</th>      <td>   385</td>      <th>  AIC:               </th> <td>   2216.</td>\n",
              "</tr>\n",
              "<tr>\n",
              "  <th>Df Residuals:</th>          <td>   383</td>      <th>  BIC:               </th> <td>   2224.</td>\n",
              "</tr>\n",
              "<tr>\n",
              "  <th>Df Model:</th>              <td>     1</td>      <th>                     </th>     <td> </td>   \n",
              "</tr>\n",
              "<tr>\n",
              "  <th>Covariance Type:</th>      <td>nonrobust</td>    <th>                     </th>     <td> </td>   \n",
              "</tr>\n",
              "</table>\n",
              "<table class=\"simpletable\">\n",
              "<tr>\n",
              "      <td></td>         <th>coef</th>     <th>std err</th>      <th>t</th>      <th>P>|t|</th>  <th>[0.025</th>    <th>0.975]</th>  \n",
              "</tr>\n",
              "<tr>\n",
              "  <th>Intercept</th> <td>   11.1656</td> <td>    0.239</td> <td>   46.639</td> <td> 0.000</td> <td>   10.695</td> <td>   11.636</td>\n",
              "</tr>\n",
              "<tr>\n",
              "  <th>failures</th>  <td>   -2.1675</td> <td>    0.302</td> <td>   -7.178</td> <td> 0.000</td> <td>   -2.761</td> <td>   -1.574</td>\n",
              "</tr>\n",
              "</table>\n",
              "<table class=\"simpletable\">\n",
              "<tr>\n",
              "  <th>Omnibus:</th>       <td>34.082</td> <th>  Durbin-Watson:     </th> <td>   2.044</td>\n",
              "</tr>\n",
              "<tr>\n",
              "  <th>Prob(Omnibus):</th> <td> 0.000</td> <th>  Jarque-Bera (JB):  </th> <td>  40.745</td>\n",
              "</tr>\n",
              "<tr>\n",
              "  <th>Skew:</th>          <td>-0.743</td> <th>  Prob(JB):          </th> <td>1.42e-09</td>\n",
              "</tr>\n",
              "<tr>\n",
              "  <th>Kurtosis:</th>      <td> 3.578</td> <th>  Cond. No.          </th> <td>    1.64</td>\n",
              "</tr>\n",
              "</table><br/><br/>Warnings:<br/>[1] Standard Errors assume that the covariance matrix of the errors is correctly specified."
            ],
            "text/plain": [
              "<class 'statsmodels.iolib.summary.Summary'>\n",
              "\"\"\"\n",
              "                            OLS Regression Results                            \n",
              "==============================================================================\n",
              "Dep. Variable:                     G3   R-squared:                       0.119\n",
              "Model:                            OLS   Adj. R-squared:                  0.116\n",
              "Method:                 Least Squares   F-statistic:                     51.53\n",
              "Date:                Sun, 13 Oct 2019   Prob (F-statistic):           3.70e-12\n",
              "Time:                        21:15:26   Log-Likelihood:                -1106.2\n",
              "No. Observations:                 385   AIC:                             2216.\n",
              "Df Residuals:                     383   BIC:                             2224.\n",
              "Df Model:                           1                                         \n",
              "Covariance Type:            nonrobust                                         \n",
              "==============================================================================\n",
              "                 coef    std err          t      P>|t|      [0.025      0.975]\n",
              "------------------------------------------------------------------------------\n",
              "Intercept     11.1656      0.239     46.639      0.000      10.695      11.636\n",
              "failures      -2.1675      0.302     -7.178      0.000      -2.761      -1.574\n",
              "==============================================================================\n",
              "Omnibus:                       34.082   Durbin-Watson:                   2.044\n",
              "Prob(Omnibus):                  0.000   Jarque-Bera (JB):               40.745\n",
              "Skew:                          -0.743   Prob(JB):                     1.42e-09\n",
              "Kurtosis:                       3.578   Cond. No.                         1.64\n",
              "==============================================================================\n",
              "\n",
              "Warnings:\n",
              "[1] Standard Errors assume that the covariance matrix of the errors is correctly specified.\n",
              "\"\"\""
            ]
          },
          "metadata": {}
        }
      ],
      "execution_count": 18,
      "metadata": {}
    },
    {
      "cell_type": "markdown",
      "source": [
        "## schoolsup\n",
        "p-value > 0.05 so not significant"
      ],
      "metadata": {}
    },
    {
      "cell_type": "code",
      "source": [
        "reg_schoolsup = smf.ols('G3~ C(schoolsup)', data=student_data).fit()\n",
        "reg_schoolsup.summary()"
      ],
      "outputs": [
        {
          "output_type": "execute_result",
          "execution_count": 19,
          "data": {
            "text/html": [
              "<table class=\"simpletable\">\n",
              "<caption>OLS Regression Results</caption>\n",
              "<tr>\n",
              "  <th>Dep. Variable:</th>           <td>G3</td>        <th>  R-squared:         </th> <td>   0.008</td>\n",
              "</tr>\n",
              "<tr>\n",
              "  <th>Model:</th>                   <td>OLS</td>       <th>  Adj. R-squared:    </th> <td>   0.005</td>\n",
              "</tr>\n",
              "<tr>\n",
              "  <th>Method:</th>             <td>Least Squares</td>  <th>  F-statistic:       </th> <td>   3.041</td>\n",
              "</tr>\n",
              "<tr>\n",
              "  <th>Date:</th>             <td>Sun, 13 Oct 2019</td> <th>  Prob (F-statistic):</th>  <td>0.0820</td> \n",
              "</tr>\n",
              "<tr>\n",
              "  <th>Time:</th>                 <td>21:15:26</td>     <th>  Log-Likelihood:    </th> <td> -1128.9</td>\n",
              "</tr>\n",
              "<tr>\n",
              "  <th>No. Observations:</th>      <td>   385</td>      <th>  AIC:               </th> <td>   2262.</td>\n",
              "</tr>\n",
              "<tr>\n",
              "  <th>Df Residuals:</th>          <td>   383</td>      <th>  BIC:               </th> <td>   2270.</td>\n",
              "</tr>\n",
              "<tr>\n",
              "  <th>Df Model:</th>              <td>     1</td>      <th>                     </th>     <td> </td>   \n",
              "</tr>\n",
              "<tr>\n",
              "  <th>Covariance Type:</th>      <td>nonrobust</td>    <th>                     </th>     <td> </td>   \n",
              "</tr>\n",
              "</table>\n",
              "<table class=\"simpletable\">\n",
              "<tr>\n",
              "           <td></td>              <th>coef</th>     <th>std err</th>      <th>t</th>      <th>P>|t|</th>  <th>[0.025</th>    <th>0.975]</th>  \n",
              "</tr>\n",
              "<tr>\n",
              "  <th>Intercept</th>           <td>   10.6239</td> <td>    0.249</td> <td>   42.699</td> <td> 0.000</td> <td>   10.135</td> <td>   11.113</td>\n",
              "</tr>\n",
              "<tr>\n",
              "  <th>C(schoolsup)[T.yes]</th> <td>   -1.2039</td> <td>    0.690</td> <td>   -1.744</td> <td> 0.082</td> <td>   -2.561</td> <td>    0.154</td>\n",
              "</tr>\n",
              "</table>\n",
              "<table class=\"simpletable\">\n",
              "<tr>\n",
              "  <th>Omnibus:</th>       <td>37.471</td> <th>  Durbin-Watson:     </th> <td>   1.997</td>\n",
              "</tr>\n",
              "<tr>\n",
              "  <th>Prob(Omnibus):</th> <td> 0.000</td> <th>  Jarque-Bera (JB):  </th> <td>  45.592</td>\n",
              "</tr>\n",
              "<tr>\n",
              "  <th>Skew:</th>          <td>-0.799</td> <th>  Prob(JB):          </th> <td>1.26e-10</td>\n",
              "</tr>\n",
              "<tr>\n",
              "  <th>Kurtosis:</th>      <td> 3.537</td> <th>  Cond. No.          </th> <td>    3.03</td>\n",
              "</tr>\n",
              "</table><br/><br/>Warnings:<br/>[1] Standard Errors assume that the covariance matrix of the errors is correctly specified."
            ],
            "text/plain": [
              "<class 'statsmodels.iolib.summary.Summary'>\n",
              "\"\"\"\n",
              "                            OLS Regression Results                            \n",
              "==============================================================================\n",
              "Dep. Variable:                     G3   R-squared:                       0.008\n",
              "Model:                            OLS   Adj. R-squared:                  0.005\n",
              "Method:                 Least Squares   F-statistic:                     3.041\n",
              "Date:                Sun, 13 Oct 2019   Prob (F-statistic):             0.0820\n",
              "Time:                        21:15:26   Log-Likelihood:                -1128.9\n",
              "No. Observations:                 385   AIC:                             2262.\n",
              "Df Residuals:                     383   BIC:                             2270.\n",
              "Df Model:                           1                                         \n",
              "Covariance Type:            nonrobust                                         \n",
              "=======================================================================================\n",
              "                          coef    std err          t      P>|t|      [0.025      0.975]\n",
              "---------------------------------------------------------------------------------------\n",
              "Intercept              10.6239      0.249     42.699      0.000      10.135      11.113\n",
              "C(schoolsup)[T.yes]    -1.2039      0.690     -1.744      0.082      -2.561       0.154\n",
              "==============================================================================\n",
              "Omnibus:                       37.471   Durbin-Watson:                   1.997\n",
              "Prob(Omnibus):                  0.000   Jarque-Bera (JB):               45.592\n",
              "Skew:                          -0.799   Prob(JB):                     1.26e-10\n",
              "Kurtosis:                       3.537   Cond. No.                         3.03\n",
              "==============================================================================\n",
              "\n",
              "Warnings:\n",
              "[1] Standard Errors assume that the covariance matrix of the errors is correctly specified.\n",
              "\"\"\""
            ]
          },
          "metadata": {}
        }
      ],
      "execution_count": 19,
      "metadata": {}
    },
    {
      "cell_type": "markdown",
      "source": [
        "## famsup\n",
        "p-value > 0.05 so not significant"
      ],
      "metadata": {}
    },
    {
      "cell_type": "code",
      "source": [
        "reg_famsup = smf.ols('G3~ C(famsup)', data=student_data).fit()\n",
        "reg_famsup.summary()"
      ],
      "outputs": [
        {
          "output_type": "execute_result",
          "execution_count": 20,
          "data": {
            "text/html": [
              "<table class=\"simpletable\">\n",
              "<caption>OLS Regression Results</caption>\n",
              "<tr>\n",
              "  <th>Dep. Variable:</th>           <td>G3</td>        <th>  R-squared:         </th> <td>   0.001</td>\n",
              "</tr>\n",
              "<tr>\n",
              "  <th>Model:</th>                   <td>OLS</td>       <th>  Adj. R-squared:    </th> <td>  -0.001</td>\n",
              "</tr>\n",
              "<tr>\n",
              "  <th>Method:</th>             <td>Least Squares</td>  <th>  F-statistic:       </th> <td>  0.5659</td>\n",
              "</tr>\n",
              "<tr>\n",
              "  <th>Date:</th>             <td>Sun, 13 Oct 2019</td> <th>  Prob (F-statistic):</th>  <td> 0.452</td> \n",
              "</tr>\n",
              "<tr>\n",
              "  <th>Time:</th>                 <td>21:15:26</td>     <th>  Log-Likelihood:    </th> <td> -1130.2</td>\n",
              "</tr>\n",
              "<tr>\n",
              "  <th>No. Observations:</th>      <td>   385</td>      <th>  AIC:               </th> <td>   2264.</td>\n",
              "</tr>\n",
              "<tr>\n",
              "  <th>Df Residuals:</th>          <td>   383</td>      <th>  BIC:               </th> <td>   2272.</td>\n",
              "</tr>\n",
              "<tr>\n",
              "  <th>Df Model:</th>              <td>     1</td>      <th>                     </th>     <td> </td>   \n",
              "</tr>\n",
              "<tr>\n",
              "  <th>Covariance Type:</th>      <td>nonrobust</td>    <th>                     </th>     <td> </td>   \n",
              "</tr>\n",
              "</table>\n",
              "<table class=\"simpletable\">\n",
              "<tr>\n",
              "          <td></td>            <th>coef</th>     <th>std err</th>      <th>t</th>      <th>P>|t|</th>  <th>[0.025</th>    <th>0.975]</th>  \n",
              "</tr>\n",
              "<tr>\n",
              "  <th>Intercept</th>        <td>   10.6892</td> <td>    0.376</td> <td>   28.464</td> <td> 0.000</td> <td>    9.951</td> <td>   11.428</td>\n",
              "</tr>\n",
              "<tr>\n",
              "  <th>C(famsup)[T.yes]</th> <td>   -0.3601</td> <td>    0.479</td> <td>   -0.752</td> <td> 0.452</td> <td>   -1.301</td> <td>    0.581</td>\n",
              "</tr>\n",
              "</table>\n",
              "<table class=\"simpletable\">\n",
              "<tr>\n",
              "  <th>Omnibus:</th>       <td>31.836</td> <th>  Durbin-Watson:     </th> <td>   1.997</td>\n",
              "</tr>\n",
              "<tr>\n",
              "  <th>Prob(Omnibus):</th> <td> 0.000</td> <th>  Jarque-Bera (JB):  </th> <td>  37.295</td>\n",
              "</tr>\n",
              "<tr>\n",
              "  <th>Skew:</th>          <td>-0.733</td> <th>  Prob(JB):          </th> <td>7.97e-09</td>\n",
              "</tr>\n",
              "<tr>\n",
              "  <th>Kurtosis:</th>      <td> 3.418</td> <th>  Cond. No.          </th> <td>    2.99</td>\n",
              "</tr>\n",
              "</table><br/><br/>Warnings:<br/>[1] Standard Errors assume that the covariance matrix of the errors is correctly specified."
            ],
            "text/plain": [
              "<class 'statsmodels.iolib.summary.Summary'>\n",
              "\"\"\"\n",
              "                            OLS Regression Results                            \n",
              "==============================================================================\n",
              "Dep. Variable:                     G3   R-squared:                       0.001\n",
              "Model:                            OLS   Adj. R-squared:                 -0.001\n",
              "Method:                 Least Squares   F-statistic:                    0.5659\n",
              "Date:                Sun, 13 Oct 2019   Prob (F-statistic):              0.452\n",
              "Time:                        21:15:26   Log-Likelihood:                -1130.2\n",
              "No. Observations:                 385   AIC:                             2264.\n",
              "Df Residuals:                     383   BIC:                             2272.\n",
              "Df Model:                           1                                         \n",
              "Covariance Type:            nonrobust                                         \n",
              "====================================================================================\n",
              "                       coef    std err          t      P>|t|      [0.025      0.975]\n",
              "------------------------------------------------------------------------------------\n",
              "Intercept           10.6892      0.376     28.464      0.000       9.951      11.428\n",
              "C(famsup)[T.yes]    -0.3601      0.479     -0.752      0.452      -1.301       0.581\n",
              "==============================================================================\n",
              "Omnibus:                       31.836   Durbin-Watson:                   1.997\n",
              "Prob(Omnibus):                  0.000   Jarque-Bera (JB):               37.295\n",
              "Skew:                          -0.733   Prob(JB):                     7.97e-09\n",
              "Kurtosis:                       3.418   Cond. No.                         2.99\n",
              "==============================================================================\n",
              "\n",
              "Warnings:\n",
              "[1] Standard Errors assume that the covariance matrix of the errors is correctly specified.\n",
              "\"\"\""
            ]
          },
          "metadata": {}
        }
      ],
      "execution_count": 20,
      "metadata": {}
    },
    {
      "cell_type": "markdown",
      "source": [
        "## paid\n",
        "p-value < 0.05 => significant"
      ],
      "metadata": {}
    },
    {
      "cell_type": "code",
      "source": [
        "reg_paid = smf.ols('G3~ C(paid)', data=student_data).fit()\n",
        "reg_paid.summary()"
      ],
      "outputs": [
        {
          "output_type": "execute_result",
          "execution_count": 21,
          "data": {
            "text/html": [
              "<table class=\"simpletable\">\n",
              "<caption>OLS Regression Results</caption>\n",
              "<tr>\n",
              "  <th>Dep. Variable:</th>           <td>G3</td>        <th>  R-squared:         </th> <td>   0.009</td>\n",
              "</tr>\n",
              "<tr>\n",
              "  <th>Model:</th>                   <td>OLS</td>       <th>  Adj. R-squared:    </th> <td>   0.006</td>\n",
              "</tr>\n",
              "<tr>\n",
              "  <th>Method:</th>             <td>Least Squares</td>  <th>  F-statistic:       </th> <td>   3.457</td>\n",
              "</tr>\n",
              "<tr>\n",
              "  <th>Date:</th>             <td>Sun, 13 Oct 2019</td> <th>  Prob (F-statistic):</th>  <td>0.0638</td> \n",
              "</tr>\n",
              "<tr>\n",
              "  <th>Time:</th>                 <td>21:15:26</td>     <th>  Log-Likelihood:    </th> <td> -1128.7</td>\n",
              "</tr>\n",
              "<tr>\n",
              "  <th>No. Observations:</th>      <td>   385</td>      <th>  AIC:               </th> <td>   2261.</td>\n",
              "</tr>\n",
              "<tr>\n",
              "  <th>Df Residuals:</th>          <td>   383</td>      <th>  BIC:               </th> <td>   2269.</td>\n",
              "</tr>\n",
              "<tr>\n",
              "  <th>Df Model:</th>              <td>     1</td>      <th>                     </th>     <td> </td>   \n",
              "</tr>\n",
              "<tr>\n",
              "  <th>Covariance Type:</th>      <td>nonrobust</td>    <th>                     </th>     <td> </td>   \n",
              "</tr>\n",
              "</table>\n",
              "<table class=\"simpletable\">\n",
              "<tr>\n",
              "         <td></td>           <th>coef</th>     <th>std err</th>      <th>t</th>      <th>P>|t|</th>  <th>[0.025</th>    <th>0.975]</th>  \n",
              "</tr>\n",
              "<tr>\n",
              "  <th>Intercept</th>      <td>   10.0718</td> <td>    0.315</td> <td>   31.991</td> <td> 0.000</td> <td>    9.453</td> <td>   10.691</td>\n",
              "</tr>\n",
              "<tr>\n",
              "  <th>C(paid)[T.yes]</th> <td>    0.8657</td> <td>    0.466</td> <td>    1.859</td> <td> 0.064</td> <td>   -0.050</td> <td>    1.781</td>\n",
              "</tr>\n",
              "</table>\n",
              "<table class=\"simpletable\">\n",
              "<tr>\n",
              "  <th>Omnibus:</th>       <td>26.445</td> <th>  Durbin-Watson:     </th> <td>   2.021</td>\n",
              "</tr>\n",
              "<tr>\n",
              "  <th>Prob(Omnibus):</th> <td> 0.000</td> <th>  Jarque-Bera (JB):  </th> <td>  29.901</td>\n",
              "</tr>\n",
              "<tr>\n",
              "  <th>Skew:</th>          <td>-0.662</td> <th>  Prob(JB):          </th> <td>3.21e-07</td>\n",
              "</tr>\n",
              "<tr>\n",
              "  <th>Kurtosis:</th>      <td> 3.333</td> <th>  Cond. No.          </th> <td>    2.53</td>\n",
              "</tr>\n",
              "</table><br/><br/>Warnings:<br/>[1] Standard Errors assume that the covariance matrix of the errors is correctly specified."
            ],
            "text/plain": [
              "<class 'statsmodels.iolib.summary.Summary'>\n",
              "\"\"\"\n",
              "                            OLS Regression Results                            \n",
              "==============================================================================\n",
              "Dep. Variable:                     G3   R-squared:                       0.009\n",
              "Model:                            OLS   Adj. R-squared:                  0.006\n",
              "Method:                 Least Squares   F-statistic:                     3.457\n",
              "Date:                Sun, 13 Oct 2019   Prob (F-statistic):             0.0638\n",
              "Time:                        21:15:26   Log-Likelihood:                -1128.7\n",
              "No. Observations:                 385   AIC:                             2261.\n",
              "Df Residuals:                     383   BIC:                             2269.\n",
              "Df Model:                           1                                         \n",
              "Covariance Type:            nonrobust                                         \n",
              "==================================================================================\n",
              "                     coef    std err          t      P>|t|      [0.025      0.975]\n",
              "----------------------------------------------------------------------------------\n",
              "Intercept         10.0718      0.315     31.991      0.000       9.453      10.691\n",
              "C(paid)[T.yes]     0.8657      0.466      1.859      0.064      -0.050       1.781\n",
              "==============================================================================\n",
              "Omnibus:                       26.445   Durbin-Watson:                   2.021\n",
              "Prob(Omnibus):                  0.000   Jarque-Bera (JB):               29.901\n",
              "Skew:                          -0.662   Prob(JB):                     3.21e-07\n",
              "Kurtosis:                       3.333   Cond. No.                         2.53\n",
              "==============================================================================\n",
              "\n",
              "Warnings:\n",
              "[1] Standard Errors assume that the covariance matrix of the errors is correctly specified.\n",
              "\"\"\""
            ]
          },
          "metadata": {}
        }
      ],
      "execution_count": 21,
      "metadata": {}
    },
    {
      "cell_type": "markdown",
      "source": [
        "## romantic\n",
        "p-value < 0.05 => significant"
      ],
      "metadata": {}
    },
    {
      "cell_type": "code",
      "source": [
        "reg_romantic = smf.ols('G3~ C(romantic)', data=student_data).fit()\n",
        "reg_romantic.summary()"
      ],
      "outputs": [
        {
          "output_type": "execute_result",
          "execution_count": 22,
          "data": {
            "text/html": [
              "<table class=\"simpletable\">\n",
              "<caption>OLS Regression Results</caption>\n",
              "<tr>\n",
              "  <th>Dep. Variable:</th>           <td>G3</td>        <th>  R-squared:         </th> <td>   0.021</td>\n",
              "</tr>\n",
              "<tr>\n",
              "  <th>Model:</th>                   <td>OLS</td>       <th>  Adj. R-squared:    </th> <td>   0.018</td>\n",
              "</tr>\n",
              "<tr>\n",
              "  <th>Method:</th>             <td>Least Squares</td>  <th>  F-statistic:       </th> <td>   8.175</td>\n",
              "</tr>\n",
              "<tr>\n",
              "  <th>Date:</th>             <td>Sun, 13 Oct 2019</td> <th>  Prob (F-statistic):</th>  <td>0.00448</td>\n",
              "</tr>\n",
              "<tr>\n",
              "  <th>Time:</th>                 <td>21:15:26</td>     <th>  Log-Likelihood:    </th> <td> -1126.4</td>\n",
              "</tr>\n",
              "<tr>\n",
              "  <th>No. Observations:</th>      <td>   385</td>      <th>  AIC:               </th> <td>   2257.</td>\n",
              "</tr>\n",
              "<tr>\n",
              "  <th>Df Residuals:</th>          <td>   383</td>      <th>  BIC:               </th> <td>   2265.</td>\n",
              "</tr>\n",
              "<tr>\n",
              "  <th>Df Model:</th>              <td>     1</td>      <th>                     </th>     <td> </td>   \n",
              "</tr>\n",
              "<tr>\n",
              "  <th>Covariance Type:</th>      <td>nonrobust</td>    <th>                     </th>     <td> </td>   \n",
              "</tr>\n",
              "</table>\n",
              "<table class=\"simpletable\">\n",
              "<tr>\n",
              "           <td></td>             <th>coef</th>     <th>std err</th>      <th>t</th>      <th>P>|t|</th>  <th>[0.025</th>    <th>0.975]</th>  \n",
              "</tr>\n",
              "<tr>\n",
              "  <th>Intercept</th>          <td>   10.9409</td> <td>    0.284</td> <td>   38.544</td> <td> 0.000</td> <td>   10.383</td> <td>   11.499</td>\n",
              "</tr>\n",
              "<tr>\n",
              "  <th>C(romantic)[T.yes]</th> <td>   -1.3913</td> <td>    0.487</td> <td>   -2.859</td> <td> 0.004</td> <td>   -2.348</td> <td>   -0.435</td>\n",
              "</tr>\n",
              "</table>\n",
              "<table class=\"simpletable\">\n",
              "<tr>\n",
              "  <th>Omnibus:</th>       <td>28.667</td> <th>  Durbin-Watson:     </th> <td>   2.031</td>\n",
              "</tr>\n",
              "<tr>\n",
              "  <th>Prob(Omnibus):</th> <td> 0.000</td> <th>  Jarque-Bera (JB):  </th> <td>  32.975</td>\n",
              "</tr>\n",
              "<tr>\n",
              "  <th>Skew:</th>          <td>-0.703</td> <th>  Prob(JB):          </th> <td>6.91e-08</td>\n",
              "</tr>\n",
              "<tr>\n",
              "  <th>Kurtosis:</th>      <td> 3.285</td> <th>  Cond. No.          </th> <td>    2.41</td>\n",
              "</tr>\n",
              "</table><br/><br/>Warnings:<br/>[1] Standard Errors assume that the covariance matrix of the errors is correctly specified."
            ],
            "text/plain": [
              "<class 'statsmodels.iolib.summary.Summary'>\n",
              "\"\"\"\n",
              "                            OLS Regression Results                            \n",
              "==============================================================================\n",
              "Dep. Variable:                     G3   R-squared:                       0.021\n",
              "Model:                            OLS   Adj. R-squared:                  0.018\n",
              "Method:                 Least Squares   F-statistic:                     8.175\n",
              "Date:                Sun, 13 Oct 2019   Prob (F-statistic):            0.00448\n",
              "Time:                        21:15:26   Log-Likelihood:                -1126.4\n",
              "No. Observations:                 385   AIC:                             2257.\n",
              "Df Residuals:                     383   BIC:                             2265.\n",
              "Df Model:                           1                                         \n",
              "Covariance Type:            nonrobust                                         \n",
              "======================================================================================\n",
              "                         coef    std err          t      P>|t|      [0.025      0.975]\n",
              "--------------------------------------------------------------------------------------\n",
              "Intercept             10.9409      0.284     38.544      0.000      10.383      11.499\n",
              "C(romantic)[T.yes]    -1.3913      0.487     -2.859      0.004      -2.348      -0.435\n",
              "==============================================================================\n",
              "Omnibus:                       28.667   Durbin-Watson:                   2.031\n",
              "Prob(Omnibus):                  0.000   Jarque-Bera (JB):               32.975\n",
              "Skew:                          -0.703   Prob(JB):                     6.91e-08\n",
              "Kurtosis:                       3.285   Cond. No.                         2.41\n",
              "==============================================================================\n",
              "\n",
              "Warnings:\n",
              "[1] Standard Errors assume that the covariance matrix of the errors is correctly specified.\n",
              "\"\"\""
            ]
          },
          "metadata": {}
        }
      ],
      "execution_count": 22,
      "metadata": {}
    },
    {
      "cell_type": "markdown",
      "source": [
        "## goout\n",
        "p-value > 0.05 => not significant"
      ],
      "metadata": {}
    },
    {
      "cell_type": "code",
      "source": [
        "reg_goout = smf.ols('G3~ C(goout)', data=student_data).fit()\n",
        "reg_goout.summary()"
      ],
      "outputs": [
        {
          "output_type": "execute_result",
          "execution_count": 23,
          "data": {
            "text/html": [
              "<table class=\"simpletable\">\n",
              "<caption>OLS Regression Results</caption>\n",
              "<tr>\n",
              "  <th>Dep. Variable:</th>           <td>G3</td>        <th>  R-squared:         </th> <td>   0.030</td>\n",
              "</tr>\n",
              "<tr>\n",
              "  <th>Model:</th>                   <td>OLS</td>       <th>  Adj. R-squared:    </th> <td>   0.020</td>\n",
              "</tr>\n",
              "<tr>\n",
              "  <th>Method:</th>             <td>Least Squares</td>  <th>  F-statistic:       </th> <td>   2.947</td>\n",
              "</tr>\n",
              "<tr>\n",
              "  <th>Date:</th>             <td>Sun, 13 Oct 2019</td> <th>  Prob (F-statistic):</th>  <td>0.0202</td> \n",
              "</tr>\n",
              "<tr>\n",
              "  <th>Time:</th>                 <td>21:15:26</td>     <th>  Log-Likelihood:    </th> <td> -1124.6</td>\n",
              "</tr>\n",
              "<tr>\n",
              "  <th>No. Observations:</th>      <td>   385</td>      <th>  AIC:               </th> <td>   2259.</td>\n",
              "</tr>\n",
              "<tr>\n",
              "  <th>Df Residuals:</th>          <td>   380</td>      <th>  BIC:               </th> <td>   2279.</td>\n",
              "</tr>\n",
              "<tr>\n",
              "  <th>Df Model:</th>              <td>     4</td>      <th>                     </th>     <td> </td>   \n",
              "</tr>\n",
              "<tr>\n",
              "  <th>Covariance Type:</th>      <td>nonrobust</td>    <th>                     </th>     <td> </td>   \n",
              "</tr>\n",
              "</table>\n",
              "<table class=\"simpletable\">\n",
              "<tr>\n",
              "        <td></td>           <th>coef</th>     <th>std err</th>      <th>t</th>      <th>P>|t|</th>  <th>[0.025</th>    <th>0.975]</th>  \n",
              "</tr>\n",
              "<tr>\n",
              "  <th>Intercept</th>     <td>    9.8696</td> <td>    0.943</td> <td>   10.471</td> <td> 0.000</td> <td>    8.016</td> <td>   11.723</td>\n",
              "</tr>\n",
              "<tr>\n",
              "  <th>C(goout)[T.2]</th> <td>    1.3483</td> <td>    1.044</td> <td>    1.291</td> <td> 0.198</td> <td>   -0.705</td> <td>    3.402</td>\n",
              "</tr>\n",
              "<tr>\n",
              "  <th>C(goout)[T.3]</th> <td>    1.1463</td> <td>    1.025</td> <td>    1.118</td> <td> 0.264</td> <td>   -0.869</td> <td>    3.162</td>\n",
              "</tr>\n",
              "<tr>\n",
              "  <th>C(goout)[T.4]</th> <td>   -0.1553</td> <td>    1.064</td> <td>   -0.146</td> <td> 0.884</td> <td>   -2.247</td> <td>    1.936</td>\n",
              "</tr>\n",
              "<tr>\n",
              "  <th>C(goout)[T.5]</th> <td>   -0.7323</td> <td>    1.135</td> <td>   -0.645</td> <td> 0.519</td> <td>   -2.965</td> <td>    1.500</td>\n",
              "</tr>\n",
              "</table>\n",
              "<table class=\"simpletable\">\n",
              "<tr>\n",
              "  <th>Omnibus:</th>       <td>32.492</td> <th>  Durbin-Watson:     </th> <td>   2.042</td>\n",
              "</tr>\n",
              "<tr>\n",
              "  <th>Prob(Omnibus):</th> <td> 0.000</td> <th>  Jarque-Bera (JB):  </th> <td>  38.328</td>\n",
              "</tr>\n",
              "<tr>\n",
              "  <th>Skew:</th>          <td>-0.728</td> <th>  Prob(JB):          </th> <td>4.76e-09</td>\n",
              "</tr>\n",
              "<tr>\n",
              "  <th>Kurtosis:</th>      <td> 3.518</td> <th>  Cond. No.          </th> <td>    10.5</td>\n",
              "</tr>\n",
              "</table><br/><br/>Warnings:<br/>[1] Standard Errors assume that the covariance matrix of the errors is correctly specified."
            ],
            "text/plain": [
              "<class 'statsmodels.iolib.summary.Summary'>\n",
              "\"\"\"\n",
              "                            OLS Regression Results                            \n",
              "==============================================================================\n",
              "Dep. Variable:                     G3   R-squared:                       0.030\n",
              "Model:                            OLS   Adj. R-squared:                  0.020\n",
              "Method:                 Least Squares   F-statistic:                     2.947\n",
              "Date:                Sun, 13 Oct 2019   Prob (F-statistic):             0.0202\n",
              "Time:                        21:15:26   Log-Likelihood:                -1124.6\n",
              "No. Observations:                 385   AIC:                             2259.\n",
              "Df Residuals:                     380   BIC:                             2279.\n",
              "Df Model:                           4                                         \n",
              "Covariance Type:            nonrobust                                         \n",
              "=================================================================================\n",
              "                    coef    std err          t      P>|t|      [0.025      0.975]\n",
              "---------------------------------------------------------------------------------\n",
              "Intercept         9.8696      0.943     10.471      0.000       8.016      11.723\n",
              "C(goout)[T.2]     1.3483      1.044      1.291      0.198      -0.705       3.402\n",
              "C(goout)[T.3]     1.1463      1.025      1.118      0.264      -0.869       3.162\n",
              "C(goout)[T.4]    -0.1553      1.064     -0.146      0.884      -2.247       1.936\n",
              "C(goout)[T.5]    -0.7323      1.135     -0.645      0.519      -2.965       1.500\n",
              "==============================================================================\n",
              "Omnibus:                       32.492   Durbin-Watson:                   2.042\n",
              "Prob(Omnibus):                  0.000   Jarque-Bera (JB):               38.328\n",
              "Skew:                          -0.728   Prob(JB):                     4.76e-09\n",
              "Kurtosis:                       3.518   Cond. No.                         10.5\n",
              "==============================================================================\n",
              "\n",
              "Warnings:\n",
              "[1] Standard Errors assume that the covariance matrix of the errors is correctly specified.\n",
              "\"\"\""
            ]
          },
          "metadata": {}
        }
      ],
      "execution_count": 23,
      "metadata": {}
    },
    {
      "cell_type": "markdown",
      "source": [
        "## Dalc\n",
        "p-value < 0.05 => significant"
      ],
      "metadata": {}
    },
    {
      "cell_type": "code",
      "source": [
        "reg_dalc = smf.ols('G3~ C(Dalc)', data=student_data).fit()\n",
        "reg_dalc.summary()"
      ],
      "outputs": [
        {
          "output_type": "execute_result",
          "execution_count": 24,
          "data": {
            "text/html": [
              "<table class=\"simpletable\">\n",
              "<caption>OLS Regression Results</caption>\n",
              "<tr>\n",
              "  <th>Dep. Variable:</th>           <td>G3</td>        <th>  R-squared:         </th> <td>   0.014</td>\n",
              "</tr>\n",
              "<tr>\n",
              "  <th>Model:</th>                   <td>OLS</td>       <th>  Adj. R-squared:    </th> <td>   0.004</td>\n",
              "</tr>\n",
              "<tr>\n",
              "  <th>Method:</th>             <td>Least Squares</td>  <th>  F-statistic:       </th> <td>   1.378</td>\n",
              "</tr>\n",
              "<tr>\n",
              "  <th>Date:</th>             <td>Sun, 13 Oct 2019</td> <th>  Prob (F-statistic):</th>  <td> 0.241</td> \n",
              "</tr>\n",
              "<tr>\n",
              "  <th>Time:</th>                 <td>21:15:26</td>     <th>  Log-Likelihood:    </th> <td> -1127.7</td>\n",
              "</tr>\n",
              "<tr>\n",
              "  <th>No. Observations:</th>      <td>   385</td>      <th>  AIC:               </th> <td>   2265.</td>\n",
              "</tr>\n",
              "<tr>\n",
              "  <th>Df Residuals:</th>          <td>   380</td>      <th>  BIC:               </th> <td>   2285.</td>\n",
              "</tr>\n",
              "<tr>\n",
              "  <th>Df Model:</th>              <td>     4</td>      <th>                     </th>     <td> </td>   \n",
              "</tr>\n",
              "<tr>\n",
              "  <th>Covariance Type:</th>      <td>nonrobust</td>    <th>                     </th>     <td> </td>   \n",
              "</tr>\n",
              "</table>\n",
              "<table class=\"simpletable\">\n",
              "<tr>\n",
              "        <td></td>          <th>coef</th>     <th>std err</th>      <th>t</th>      <th>P>|t|</th>  <th>[0.025</th>    <th>0.975]</th>  \n",
              "</tr>\n",
              "<tr>\n",
              "  <th>Intercept</th>    <td>   10.7732</td> <td>    0.278</td> <td>   38.774</td> <td> 0.000</td> <td>   10.227</td> <td>   11.320</td>\n",
              "</tr>\n",
              "<tr>\n",
              "  <th>C(Dalc)[T.2]</th> <td>   -1.3623</td> <td>    0.601</td> <td>   -2.265</td> <td> 0.024</td> <td>   -2.545</td> <td>   -0.180</td>\n",
              "</tr>\n",
              "<tr>\n",
              "  <th>C(Dalc)[T.3]</th> <td>   -0.2732</td> <td>    0.936</td> <td>   -0.292</td> <td> 0.770</td> <td>   -2.113</td> <td>    1.567</td>\n",
              "</tr>\n",
              "<tr>\n",
              "  <th>C(Dalc)[T.4]</th> <td>   -1.2732</td> <td>    1.635</td> <td>   -0.779</td> <td> 0.437</td> <td>   -4.488</td> <td>    1.941</td>\n",
              "</tr>\n",
              "<tr>\n",
              "  <th>C(Dalc)[T.5]</th> <td>   -0.1066</td> <td>    1.544</td> <td>   -0.069</td> <td> 0.945</td> <td>   -3.143</td> <td>    2.930</td>\n",
              "</tr>\n",
              "</table>\n",
              "<table class=\"simpletable\">\n",
              "<tr>\n",
              "  <th>Omnibus:</th>       <td>33.086</td> <th>  Durbin-Watson:     </th> <td>   2.016</td>\n",
              "</tr>\n",
              "<tr>\n",
              "  <th>Prob(Omnibus):</th> <td> 0.000</td> <th>  Jarque-Bera (JB):  </th> <td>  39.082</td>\n",
              "</tr>\n",
              "<tr>\n",
              "  <th>Skew:</th>          <td>-0.748</td> <th>  Prob(JB):          </th> <td>3.26e-09</td>\n",
              "</tr>\n",
              "<tr>\n",
              "  <th>Kurtosis:</th>      <td> 3.443</td> <th>  Cond. No.          </th> <td>    7.25</td>\n",
              "</tr>\n",
              "</table><br/><br/>Warnings:<br/>[1] Standard Errors assume that the covariance matrix of the errors is correctly specified."
            ],
            "text/plain": [
              "<class 'statsmodels.iolib.summary.Summary'>\n",
              "\"\"\"\n",
              "                            OLS Regression Results                            \n",
              "==============================================================================\n",
              "Dep. Variable:                     G3   R-squared:                       0.014\n",
              "Model:                            OLS   Adj. R-squared:                  0.004\n",
              "Method:                 Least Squares   F-statistic:                     1.378\n",
              "Date:                Sun, 13 Oct 2019   Prob (F-statistic):              0.241\n",
              "Time:                        21:15:26   Log-Likelihood:                -1127.7\n",
              "No. Observations:                 385   AIC:                             2265.\n",
              "Df Residuals:                     380   BIC:                             2285.\n",
              "Df Model:                           4                                         \n",
              "Covariance Type:            nonrobust                                         \n",
              "================================================================================\n",
              "                   coef    std err          t      P>|t|      [0.025      0.975]\n",
              "--------------------------------------------------------------------------------\n",
              "Intercept       10.7732      0.278     38.774      0.000      10.227      11.320\n",
              "C(Dalc)[T.2]    -1.3623      0.601     -2.265      0.024      -2.545      -0.180\n",
              "C(Dalc)[T.3]    -0.2732      0.936     -0.292      0.770      -2.113       1.567\n",
              "C(Dalc)[T.4]    -1.2732      1.635     -0.779      0.437      -4.488       1.941\n",
              "C(Dalc)[T.5]    -0.1066      1.544     -0.069      0.945      -3.143       2.930\n",
              "==============================================================================\n",
              "Omnibus:                       33.086   Durbin-Watson:                   2.016\n",
              "Prob(Omnibus):                  0.000   Jarque-Bera (JB):               39.082\n",
              "Skew:                          -0.748   Prob(JB):                     3.26e-09\n",
              "Kurtosis:                       3.443   Cond. No.                         7.25\n",
              "==============================================================================\n",
              "\n",
              "Warnings:\n",
              "[1] Standard Errors assume that the covariance matrix of the errors is correctly specified.\n",
              "\"\"\""
            ]
          },
          "metadata": {}
        }
      ],
      "execution_count": 24,
      "metadata": {}
    },
    {
      "cell_type": "markdown",
      "source": [
        "## absences\n",
        "p-value > 0.05 => not significant"
      ],
      "metadata": {}
    },
    {
      "cell_type": "code",
      "source": [
        "reg_absences = smf.ols('G3~ absences', data=student_data).fit()\n",
        "reg_absences.summary()"
      ],
      "outputs": [
        {
          "output_type": "execute_result",
          "execution_count": 25,
          "data": {
            "text/html": [
              "<table class=\"simpletable\">\n",
              "<caption>OLS Regression Results</caption>\n",
              "<tr>\n",
              "  <th>Dep. Variable:</th>           <td>G3</td>        <th>  R-squared:         </th> <td>   0.001</td>\n",
              "</tr>\n",
              "<tr>\n",
              "  <th>Model:</th>                   <td>OLS</td>       <th>  Adj. R-squared:    </th> <td>  -0.002</td>\n",
              "</tr>\n",
              "<tr>\n",
              "  <th>Method:</th>             <td>Least Squares</td>  <th>  F-statistic:       </th> <td>  0.2280</td>\n",
              "</tr>\n",
              "<tr>\n",
              "  <th>Date:</th>             <td>Sun, 13 Oct 2019</td> <th>  Prob (F-statistic):</th>  <td> 0.633</td> \n",
              "</tr>\n",
              "<tr>\n",
              "  <th>Time:</th>                 <td>21:15:26</td>     <th>  Log-Likelihood:    </th> <td> -1130.4</td>\n",
              "</tr>\n",
              "<tr>\n",
              "  <th>No. Observations:</th>      <td>   385</td>      <th>  AIC:               </th> <td>   2265.</td>\n",
              "</tr>\n",
              "<tr>\n",
              "  <th>Df Residuals:</th>          <td>   383</td>      <th>  BIC:               </th> <td>   2273.</td>\n",
              "</tr>\n",
              "<tr>\n",
              "  <th>Df Model:</th>              <td>     1</td>      <th>                     </th>     <td> </td>   \n",
              "</tr>\n",
              "<tr>\n",
              "  <th>Covariance Type:</th>      <td>nonrobust</td>    <th>                     </th>     <td> </td>   \n",
              "</tr>\n",
              "</table>\n",
              "<table class=\"simpletable\">\n",
              "<tr>\n",
              "      <td></td>         <th>coef</th>     <th>std err</th>      <th>t</th>      <th>P>|t|</th>  <th>[0.025</th>    <th>0.975]</th>  \n",
              "</tr>\n",
              "<tr>\n",
              "  <th>Intercept</th> <td>   10.3887</td> <td>    0.286</td> <td>   36.384</td> <td> 0.000</td> <td>    9.827</td> <td>   10.950</td>\n",
              "</tr>\n",
              "<tr>\n",
              "  <th>absences</th>  <td>    0.0138</td> <td>    0.029</td> <td>    0.477</td> <td> 0.633</td> <td>   -0.043</td> <td>    0.071</td>\n",
              "</tr>\n",
              "</table>\n",
              "<table class=\"simpletable\">\n",
              "<tr>\n",
              "  <th>Omnibus:</th>       <td>29.322</td> <th>  Durbin-Watson:     </th> <td>   2.016</td>\n",
              "</tr>\n",
              "<tr>\n",
              "  <th>Prob(Omnibus):</th> <td> 0.000</td> <th>  Jarque-Bera (JB):  </th> <td>  33.801</td>\n",
              "</tr>\n",
              "<tr>\n",
              "  <th>Skew:</th>          <td>-0.705</td> <th>  Prob(JB):          </th> <td>4.57e-08</td>\n",
              "</tr>\n",
              "<tr>\n",
              "  <th>Kurtosis:</th>      <td> 3.349</td> <th>  Cond. No.          </th> <td>    12.2</td>\n",
              "</tr>\n",
              "</table><br/><br/>Warnings:<br/>[1] Standard Errors assume that the covariance matrix of the errors is correctly specified."
            ],
            "text/plain": [
              "<class 'statsmodels.iolib.summary.Summary'>\n",
              "\"\"\"\n",
              "                            OLS Regression Results                            \n",
              "==============================================================================\n",
              "Dep. Variable:                     G3   R-squared:                       0.001\n",
              "Model:                            OLS   Adj. R-squared:                 -0.002\n",
              "Method:                 Least Squares   F-statistic:                    0.2280\n",
              "Date:                Sun, 13 Oct 2019   Prob (F-statistic):              0.633\n",
              "Time:                        21:15:26   Log-Likelihood:                -1130.4\n",
              "No. Observations:                 385   AIC:                             2265.\n",
              "Df Residuals:                     383   BIC:                             2273.\n",
              "Df Model:                           1                                         \n",
              "Covariance Type:            nonrobust                                         \n",
              "==============================================================================\n",
              "                 coef    std err          t      P>|t|      [0.025      0.975]\n",
              "------------------------------------------------------------------------------\n",
              "Intercept     10.3887      0.286     36.384      0.000       9.827      10.950\n",
              "absences       0.0138      0.029      0.477      0.633      -0.043       0.071\n",
              "==============================================================================\n",
              "Omnibus:                       29.322   Durbin-Watson:                   2.016\n",
              "Prob(Omnibus):                  0.000   Jarque-Bera (JB):               33.801\n",
              "Skew:                          -0.705   Prob(JB):                     4.57e-08\n",
              "Kurtosis:                       3.349   Cond. No.                         12.2\n",
              "==============================================================================\n",
              "\n",
              "Warnings:\n",
              "[1] Standard Errors assume that the covariance matrix of the errors is correctly specified.\n",
              "\"\"\""
            ]
          },
          "metadata": {}
        }
      ],
      "execution_count": 25,
      "metadata": {}
    },
    {
      "cell_type": "markdown",
      "source": [
        "### Significant variables : sex, failures, paid, romantic, Dalc, studytime"
      ],
      "metadata": {}
    },
    {
      "cell_type": "code",
      "source": [
        "reg_chosen = smf.ols('G3~ C(sex) + failures + C(paid) + C(romantic) + C(Dalc) + C(studytime)', data=student_data).fit()\n",
        "reg_chosen.summary()"
      ],
      "outputs": [
        {
          "output_type": "execute_result",
          "execution_count": 26,
          "data": {
            "text/html": [
              "<table class=\"simpletable\">\n",
              "<caption>OLS Regression Results</caption>\n",
              "<tr>\n",
              "  <th>Dep. Variable:</th>           <td>G3</td>        <th>  R-squared:         </th> <td>   0.166</td>\n",
              "</tr>\n",
              "<tr>\n",
              "  <th>Model:</th>                   <td>OLS</td>       <th>  Adj. R-squared:    </th> <td>   0.141</td>\n",
              "</tr>\n",
              "<tr>\n",
              "  <th>Method:</th>             <td>Least Squares</td>  <th>  F-statistic:       </th> <td>   6.738</td>\n",
              "</tr>\n",
              "<tr>\n",
              "  <th>Date:</th>             <td>Sun, 13 Oct 2019</td> <th>  Prob (F-statistic):</th> <td>2.45e-10</td>\n",
              "</tr>\n",
              "<tr>\n",
              "  <th>Time:</th>                 <td>21:15:26</td>     <th>  Log-Likelihood:    </th> <td> -1095.6</td>\n",
              "</tr>\n",
              "<tr>\n",
              "  <th>No. Observations:</th>      <td>   385</td>      <th>  AIC:               </th> <td>   2215.</td>\n",
              "</tr>\n",
              "<tr>\n",
              "  <th>Df Residuals:</th>          <td>   373</td>      <th>  BIC:               </th> <td>   2263.</td>\n",
              "</tr>\n",
              "<tr>\n",
              "  <th>Df Model:</th>              <td>    11</td>      <th>                     </th>     <td> </td>   \n",
              "</tr>\n",
              "<tr>\n",
              "  <th>Covariance Type:</th>      <td>nonrobust</td>    <th>                     </th>     <td> </td>   \n",
              "</tr>\n",
              "</table>\n",
              "<table class=\"simpletable\">\n",
              "<tr>\n",
              "           <td></td>             <th>coef</th>     <th>std err</th>      <th>t</th>      <th>P>|t|</th>  <th>[0.025</th>    <th>0.975]</th>  \n",
              "</tr>\n",
              "<tr>\n",
              "  <th>Intercept</th>          <td>   10.5219</td> <td>    0.624</td> <td>   16.856</td> <td> 0.000</td> <td>    9.294</td> <td>   11.749</td>\n",
              "</tr>\n",
              "<tr>\n",
              "  <th>C(sex)[T.M]</th>        <td>    1.4487</td> <td>    0.479</td> <td>    3.027</td> <td> 0.003</td> <td>    0.508</td> <td>    2.390</td>\n",
              "</tr>\n",
              "<tr>\n",
              "  <th>C(paid)[T.yes]</th>     <td>    0.5122</td> <td>    0.459</td> <td>    1.115</td> <td> 0.265</td> <td>   -0.391</td> <td>    1.415</td>\n",
              "</tr>\n",
              "<tr>\n",
              "  <th>C(romantic)[T.yes]</th> <td>   -1.0265</td> <td>    0.469</td> <td>   -2.188</td> <td> 0.029</td> <td>   -1.949</td> <td>   -0.104</td>\n",
              "</tr>\n",
              "<tr>\n",
              "  <th>C(Dalc)[T.2]</th>       <td>   -1.0109</td> <td>    0.576</td> <td>   -1.755</td> <td> 0.080</td> <td>   -2.143</td> <td>    0.122</td>\n",
              "</tr>\n",
              "<tr>\n",
              "  <th>C(Dalc)[T.3]</th>       <td>   -0.1847</td> <td>    0.905</td> <td>   -0.204</td> <td> 0.838</td> <td>   -1.965</td> <td>    1.595</td>\n",
              "</tr>\n",
              "<tr>\n",
              "  <th>C(Dalc)[T.4]</th>       <td>   -1.2431</td> <td>    1.563</td> <td>   -0.795</td> <td> 0.427</td> <td>   -4.316</td> <td>    1.830</td>\n",
              "</tr>\n",
              "<tr>\n",
              "  <th>C(Dalc)[T.5]</th>       <td>    0.0424</td> <td>    1.465</td> <td>    0.029</td> <td> 0.977</td> <td>   -2.839</td> <td>    2.924</td>\n",
              "</tr>\n",
              "<tr>\n",
              "  <th>C(studytime)[T.2]</th>  <td>   -0.0390</td> <td>    0.555</td> <td>   -0.070</td> <td> 0.944</td> <td>   -1.131</td> <td>    1.053</td>\n",
              "</tr>\n",
              "<tr>\n",
              "  <th>C(studytime)[T.3]</th>  <td>    1.4184</td> <td>    0.744</td> <td>    1.907</td> <td> 0.057</td> <td>   -0.044</td> <td>    2.881</td>\n",
              "</tr>\n",
              "<tr>\n",
              "  <th>C(studytime)[T.4]</th>  <td>    0.2389</td> <td>    0.955</td> <td>    0.250</td> <td> 0.803</td> <td>   -1.639</td> <td>    2.117</td>\n",
              "</tr>\n",
              "<tr>\n",
              "  <th>failures</th>           <td>   -1.9267</td> <td>    0.315</td> <td>   -6.116</td> <td> 0.000</td> <td>   -2.546</td> <td>   -1.307</td>\n",
              "</tr>\n",
              "</table>\n",
              "<table class=\"simpletable\">\n",
              "<tr>\n",
              "  <th>Omnibus:</th>       <td>32.061</td> <th>  Durbin-Watson:     </th> <td>   2.061</td>\n",
              "</tr>\n",
              "<tr>\n",
              "  <th>Prob(Omnibus):</th> <td> 0.000</td> <th>  Jarque-Bera (JB):  </th> <td>  37.719</td>\n",
              "</tr>\n",
              "<tr>\n",
              "  <th>Skew:</th>          <td>-0.722</td> <th>  Prob(JB):          </th> <td>6.45e-09</td>\n",
              "</tr>\n",
              "<tr>\n",
              "  <th>Kurtosis:</th>      <td> 3.517</td> <th>  Cond. No.          </th> <td>    10.7</td>\n",
              "</tr>\n",
              "</table><br/><br/>Warnings:<br/>[1] Standard Errors assume that the covariance matrix of the errors is correctly specified."
            ],
            "text/plain": [
              "<class 'statsmodels.iolib.summary.Summary'>\n",
              "\"\"\"\n",
              "                            OLS Regression Results                            \n",
              "==============================================================================\n",
              "Dep. Variable:                     G3   R-squared:                       0.166\n",
              "Model:                            OLS   Adj. R-squared:                  0.141\n",
              "Method:                 Least Squares   F-statistic:                     6.738\n",
              "Date:                Sun, 13 Oct 2019   Prob (F-statistic):           2.45e-10\n",
              "Time:                        21:15:26   Log-Likelihood:                -1095.6\n",
              "No. Observations:                 385   AIC:                             2215.\n",
              "Df Residuals:                     373   BIC:                             2263.\n",
              "Df Model:                          11                                         \n",
              "Covariance Type:            nonrobust                                         \n",
              "======================================================================================\n",
              "                         coef    std err          t      P>|t|      [0.025      0.975]\n",
              "--------------------------------------------------------------------------------------\n",
              "Intercept             10.5219      0.624     16.856      0.000       9.294      11.749\n",
              "C(sex)[T.M]            1.4487      0.479      3.027      0.003       0.508       2.390\n",
              "C(paid)[T.yes]         0.5122      0.459      1.115      0.265      -0.391       1.415\n",
              "C(romantic)[T.yes]    -1.0265      0.469     -2.188      0.029      -1.949      -0.104\n",
              "C(Dalc)[T.2]          -1.0109      0.576     -1.755      0.080      -2.143       0.122\n",
              "C(Dalc)[T.3]          -0.1847      0.905     -0.204      0.838      -1.965       1.595\n",
              "C(Dalc)[T.4]          -1.2431      1.563     -0.795      0.427      -4.316       1.830\n",
              "C(Dalc)[T.5]           0.0424      1.465      0.029      0.977      -2.839       2.924\n",
              "C(studytime)[T.2]     -0.0390      0.555     -0.070      0.944      -1.131       1.053\n",
              "C(studytime)[T.3]      1.4184      0.744      1.907      0.057      -0.044       2.881\n",
              "C(studytime)[T.4]      0.2389      0.955      0.250      0.803      -1.639       2.117\n",
              "failures              -1.9267      0.315     -6.116      0.000      -2.546      -1.307\n",
              "==============================================================================\n",
              "Omnibus:                       32.061   Durbin-Watson:                   2.061\n",
              "Prob(Omnibus):                  0.000   Jarque-Bera (JB):               37.719\n",
              "Skew:                          -0.722   Prob(JB):                     6.45e-09\n",
              "Kurtosis:                       3.517   Cond. No.                         10.7\n",
              "==============================================================================\n",
              "\n",
              "Warnings:\n",
              "[1] Standard Errors assume that the covariance matrix of the errors is correctly specified.\n",
              "\"\"\""
            ]
          },
          "metadata": {}
        }
      ],
      "execution_count": 26,
      "metadata": {}
    },
    {
      "cell_type": "markdown",
      "source": [
        "### Significant variables : sex, failures, romantic, studytime"
      ],
      "metadata": {}
    },
    {
      "cell_type": "code",
      "source": [
        "reg_full_model = smf.ols('G3~ C(sex) + failures + C(romantic) + C(studytime)', data=student_data).fit()\n",
        "reg_full_model.summary()"
      ],
      "outputs": [
        {
          "output_type": "execute_result",
          "execution_count": 27,
          "data": {
            "text/html": [
              "<table class=\"simpletable\">\n",
              "<caption>OLS Regression Results</caption>\n",
              "<tr>\n",
              "  <th>Dep. Variable:</th>           <td>G3</td>        <th>  R-squared:         </th> <td>   0.156</td>\n",
              "</tr>\n",
              "<tr>\n",
              "  <th>Model:</th>                   <td>OLS</td>       <th>  Adj. R-squared:    </th> <td>   0.143</td>\n",
              "</tr>\n",
              "<tr>\n",
              "  <th>Method:</th>             <td>Least Squares</td>  <th>  F-statistic:       </th> <td>   11.67</td>\n",
              "</tr>\n",
              "<tr>\n",
              "  <th>Date:</th>             <td>Sun, 13 Oct 2019</td> <th>  Prob (F-statistic):</th> <td>5.25e-12</td>\n",
              "</tr>\n",
              "<tr>\n",
              "  <th>Time:</th>                 <td>21:15:26</td>     <th>  Log-Likelihood:    </th> <td> -1097.7</td>\n",
              "</tr>\n",
              "<tr>\n",
              "  <th>No. Observations:</th>      <td>   385</td>      <th>  AIC:               </th> <td>   2209.</td>\n",
              "</tr>\n",
              "<tr>\n",
              "  <th>Df Residuals:</th>          <td>   378</td>      <th>  BIC:               </th> <td>   2237.</td>\n",
              "</tr>\n",
              "<tr>\n",
              "  <th>Df Model:</th>              <td>     6</td>      <th>                     </th>     <td> </td>   \n",
              "</tr>\n",
              "<tr>\n",
              "  <th>Covariance Type:</th>      <td>nonrobust</td>    <th>                     </th>     <td> </td>   \n",
              "</tr>\n",
              "</table>\n",
              "<table class=\"simpletable\">\n",
              "<tr>\n",
              "           <td></td>             <th>coef</th>     <th>std err</th>      <th>t</th>      <th>P>|t|</th>  <th>[0.025</th>    <th>0.975]</th>  \n",
              "</tr>\n",
              "<tr>\n",
              "  <th>Intercept</th>          <td>   10.5740</td> <td>    0.579</td> <td>   18.271</td> <td> 0.000</td> <td>    9.436</td> <td>   11.712</td>\n",
              "</tr>\n",
              "<tr>\n",
              "  <th>C(sex)[T.M]</th>        <td>    1.3041</td> <td>    0.464</td> <td>    2.811</td> <td> 0.005</td> <td>    0.392</td> <td>    2.216</td>\n",
              "</tr>\n",
              "<tr>\n",
              "  <th>C(romantic)[T.yes]</th> <td>   -1.0021</td> <td>    0.466</td> <td>   -2.152</td> <td> 0.032</td> <td>   -1.918</td> <td>   -0.086</td>\n",
              "</tr>\n",
              "<tr>\n",
              "  <th>C(studytime)[T.2]</th>  <td>    0.0191</td> <td>    0.545</td> <td>    0.035</td> <td> 0.972</td> <td>   -1.052</td> <td>    1.091</td>\n",
              "</tr>\n",
              "<tr>\n",
              "  <th>C(studytime)[T.3]</th>  <td>    1.5086</td> <td>    0.733</td> <td>    2.059</td> <td> 0.040</td> <td>    0.068</td> <td>    2.949</td>\n",
              "</tr>\n",
              "<tr>\n",
              "  <th>C(studytime)[T.4]</th>  <td>    0.4646</td> <td>    0.943</td> <td>    0.493</td> <td> 0.623</td> <td>   -1.390</td> <td>    2.319</td>\n",
              "</tr>\n",
              "<tr>\n",
              "  <th>failures</th>           <td>   -2.0732</td> <td>    0.304</td> <td>   -6.811</td> <td> 0.000</td> <td>   -2.672</td> <td>   -1.475</td>\n",
              "</tr>\n",
              "</table>\n",
              "<table class=\"simpletable\">\n",
              "<tr>\n",
              "  <th>Omnibus:</th>       <td>33.422</td> <th>  Durbin-Watson:     </th> <td>   2.061</td>\n",
              "</tr>\n",
              "<tr>\n",
              "  <th>Prob(Omnibus):</th> <td> 0.000</td> <th>  Jarque-Bera (JB):  </th> <td>  39.688</td>\n",
              "</tr>\n",
              "<tr>\n",
              "  <th>Skew:</th>          <td>-0.739</td> <th>  Prob(JB):          </th> <td>2.41e-09</td>\n",
              "</tr>\n",
              "<tr>\n",
              "  <th>Kurtosis:</th>      <td> 3.537</td> <th>  Cond. No.          </th> <td>    7.27</td>\n",
              "</tr>\n",
              "</table><br/><br/>Warnings:<br/>[1] Standard Errors assume that the covariance matrix of the errors is correctly specified."
            ],
            "text/plain": [
              "<class 'statsmodels.iolib.summary.Summary'>\n",
              "\"\"\"\n",
              "                            OLS Regression Results                            \n",
              "==============================================================================\n",
              "Dep. Variable:                     G3   R-squared:                       0.156\n",
              "Model:                            OLS   Adj. R-squared:                  0.143\n",
              "Method:                 Least Squares   F-statistic:                     11.67\n",
              "Date:                Sun, 13 Oct 2019   Prob (F-statistic):           5.25e-12\n",
              "Time:                        21:15:26   Log-Likelihood:                -1097.7\n",
              "No. Observations:                 385   AIC:                             2209.\n",
              "Df Residuals:                     378   BIC:                             2237.\n",
              "Df Model:                           6                                         \n",
              "Covariance Type:            nonrobust                                         \n",
              "======================================================================================\n",
              "                         coef    std err          t      P>|t|      [0.025      0.975]\n",
              "--------------------------------------------------------------------------------------\n",
              "Intercept             10.5740      0.579     18.271      0.000       9.436      11.712\n",
              "C(sex)[T.M]            1.3041      0.464      2.811      0.005       0.392       2.216\n",
              "C(romantic)[T.yes]    -1.0021      0.466     -2.152      0.032      -1.918      -0.086\n",
              "C(studytime)[T.2]      0.0191      0.545      0.035      0.972      -1.052       1.091\n",
              "C(studytime)[T.3]      1.5086      0.733      2.059      0.040       0.068       2.949\n",
              "C(studytime)[T.4]      0.4646      0.943      0.493      0.623      -1.390       2.319\n",
              "failures              -2.0732      0.304     -6.811      0.000      -2.672      -1.475\n",
              "==============================================================================\n",
              "Omnibus:                       33.422   Durbin-Watson:                   2.061\n",
              "Prob(Omnibus):                  0.000   Jarque-Bera (JB):               39.688\n",
              "Skew:                          -0.739   Prob(JB):                     2.41e-09\n",
              "Kurtosis:                       3.537   Cond. No.                         7.27\n",
              "==============================================================================\n",
              "\n",
              "Warnings:\n",
              "[1] Standard Errors assume that the covariance matrix of the errors is correctly specified.\n",
              "\"\"\""
            ]
          },
          "metadata": {}
        }
      ],
      "execution_count": 27,
      "metadata": {}
    },
    {
      "cell_type": "code",
      "source": [
        "anova_model_full = sm.stats.anova_lm(reg_full_model, typ=1)\n",
        "anova_model_full"
      ],
      "outputs": [
        {
          "output_type": "execute_result",
          "execution_count": 28,
          "data": {
            "text/html": [
              "<div>\n",
              "<style scoped>\n",
              "    .dataframe tbody tr th:only-of-type {\n",
              "        vertical-align: middle;\n",
              "    }\n",
              "\n",
              "    .dataframe tbody tr th {\n",
              "        vertical-align: top;\n",
              "    }\n",
              "\n",
              "    .dataframe thead th {\n",
              "        text-align: right;\n",
              "    }\n",
              "</style>\n",
              "<table border=\"1\" class=\"dataframe\">\n",
              "  <thead>\n",
              "    <tr style=\"text-align: right;\">\n",
              "      <th></th>\n",
              "      <th>df</th>\n",
              "      <th>sum_sq</th>\n",
              "      <th>mean_sq</th>\n",
              "      <th>F</th>\n",
              "      <th>PR(&gt;F)</th>\n",
              "    </tr>\n",
              "  </thead>\n",
              "  <tbody>\n",
              "    <tr>\n",
              "      <td>C(sex)</td>\n",
              "      <td>1.0</td>\n",
              "      <td>96.849058</td>\n",
              "      <td>96.849058</td>\n",
              "      <td>5.419937</td>\n",
              "      <td>2.043504e-02</td>\n",
              "    </tr>\n",
              "    <tr>\n",
              "      <td>C(romantic)</td>\n",
              "      <td>1.0</td>\n",
              "      <td>143.155701</td>\n",
              "      <td>143.155701</td>\n",
              "      <td>8.011383</td>\n",
              "      <td>4.896685e-03</td>\n",
              "    </tr>\n",
              "    <tr>\n",
              "      <td>C(studytime)</td>\n",
              "      <td>3.0</td>\n",
              "      <td>182.370753</td>\n",
              "      <td>60.790251</td>\n",
              "      <td>3.401988</td>\n",
              "      <td>1.786632e-02</td>\n",
              "    </tr>\n",
              "    <tr>\n",
              "      <td>failures</td>\n",
              "      <td>1.0</td>\n",
              "      <td>828.972569</td>\n",
              "      <td>828.972569</td>\n",
              "      <td>46.391563</td>\n",
              "      <td>3.826003e-11</td>\n",
              "    </tr>\n",
              "    <tr>\n",
              "      <td>Residual</td>\n",
              "      <td>378.0</td>\n",
              "      <td>6754.496075</td>\n",
              "      <td>17.869037</td>\n",
              "      <td>NaN</td>\n",
              "      <td>NaN</td>\n",
              "    </tr>\n",
              "  </tbody>\n",
              "</table>\n",
              "</div>"
            ],
            "text/plain": [
              "                 df       sum_sq     mean_sq          F        PR(>F)\n",
              "C(sex)          1.0    96.849058   96.849058   5.419937  2.043504e-02\n",
              "C(romantic)     1.0   143.155701  143.155701   8.011383  4.896685e-03\n",
              "C(studytime)    3.0   182.370753   60.790251   3.401988  1.786632e-02\n",
              "failures        1.0   828.972569  828.972569  46.391563  3.826003e-11\n",
              "Residual      378.0  6754.496075   17.869037        NaN           NaN"
            ]
          },
          "metadata": {}
        }
      ],
      "execution_count": 28,
      "metadata": {}
    },
    {
      "cell_type": "markdown",
      "source": [
        "## Model Selection -  Best Subset Selection"
      ],
      "metadata": {}
    },
    {
      "cell_type": "markdown",
      "source": [
        "### Mallow's Cp Calculation"
      ],
      "metadata": {}
    },
    {
      "cell_type": "code",
      "source": [
        "MSE_p = reg_full_model.ssr/(395-7)"
      ],
      "outputs": [],
      "execution_count": 29,
      "metadata": {}
    },
    {
      "cell_type": "code",
      "source": [
        "## Mallow's Cp\n",
        "def Cp_calc(SSE,k):\n",
        "    n = 395    \n",
        "    Cp = (SSE/MSE_p)+ 2*(k+1) -n \n",
        "    return Cp"
      ],
      "outputs": [],
      "execution_count": 30,
      "metadata": {}
    },
    {
      "cell_type": "markdown",
      "source": [
        "### Model 1 - no predictors\n",
        "G3 ~ constant"
      ],
      "metadata": {}
    },
    {
      "cell_type": "code",
      "source": [
        "student_data['null'] = 1\n",
        "reg_model_1 = smf.ols('G3~ null', data = student_data).fit()\n",
        "\n",
        "Cp_model_1 = Cp_calc(reg_model_1.ssr,0)\n",
        "model_1 = [0,reg_model_1.rsquared, reg_model_1.rsquared_adj, Cp_model_1, 'none', reg_model_1.aic, reg_model_1.bic]\n",
        "cp_table = pd.DataFrame(model_1).T"
      ],
      "outputs": [],
      "execution_count": 31,
      "metadata": {}
    },
    {
      "cell_type": "markdown",
      "source": [
        "###  Model 2 - sex only\n",
        "G3 ~ sex"
      ],
      "metadata": {}
    },
    {
      "cell_type": "code",
      "source": [
        "reg_model_2 = smf.ols('G3~ C(sex)', data = student_data).fit()\n",
        "Cp_model_2 = Cp_calc(reg_model_2.ssr,1)\n",
        "model_2 = [1,reg_model_2.rsquared, reg_model_2.rsquared_adj, Cp_model_2, 'sex', reg_model_2.aic, reg_model_2.bic]\n",
        "cp_table = cp_table.append(pd.DataFrame(model_2).T)"
      ],
      "outputs": [],
      "execution_count": 32,
      "metadata": {}
    },
    {
      "cell_type": "markdown",
      "source": [
        "### Model 3 - failures only\n",
        "G3 ~ failures"
      ],
      "metadata": {}
    },
    {
      "cell_type": "code",
      "source": [
        "reg_model_3 = smf.ols('G3~ failures', data = student_data).fit()\n",
        "Cp_model_3 = Cp_calc(reg_model_3.ssr,1)\n",
        "model_3 = [1,reg_model_3.rsquared, reg_model_3.rsquared_adj, Cp_model_3, 'failures', reg_model_3.aic, reg_model_3.bic]\n",
        "cp_table = cp_table.append(pd.DataFrame(model_3).T)"
      ],
      "outputs": [],
      "execution_count": 33,
      "metadata": {}
    },
    {
      "cell_type": "markdown",
      "source": [
        "### Model 4 - romantic only\n",
        "G3 ~ romatic"
      ],
      "metadata": {}
    },
    {
      "cell_type": "code",
      "source": [
        "reg_model_4 = smf.ols('G3~C(romantic)', data = student_data).fit()\n",
        "Cp_model_4 = Cp_calc(reg_model_4.ssr,1)\n",
        "model_4 = [1,reg_model_4.rsquared, reg_model_4.rsquared_adj, Cp_model_4, 'romantic', reg_model_4.aic, reg_model_4.bic]\n",
        "cp_table = cp_table.append(pd.DataFrame(model_4).T)"
      ],
      "outputs": [],
      "execution_count": 34,
      "metadata": {}
    },
    {
      "cell_type": "markdown",
      "source": [
        "### Model 5 - studytime only\n",
        "G3 ~ studytime"
      ],
      "metadata": {}
    },
    {
      "cell_type": "code",
      "source": [
        "reg_model_5 = smf.ols('G3~C(studytime)', data = student_data).fit()\n",
        "Cp_model_5 = Cp_calc(reg_model_5.ssr,3)\n",
        "model_5 = [1,reg_model_5.rsquared, reg_model_5.rsquared_adj, Cp_model_5, 'studytime', reg_model_5.aic, reg_model_5.bic]\n",
        "cp_table = cp_table.append(pd.DataFrame(model_5).T)"
      ],
      "outputs": [],
      "execution_count": 35,
      "metadata": {}
    },
    {
      "cell_type": "markdown",
      "source": [
        "### Model 6 - sex and failures\n",
        "G3 ~ sex + failures"
      ],
      "metadata": {}
    },
    {
      "cell_type": "code",
      "source": [
        "reg_model_6 = smf.ols('G3~C(sex) + failures', data = student_data).fit()\n",
        "Cp_model_6 = Cp_calc(reg_model_6.ssr,2)\n",
        "model_6 = [2,reg_model_6.rsquared, reg_model_6.rsquared_adj, Cp_model_6, 'sex+failures', reg_model_6.aic, reg_model_6.bic]\n",
        "cp_table = cp_table.append(pd.DataFrame(model_6).T)"
      ],
      "outputs": [],
      "execution_count": 36,
      "metadata": {}
    },
    {
      "cell_type": "markdown",
      "source": [
        "### Model 7 - sex and romantic\n",
        "G3 ~ sex + romantic"
      ],
      "metadata": {}
    },
    {
      "cell_type": "code",
      "source": [
        "reg_model_7 = smf.ols('G3~C(sex) + C(romantic)', data = student_data).fit()\n",
        "Cp_model_7 = Cp_calc(reg_model_7.ssr,2)\n",
        "model_7 = [2,reg_model_7.rsquared, reg_model_7.rsquared_adj, Cp_model_7, 'sex+romantic', reg_model_7.aic, reg_model_7.bic]\n",
        "cp_table = cp_table.append(pd.DataFrame(model_7).T)"
      ],
      "outputs": [],
      "execution_count": 37,
      "metadata": {}
    },
    {
      "cell_type": "markdown",
      "source": [
        "### Model 8 - sex and studytime\n",
        "G3 ~ sex + studytime"
      ],
      "metadata": {}
    },
    {
      "cell_type": "code",
      "source": [
        "reg_model_8 = smf.ols('G3~C(sex) + C(studytime)', data = student_data).fit()\n",
        "Cp_model_8 = Cp_calc(reg_model_8.ssr,4)\n",
        "model_8 = [2,reg_model_8.rsquared, reg_model_8.rsquared_adj, Cp_model_8, 'sex+studytime', reg_model_8.aic, reg_model_8.bic]\n",
        "cp_table = cp_table.append(pd.DataFrame(model_8).T)"
      ],
      "outputs": [],
      "execution_count": 38,
      "metadata": {}
    },
    {
      "cell_type": "markdown",
      "source": [
        "### Model 9 - failures and romantic\n",
        "G3 ~ failures + romantic"
      ],
      "metadata": {}
    },
    {
      "cell_type": "code",
      "source": [
        "reg_model_9 = smf.ols('G3~failures + C(romantic)', data = student_data).fit()\n",
        "Cp_model_9 = Cp_calc(reg_model_9.ssr,2)\n",
        "model_9 = [2,reg_model_9.rsquared, reg_model_9.rsquared_adj, Cp_model_9, 'failures+romantic', reg_model_9.aic, reg_model_9.bic]\n",
        "cp_table = cp_table.append(pd.DataFrame(model_9).T)"
      ],
      "outputs": [],
      "execution_count": 39,
      "metadata": {}
    },
    {
      "cell_type": "markdown",
      "source": [
        "### Model 10 - failures and studytime\n",
        "G3 ~ failures + studytime"
      ],
      "metadata": {}
    },
    {
      "cell_type": "code",
      "source": [
        "reg_model_10 = smf.ols('G3~failures + C(studytime)', data = student_data).fit()\n",
        "Cp_model_10 = Cp_calc(reg_model_10.ssr,4)\n",
        "model_10 = [2,reg_model_10.rsquared, reg_model_10.rsquared_adj, Cp_model_10, 'failures+studytime', reg_model_10.aic, reg_model_10.bic]\n",
        "cp_table = cp_table.append(pd.DataFrame(model_10).T)"
      ],
      "outputs": [],
      "execution_count": 40,
      "metadata": {}
    },
    {
      "cell_type": "markdown",
      "source": [
        "### Model 11 - romantic and studytime\n",
        "G3 ~ romantic + studytime"
      ],
      "metadata": {}
    },
    {
      "cell_type": "code",
      "source": [
        "reg_model_11 = smf.ols('G3~C(romantic) + C(studytime)', data = student_data).fit()\n",
        "Cp_model_11 = Cp_calc(reg_model_11.ssr,4)\n",
        "model_11 = [2,reg_model_11.rsquared, reg_model_11.rsquared_adj, Cp_model_11, 'romantic+studytime', reg_model_11.aic, reg_model_11.bic]\n",
        "cp_table = cp_table.append(pd.DataFrame(model_11).T)"
      ],
      "outputs": [],
      "execution_count": 41,
      "metadata": {}
    },
    {
      "cell_type": "markdown",
      "source": [
        "### Model 12 - sex, failures and romantic\n",
        "G3 ~ sex +failures + romantic"
      ],
      "metadata": {}
    },
    {
      "cell_type": "code",
      "source": [
        "reg_model_12 = smf.ols('G3~C(sex) + failures + C(romantic)', data = student_data).fit()\n",
        "Cp_model_12 = Cp_calc(reg_model_12.ssr,3)\n",
        "model_12 = [3,reg_model_12.rsquared, reg_model_12.rsquared_adj, Cp_model_12, 'sex+failures+romantic', reg_model_12.aic, reg_model_12.bic]\n",
        "cp_table = cp_table.append(pd.DataFrame(model_12).T)"
      ],
      "outputs": [],
      "execution_count": 42,
      "metadata": {}
    },
    {
      "cell_type": "markdown",
      "source": [
        "### Model 13 - sex, failures and studytime\n",
        "G3 ~ sex +failures + studytime"
      ],
      "metadata": {}
    },
    {
      "cell_type": "code",
      "source": [
        "reg_model_13 = smf.ols('G3~C(sex) + failures + C(studytime)', data = student_data).fit()\n",
        "Cp_model_13 = Cp_calc(reg_model_13.ssr,5)\n",
        "model_13 = [3,reg_model_13.rsquared, reg_model_13.rsquared_adj, Cp_model_13, 'sex+failues+studytime', reg_model_13.aic, reg_model_13.bic]\n",
        "cp_table = cp_table.append(pd.DataFrame(model_13).T)"
      ],
      "outputs": [],
      "execution_count": 43,
      "metadata": {}
    },
    {
      "cell_type": "markdown",
      "source": [
        "### Model 14 - sex, romantic, studytime\n",
        "G3 ~ sex+romantic+studytime"
      ],
      "metadata": {}
    },
    {
      "cell_type": "code",
      "source": [
        "reg_model_14 = smf.ols('G3~C(sex) + C(romantic) + C(studytime)', data = student_data).fit()\n",
        "Cp_model_14 = Cp_calc(reg_model_14.ssr,5)\n",
        "model_14 = [3,reg_model_14.rsquared, reg_model_14.rsquared_adj, Cp_model_14, 'sex+romantic+studytime', reg_model_14.aic, reg_model_14.bic]\n",
        "cp_table = cp_table.append(pd.DataFrame(model_14).T)"
      ],
      "outputs": [],
      "execution_count": 44,
      "metadata": {}
    },
    {
      "cell_type": "markdown",
      "source": [
        "### Model 15 - failures, romantic,studytime\n",
        "G3 ~ failures+romantic+studytime"
      ],
      "metadata": {}
    },
    {
      "cell_type": "code",
      "source": [
        "reg_model_15 = smf.ols('G3~failures+ C(romantic) + C(studytime)', data = student_data).fit()\n",
        "Cp_model_15 = Cp_calc(reg_model_15.ssr,5)\n",
        "model_15 = [3,reg_model_15.rsquared, reg_model_15.rsquared_adj, Cp_model_15, 'failures+romantic+studytime', reg_model_15.aic, reg_model_15.bic]\n",
        "cp_table = cp_table.append(pd.DataFrame(model_15).T)"
      ],
      "outputs": [],
      "execution_count": 45,
      "metadata": {}
    },
    {
      "cell_type": "markdown",
      "source": [
        "### Model 16 - sex,failures,romantic,studytime\n",
        "G3~ sex+failures+romantic+studytime"
      ],
      "metadata": {}
    },
    {
      "cell_type": "code",
      "source": [
        "Cp_model_16 = Cp_calc(reg_full_model.ssr,6)\n",
        "model_16 = [4,reg_full_model.rsquared, reg_full_model.rsquared_adj, Cp_model_16, 'sex+failures+romantic+studytime', reg_full_model.aic, reg_full_model.bic]\n",
        "cp_table = cp_table.append(pd.DataFrame(model_16).T)"
      ],
      "outputs": [],
      "execution_count": 46,
      "metadata": {}
    },
    {
      "cell_type": "markdown",
      "source": [
        "### mallows Cp, AIC, BIC table"
      ],
      "metadata": {}
    },
    {
      "cell_type": "code",
      "source": [
        "cp_table.columns = [\"Vars\",\"Rsquared\", \"Adj_Rsquared\", \"Mallows_Cp\",\"Predictors\",\"AIC\",\"BIC\"]\n",
        "cp_table"
      ],
      "outputs": [
        {
          "output_type": "execute_result",
          "execution_count": 47,
          "data": {
            "text/html": [
              "<div>\n",
              "<style scoped>\n",
              "    .dataframe tbody tr th:only-of-type {\n",
              "        vertical-align: middle;\n",
              "    }\n",
              "\n",
              "    .dataframe tbody tr th {\n",
              "        vertical-align: top;\n",
              "    }\n",
              "\n",
              "    .dataframe thead th {\n",
              "        text-align: right;\n",
              "    }\n",
              "</style>\n",
              "<table border=\"1\" class=\"dataframe\">\n",
              "  <thead>\n",
              "    <tr style=\"text-align: right;\">\n",
              "      <th></th>\n",
              "      <th>Vars</th>\n",
              "      <th>Rsquared</th>\n",
              "      <th>Adj_Rsquared</th>\n",
              "      <th>Mallows_Cp</th>\n",
              "      <th>Predictors</th>\n",
              "      <th>AIC</th>\n",
              "      <th>BIC</th>\n",
              "    </tr>\n",
              "  </thead>\n",
              "  <tbody>\n",
              "    <tr>\n",
              "      <td>0</td>\n",
              "      <td>0</td>\n",
              "      <td>0</td>\n",
              "      <td>-0.00261097</td>\n",
              "      <td>66.8815</td>\n",
              "      <td>none</td>\n",
              "      <td>2264.94</td>\n",
              "      <td>2272.84</td>\n",
              "    </tr>\n",
              "    <tr>\n",
              "      <td>0</td>\n",
              "      <td>1</td>\n",
              "      <td>0.0120973</td>\n",
              "      <td>0.00951791</td>\n",
              "      <td>63.3181</td>\n",
              "      <td>sex</td>\n",
              "      <td>2260.25</td>\n",
              "      <td>2268.16</td>\n",
              "    </tr>\n",
              "    <tr>\n",
              "      <td>0</td>\n",
              "      <td>1</td>\n",
              "      <td>0.118578</td>\n",
              "      <td>0.116277</td>\n",
              "      <td>14.3496</td>\n",
              "      <td>failures</td>\n",
              "      <td>2216.34</td>\n",
              "      <td>2224.25</td>\n",
              "    </tr>\n",
              "    <tr>\n",
              "      <td>0</td>\n",
              "      <td>1</td>\n",
              "      <td>0.0208975</td>\n",
              "      <td>0.0183411</td>\n",
              "      <td>59.2711</td>\n",
              "      <td>romantic</td>\n",
              "      <td>2256.81</td>\n",
              "      <td>2264.71</td>\n",
              "    </tr>\n",
              "    <tr>\n",
              "      <td>0</td>\n",
              "      <td>1</td>\n",
              "      <td>0.0116467</td>\n",
              "      <td>0.00386435</td>\n",
              "      <td>67.5254</td>\n",
              "      <td>studytime</td>\n",
              "      <td>2264.43</td>\n",
              "      <td>2280.24</td>\n",
              "    </tr>\n",
              "    <tr>\n",
              "      <td>0</td>\n",
              "      <td>2</td>\n",
              "      <td>0.134004</td>\n",
              "      <td>0.12947</td>\n",
              "      <td>9.25551</td>\n",
              "      <td>sex+failures</td>\n",
              "      <td>2211.54</td>\n",
              "      <td>2223.4</td>\n",
              "    </tr>\n",
              "    <tr>\n",
              "      <td>0</td>\n",
              "      <td>2</td>\n",
              "      <td>0.0299787</td>\n",
              "      <td>0.0249</td>\n",
              "      <td>57.0948</td>\n",
              "      <td>sex+romantic</td>\n",
              "      <td>2255.22</td>\n",
              "      <td>2267.08</td>\n",
              "    </tr>\n",
              "    <tr>\n",
              "      <td>0</td>\n",
              "      <td>2</td>\n",
              "      <td>0.0324559</td>\n",
              "      <td>0.0222712</td>\n",
              "      <td>59.9556</td>\n",
              "      <td>sex+studytime</td>\n",
              "      <td>2258.23</td>\n",
              "      <td>2278</td>\n",
              "    </tr>\n",
              "    <tr>\n",
              "      <td>0</td>\n",
              "      <td>2</td>\n",
              "      <td>0.129951</td>\n",
              "      <td>0.125396</td>\n",
              "      <td>11.1193</td>\n",
              "      <td>failures+romantic</td>\n",
              "      <td>2213.34</td>\n",
              "      <td>2225.2</td>\n",
              "    </tr>\n",
              "    <tr>\n",
              "      <td>0</td>\n",
              "      <td>2</td>\n",
              "      <td>0.126453</td>\n",
              "      <td>0.117257</td>\n",
              "      <td>16.7283</td>\n",
              "      <td>failures+studytime</td>\n",
              "      <td>2218.89</td>\n",
              "      <td>2238.65</td>\n",
              "    </tr>\n",
              "    <tr>\n",
              "      <td>0</td>\n",
              "      <td>2</td>\n",
              "      <td>0.0346552</td>\n",
              "      <td>0.0244937</td>\n",
              "      <td>58.9442</td>\n",
              "      <td>romantic+studytime</td>\n",
              "      <td>2257.36</td>\n",
              "      <td>2277.12</td>\n",
              "    </tr>\n",
              "    <tr>\n",
              "      <td>0</td>\n",
              "      <td>3</td>\n",
              "      <td>0.142741</td>\n",
              "      <td>0.135991</td>\n",
              "      <td>7.23743</td>\n",
              "      <td>sex+failures+romantic</td>\n",
              "      <td>2209.64</td>\n",
              "      <td>2225.45</td>\n",
              "    </tr>\n",
              "    <tr>\n",
              "      <td>0</td>\n",
              "      <td>3</td>\n",
              "      <td>0.145968</td>\n",
              "      <td>0.134701</td>\n",
              "      <td>9.75339</td>\n",
              "      <td>sex+failues+studytime</td>\n",
              "      <td>2212.19</td>\n",
              "      <td>2235.91</td>\n",
              "    </tr>\n",
              "    <tr>\n",
              "      <td>0</td>\n",
              "      <td>3</td>\n",
              "      <td>0.0527584</td>\n",
              "      <td>0.0402618</td>\n",
              "      <td>52.6189</td>\n",
              "      <td>sex+romantic+studytime</td>\n",
              "      <td>2252.07</td>\n",
              "      <td>2275.79</td>\n",
              "    </tr>\n",
              "    <tr>\n",
              "      <td>0</td>\n",
              "      <td>3</td>\n",
              "      <td>0.138663</td>\n",
              "      <td>0.127299</td>\n",
              "      <td>13.1131</td>\n",
              "      <td>failures+romantic+studytime</td>\n",
              "      <td>2215.47</td>\n",
              "      <td>2239.19</td>\n",
              "    </tr>\n",
              "    <tr>\n",
              "      <td>0</td>\n",
              "      <td>4</td>\n",
              "      <td>0.156304</td>\n",
              "      <td>0.142912</td>\n",
              "      <td>7</td>\n",
              "      <td>sex+failures+romantic+studytime</td>\n",
              "      <td>2209.5</td>\n",
              "      <td>2237.17</td>\n",
              "    </tr>\n",
              "  </tbody>\n",
              "</table>\n",
              "</div>"
            ],
            "text/plain": [
              "  Vars   Rsquared Adj_Rsquared Mallows_Cp                       Predictors  \\\n",
              "0    0          0  -0.00261097    66.8815                             none   \n",
              "0    1  0.0120973   0.00951791    63.3181                              sex   \n",
              "0    1   0.118578     0.116277    14.3496                         failures   \n",
              "0    1  0.0208975    0.0183411    59.2711                         romantic   \n",
              "0    1  0.0116467   0.00386435    67.5254                        studytime   \n",
              "0    2   0.134004      0.12947    9.25551                     sex+failures   \n",
              "0    2  0.0299787       0.0249    57.0948                     sex+romantic   \n",
              "0    2  0.0324559    0.0222712    59.9556                    sex+studytime   \n",
              "0    2   0.129951     0.125396    11.1193                failures+romantic   \n",
              "0    2   0.126453     0.117257    16.7283               failures+studytime   \n",
              "0    2  0.0346552    0.0244937    58.9442               romantic+studytime   \n",
              "0    3   0.142741     0.135991    7.23743            sex+failures+romantic   \n",
              "0    3   0.145968     0.134701    9.75339            sex+failues+studytime   \n",
              "0    3  0.0527584    0.0402618    52.6189           sex+romantic+studytime   \n",
              "0    3   0.138663     0.127299    13.1131      failures+romantic+studytime   \n",
              "0    4   0.156304     0.142912          7  sex+failures+romantic+studytime   \n",
              "\n",
              "       AIC      BIC  \n",
              "0  2264.94  2272.84  \n",
              "0  2260.25  2268.16  \n",
              "0  2216.34  2224.25  \n",
              "0  2256.81  2264.71  \n",
              "0  2264.43  2280.24  \n",
              "0  2211.54   2223.4  \n",
              "0  2255.22  2267.08  \n",
              "0  2258.23     2278  \n",
              "0  2213.34   2225.2  \n",
              "0  2218.89  2238.65  \n",
              "0  2257.36  2277.12  \n",
              "0  2209.64  2225.45  \n",
              "0  2212.19  2235.91  \n",
              "0  2252.07  2275.79  \n",
              "0  2215.47  2239.19  \n",
              "0   2209.5  2237.17  "
            ]
          },
          "metadata": {}
        }
      ],
      "execution_count": 47,
      "metadata": {}
    },
    {
      "cell_type": "code",
      "source": [
        "cp_table.sort_values('Mallows_Cp')[:4]"
      ],
      "outputs": [
        {
          "output_type": "execute_result",
          "execution_count": 48,
          "data": {
            "text/html": [
              "<div>\n",
              "<style scoped>\n",
              "    .dataframe tbody tr th:only-of-type {\n",
              "        vertical-align: middle;\n",
              "    }\n",
              "\n",
              "    .dataframe tbody tr th {\n",
              "        vertical-align: top;\n",
              "    }\n",
              "\n",
              "    .dataframe thead th {\n",
              "        text-align: right;\n",
              "    }\n",
              "</style>\n",
              "<table border=\"1\" class=\"dataframe\">\n",
              "  <thead>\n",
              "    <tr style=\"text-align: right;\">\n",
              "      <th></th>\n",
              "      <th>Vars</th>\n",
              "      <th>Rsquared</th>\n",
              "      <th>Adj_Rsquared</th>\n",
              "      <th>Mallows_Cp</th>\n",
              "      <th>Predictors</th>\n",
              "      <th>AIC</th>\n",
              "      <th>BIC</th>\n",
              "    </tr>\n",
              "  </thead>\n",
              "  <tbody>\n",
              "    <tr>\n",
              "      <td>0</td>\n",
              "      <td>4</td>\n",
              "      <td>0.156304</td>\n",
              "      <td>0.142912</td>\n",
              "      <td>7</td>\n",
              "      <td>sex+failures+romantic+studytime</td>\n",
              "      <td>2209.5</td>\n",
              "      <td>2237.17</td>\n",
              "    </tr>\n",
              "    <tr>\n",
              "      <td>0</td>\n",
              "      <td>3</td>\n",
              "      <td>0.142741</td>\n",
              "      <td>0.135991</td>\n",
              "      <td>7.23743</td>\n",
              "      <td>sex+failures+romantic</td>\n",
              "      <td>2209.64</td>\n",
              "      <td>2225.45</td>\n",
              "    </tr>\n",
              "    <tr>\n",
              "      <td>0</td>\n",
              "      <td>2</td>\n",
              "      <td>0.134004</td>\n",
              "      <td>0.12947</td>\n",
              "      <td>9.25551</td>\n",
              "      <td>sex+failures</td>\n",
              "      <td>2211.54</td>\n",
              "      <td>2223.4</td>\n",
              "    </tr>\n",
              "    <tr>\n",
              "      <td>0</td>\n",
              "      <td>3</td>\n",
              "      <td>0.145968</td>\n",
              "      <td>0.134701</td>\n",
              "      <td>9.75339</td>\n",
              "      <td>sex+failues+studytime</td>\n",
              "      <td>2212.19</td>\n",
              "      <td>2235.91</td>\n",
              "    </tr>\n",
              "  </tbody>\n",
              "</table>\n",
              "</div>"
            ],
            "text/plain": [
              "  Vars  Rsquared Adj_Rsquared Mallows_Cp                       Predictors  \\\n",
              "0    4  0.156304     0.142912          7  sex+failures+romantic+studytime   \n",
              "0    3  0.142741     0.135991    7.23743            sex+failures+romantic   \n",
              "0    2  0.134004      0.12947    9.25551                     sex+failures   \n",
              "0    3  0.145968     0.134701    9.75339            sex+failues+studytime   \n",
              "\n",
              "       AIC      BIC  \n",
              "0   2209.5  2237.17  \n",
              "0  2209.64  2225.45  \n",
              "0  2211.54   2223.4  \n",
              "0  2212.19  2235.91  "
            ]
          },
          "metadata": {}
        }
      ],
      "execution_count": 48,
      "metadata": {}
    },
    {
      "cell_type": "markdown",
      "source": [
        "We choose full model because of high Adj_Rsquared value and sex+failures+romantic due to lowest Cp value"
      ],
      "metadata": {}
    },
    {
      "cell_type": "markdown",
      "source": [
        "Out of these two, full model has lower AIC and higher Adj_Rsquared value so we choose this model although the other model has lower BIC value"
      ],
      "metadata": {}
    },
    {
      "cell_type": "markdown",
      "source": [
        "## Model Diagnosis"
      ],
      "metadata": {}
    },
    {
      "cell_type": "markdown",
      "source": [
        "### Selected model = G3 ~(sex+failures+romantic+studytime)"
      ],
      "metadata": {}
    },
    {
      "cell_type": "markdown",
      "source": [
        "### Fitted values vs residuals"
      ],
      "metadata": {}
    },
    {
      "cell_type": "code",
      "source": [
        "student_data_infl = reg_full_model.get_influence()\n",
        "#residuals v.s. fitted values\n",
        "residuals = student_data_infl.resid\n",
        "grades_fitted = reg_full_model.fittedvalues\n",
        "plt.scatter(residuals,grades_fitted)\n",
        "plt.xlabel(\"residuals\")\n",
        "plt.ylabel(\"Fitted Values\")\n",
        "plt.title(\"residuals vs. Fitted Values\")"
      ],
      "outputs": [
        {
          "output_type": "execute_result",
          "execution_count": 49,
          "data": {
            "text/plain": [
              "Text(0.5, 1.0, 'residuals vs. Fitted Values')"
            ]
          },
          "metadata": {}
        },
        {
          "output_type": "display_data",
          "data": {
            "image/png": "[encoded data removed]",
            "text/plain": [
              "<Figure size 432x288 with 1 Axes>"
            ]
          },
          "metadata": {
            "needs_background": "light"
          }
        }
      ],
      "execution_count": 49,
      "metadata": {}
    },
    {
      "cell_type": "markdown",
      "source": [
        "#### Points bounce around the zero line as expected"
      ],
      "metadata": {}
    },
    {
      "cell_type": "markdown",
      "source": [
        "### Heteroscedasticity check - Breusch Pagan test"
      ],
      "metadata": {}
    },
    {
      "cell_type": "code",
      "source": [
        "from statsmodels.stats.diagnostic import het_breuschpagan\n",
        "labels = ['LM Statistic', 'LM-Test p-value', 'F-Statistic', 'F-Test p-value']"
      ],
      "outputs": [],
      "execution_count": 50,
      "metadata": {}
    },
    {
      "cell_type": "code",
      "source": [
        "bp_test_student_data = het_breuschpagan(reg_full_model.resid, reg_full_model.model.exog)\n",
        "print(dict(zip(labels, bp_test_student_data)))"
      ],
      "outputs": [
        {
          "output_type": "stream",
          "name": "stdout",
          "text": [
            "{'LM Statistic': 7.6017722034593564, 'LM-Test p-value': 0.26875358727667853, 'F-Statistic': 1.2689822408920401, 'F-Test p-value': 0.27068005213544744}\n"
          ]
        }
      ],
      "execution_count": 51,
      "metadata": {}
    },
    {
      "cell_type": "markdown",
      "source": [
        "p-value > alpha =0.05 => we do not have enough evidence to reject the null hypothesis. Hence the model does not have heteroscedasticity"
      ],
      "metadata": {}
    },
    {
      "cell_type": "markdown",
      "source": [
        "### Autocorrelation check - Breusch-Godfrey test. "
      ],
      "metadata": {}
    },
    {
      "cell_type": "code",
      "source": [
        "bg_test_students =sm.stats.diagnostic.acorr_breusch_godfrey(reg_full_model)\n",
        "labels_bg = ['LM Statistic', 'LM-Test p-value', 'F-Statistic', 'F-Test p-value']\n",
        "print(dict(zip(labels_bg, bg_test_students)))"
      ],
      "outputs": [
        {
          "output_type": "stream",
          "name": "stdout",
          "text": [
            "{'LM Statistic': 21.99371093565271, 'LM-Test p-value': 0.14339471573993942, 'F-Statistic': 1.3707963881334675, 'F-Test p-value': 0.1530747967088018}\n"
          ]
        }
      ],
      "execution_count": 52,
      "metadata": {}
    },
    {
      "cell_type": "markdown",
      "source": [
        "p-value > alpha =0.05 => we do not have enough evidence to reject the null hypothesis. Hence the model does not have an autocorrelation problem"
      ],
      "metadata": {}
    },
    {
      "cell_type": "markdown",
      "source": [
        "### Influential points"
      ],
      "metadata": {}
    },
    {
      "cell_type": "code",
      "source": [
        "student_data_infl = reg_full_model.get_influence()"
      ],
      "outputs": [],
      "execution_count": 53,
      "metadata": {}
    },
    {
      "cell_type": "markdown",
      "source": [
        "#### using internally studentized residuals"
      ],
      "metadata": {}
    },
    {
      "cell_type": "code",
      "source": [
        "#threshold internally studentized residuals\n",
        "import scipy\n",
        "n_students = student_data.shape[0]\n",
        "p_students = 7\n",
        "seuil_stud = scipy.stats.t.ppf(0.975,df=n_students-p_students)\n",
        "\n",
        "#detection - absolute value > threshold\n",
        "atyp_stud = np.abs(student_data_infl.resid_studentized_internal) > seuil_stud\n",
        "#which ones?\n",
        "print(student_data.index[atyp_stud],student_data[atyp_stud])"
      ],
      "outputs": [
        {
          "output_type": "stream",
          "name": "stdout",
          "text": [
            "Int64Index([131, 134, 135, 136, 140, 148, 168, 198, 221, 239, 242, 244, 259,\n",
            "            260, 264, 269, 296, 316, 332, 333, 334, 337, 341, 383, 387, 389],\n",
            "           dtype='int64')     sex famsize Pstatus famsup  studytime  failures romantic  goout  absences  \\\n",
            "131   F     GT3       T    yes          1         0      yes      3         0   \n",
            "134   M     GT3       T    yes          2         0      yes      3         0   \n",
            "135   F     GT3       T    yes          3         0      yes      3         0   \n",
            "136   M     GT3       T     no          2         0       no      5         0   \n",
            "140   M     GT3       T    yes          4         0       no      2         0   \n",
            "148   M     GT3       T    yes          1         0      yes      2         0   \n",
            "168   F     GT3       T    yes          2         0       no      5         0   \n",
            "198   F     GT3       T    yes          1         1       no      4        24   \n",
            "221   F     GT3       T    yes          3         1      yes      4         0   \n",
            "239   M     GT3       T     no          2         1       no      4         0   \n",
            "242   M     LE3       T     no          1         0       no      5         0   \n",
            "244   F     GT3       T    yes          3         0      yes      4         0   \n",
            "259   F     LE3       T     no          4         0      yes      1         0   \n",
            "260   F     GT3       T    yes          2         0      yes      2        21   \n",
            "264   F     GT3       T    yes          3         0      yes      3         0   \n",
            "269   F     GT3       T    yes          2         0      yes      5         0   \n",
            "296   F     GT3       T    yes          2         0       no      4         0   \n",
            "316   F     GT3       T    yes          2         0       no      3         0   \n",
            "332   F     GT3       T     no          2         0       no      4         0   \n",
            "333   F     LE3       T     no          2         0      yes      3         0   \n",
            "334   F     GT3       T     no          4         0       no      4         0   \n",
            "337   F     GT3       T    yes          2         0      yes      2         0   \n",
            "341   M     GT3       T    yes          2         1       no      3         0   \n",
            "383   M     GT3       T     no          1         1       no      2         0   \n",
            "387   F     GT3       T     no          3         1       no      2         0   \n",
            "389   F     GT3       T     no          2         1       no      1         0   \n",
            "\n",
            "     Dalc  traveltime paid schoolsup  G3  null  \n",
            "131     1           3   no        no   0     1  \n",
            "134     1           4   no        no   0     1  \n",
            "135     1           1   no        no   0     1  \n",
            "136     2           3   no        no   0     1  \n",
            "140     1           2   no       yes   0     1  \n",
            "148     2           1   no        no   0     1  \n",
            "168     1           1  yes        no   0     1  \n",
            "198     2           2   no        no  18     1  \n",
            "221     1           1   no        no   0     1  \n",
            "239     3           1   no        no   0     1  \n",
            "242     1           1   no        no   0     1  \n",
            "244     1           2  yes        no   0     1  \n",
            "259     1           1  yes        no   0     1  \n",
            "260     1           1  yes        no  18     1  \n",
            "264     1           1  yes        no   0     1  \n",
            "269     1           2   no        no   0     1  \n",
            "296     2           2  yes        no   0     1  \n",
            "316     1           2  yes        no   0     1  \n",
            "332     1           1   no        no   0     1  \n",
            "333     1           1   no        no   0     1  \n",
            "334     1           2   no        no   0     1  \n",
            "337     2           1  yes        no   0     1  \n",
            "341     2           1   no        no   0     1  \n",
            "383     1           2   no        no   0     1  \n",
            "387     1           1   no        no   0     1  \n",
            "389     1           2   no        no   0     1  \n"
          ]
        }
      ],
      "execution_count": 54,
      "metadata": {}
    },
    {
      "cell_type": "markdown",
      "source": [
        "#### using externally studentized residuals"
      ],
      "metadata": {}
    },
    {
      "cell_type": "code",
      "source": [
        "t_val_students = scipy.stats.t.ppf(0.975,df=n_students-p_students-1)\n",
        "\n",
        "#detection - absolute value > threshold\n",
        "suspicious_external_studs = np.abs(student_data_infl.resid_studentized_external) > t_val_students\n",
        "#which ones?\n",
        "print(student_data.index[suspicious_external_studs],student_data[suspicious_external_studs])"
      ],
      "outputs": [
        {
          "output_type": "stream",
          "name": "stdout",
          "text": [
            "Int64Index([131, 134, 135, 136, 140, 148, 168, 198, 221, 239, 242, 244, 259,\n",
            "            260, 264, 269, 296, 316, 332, 333, 334, 337, 341, 383, 387, 389],\n",
            "           dtype='int64')     sex famsize Pstatus famsup  studytime  failures romantic  goout  absences  \\\n",
            "131   F     GT3       T    yes          1         0      yes      3         0   \n",
            "134   M     GT3       T    yes          2         0      yes      3         0   \n",
            "135   F     GT3       T    yes          3         0      yes      3         0   \n",
            "136   M     GT3       T     no          2         0       no      5         0   \n",
            "140   M     GT3       T    yes          4         0       no      2         0   \n",
            "148   M     GT3       T    yes          1         0      yes      2         0   \n",
            "168   F     GT3       T    yes          2         0       no      5         0   \n",
            "198   F     GT3       T    yes          1         1       no      4        24   \n",
            "221   F     GT3       T    yes          3         1      yes      4         0   \n",
            "239   M     GT3       T     no          2         1       no      4         0   \n",
            "242   M     LE3       T     no          1         0       no      5         0   \n",
            "244   F     GT3       T    yes          3         0      yes      4         0   \n",
            "259   F     LE3       T     no          4         0      yes      1         0   \n",
            "260   F     GT3       T    yes          2         0      yes      2        21   \n",
            "264   F     GT3       T    yes          3         0      yes      3         0   \n",
            "269   F     GT3       T    yes          2         0      yes      5         0   \n",
            "296   F     GT3       T    yes          2         0       no      4         0   \n",
            "316   F     GT3       T    yes          2         0       no      3         0   \n",
            "332   F     GT3       T     no          2         0       no      4         0   \n",
            "333   F     LE3       T     no          2         0      yes      3         0   \n",
            "334   F     GT3       T     no          4         0       no      4         0   \n",
            "337   F     GT3       T    yes          2         0      yes      2         0   \n",
            "341   M     GT3       T    yes          2         1       no      3         0   \n",
            "383   M     GT3       T     no          1         1       no      2         0   \n",
            "387   F     GT3       T     no          3         1       no      2         0   \n",
            "389   F     GT3       T     no          2         1       no      1         0   \n",
            "\n",
            "     Dalc  traveltime paid schoolsup  G3  null  \n",
            "131     1           3   no        no   0     1  \n",
            "134     1           4   no        no   0     1  \n",
            "135     1           1   no        no   0     1  \n",
            "136     2           3   no        no   0     1  \n",
            "140     1           2   no       yes   0     1  \n",
            "148     2           1   no        no   0     1  \n",
            "168     1           1  yes        no   0     1  \n",
            "198     2           2   no        no  18     1  \n",
            "221     1           1   no        no   0     1  \n",
            "239     3           1   no        no   0     1  \n",
            "242     1           1   no        no   0     1  \n",
            "244     1           2  yes        no   0     1  \n",
            "259     1           1  yes        no   0     1  \n",
            "260     1           1  yes        no  18     1  \n",
            "264     1           1  yes        no   0     1  \n",
            "269     1           2   no        no   0     1  \n",
            "296     2           2  yes        no   0     1  \n",
            "316     1           2  yes        no   0     1  \n",
            "332     1           1   no        no   0     1  \n",
            "333     1           1   no        no   0     1  \n",
            "334     1           2   no        no   0     1  \n",
            "337     2           1  yes        no   0     1  \n",
            "341     2           1   no        no   0     1  \n",
            "383     1           2   no        no   0     1  \n",
            "387     1           1   no        no   0     1  \n",
            "389     1           2   no        no   0     1  \n"
          ]
        }
      ],
      "execution_count": 55,
      "metadata": {}
    },
    {
      "cell_type": "markdown",
      "source": [
        "#### using leverage"
      ],
      "metadata": {}
    },
    {
      "cell_type": "code",
      "source": [
        "students_leverage = student_data_infl.hat_matrix_diag\n",
        "suspicious_students_leverage = np.abs(students_leverage) > (3*p_students)/n_students\n",
        "#which ones?\n",
        "print(student_data.index[suspicious_students_leverage],student_data[suspicious_students_leverage])"
      ],
      "outputs": [
        {
          "output_type": "stream",
          "name": "stdout",
          "text": [
            "Int64Index([], dtype='int64') Empty DataFrame\n",
            "Columns: [sex, famsize, Pstatus, famsup, studytime, failures, romantic, goout, absences, Dalc, traveltime, paid, schoolsup, G3, null]\n",
            "Index: []\n"
          ]
        }
      ],
      "execution_count": 56,
      "metadata": {}
    },
    {
      "cell_type": "markdown",
      "source": [
        "#### using DFFITS"
      ],
      "metadata": {}
    },
    {
      "cell_type": "code",
      "source": [
        "students_dffits = student_data_infl.dffits\n",
        "suspicious_students_dffits = np.abs(students_dffits[0]) > 2*(((p_students+1)/(n_students-p_students-1))**(1/2))\n",
        "#which ones?\n",
        "print(student_data.index[suspicious_students_dffits],student_data[suspicious_students_dffits])"
      ],
      "outputs": [
        {
          "output_type": "stream",
          "name": "stdout",
          "text": [
            "Int64Index([  2,  47, 130, 131, 134, 135, 136, 140, 148, 157, 198, 221, 242,\n",
            "            244, 259, 264, 293, 303, 334, 376, 387],\n",
            "           dtype='int64')     sex famsize Pstatus famsup  studytime  failures romantic  goout  absences  \\\n",
            "2     F     LE3       T     no          2         3       no      2        10   \n",
            "47    M     GT3       T     no          4         0       no      2         4   \n",
            "130   F     GT3       T    yes          3         2      yes      2         0   \n",
            "131   F     GT3       T    yes          1         0      yes      3         0   \n",
            "134   M     GT3       T    yes          2         0      yes      3         0   \n",
            "135   F     GT3       T    yes          3         0      yes      3         0   \n",
            "136   M     GT3       T     no          2         0       no      5         0   \n",
            "140   M     GT3       T    yes          4         0       no      2         0   \n",
            "148   M     GT3       T    yes          1         0      yes      2         0   \n",
            "157   F     GT3       T    yes          1         3       no      5         6   \n",
            "198   F     GT3       T    yes          1         1       no      4        24   \n",
            "221   F     GT3       T    yes          3         1      yes      4         0   \n",
            "242   M     LE3       T     no          1         0       no      5         0   \n",
            "244   F     GT3       T    yes          3         0      yes      4         0   \n",
            "259   F     LE3       T     no          4         0      yes      1         0   \n",
            "264   F     GT3       T    yes          3         0      yes      3         0   \n",
            "293   F     LE3       T    yes          4         0       no      2         6   \n",
            "303   F     GT3       T    yes          4         0       no      2         0   \n",
            "334   F     GT3       T     no          4         0       no      4         0   \n",
            "376   F     GT3       T    yes          3         2      yes      3         4   \n",
            "387   F     GT3       T     no          3         1       no      2         0   \n",
            "\n",
            "     Dalc  traveltime paid schoolsup  G3  null  \n",
            "2       2           1  yes       yes  10     1  \n",
            "47      1           1   no        no  20     1  \n",
            "130     2           2   no        no   0     1  \n",
            "131     1           3   no        no   0     1  \n",
            "134     1           4   no        no   0     1  \n",
            "135     1           1   no        no   0     1  \n",
            "136     2           3   no        no   0     1  \n",
            "140     1           2   no       yes   0     1  \n",
            "148     2           1   no        no   0     1  \n",
            "157     1           3   no        no  10     1  \n",
            "198     2           2   no        no  18     1  \n",
            "221     1           1   no        no   0     1  \n",
            "242     1           1   no        no   0     1  \n",
            "244     1           2  yes        no   0     1  \n",
            "259     1           1  yes        no   0     1  \n",
            "264     1           1  yes        no   0     1  \n",
            "293     1           2  yes        no  18     1  \n",
            "303     1           1  yes        no  18     1  \n",
            "334     1           2   no        no   0     1  \n",
            "376     1           2  yes        no  15     1  \n",
            "387     1           1   no        no   0     1  \n"
          ]
        }
      ],
      "execution_count": 57,
      "metadata": {}
    },
    {
      "cell_type": "markdown",
      "source": [
        "#### using Cook's distance"
      ],
      "metadata": {}
    },
    {
      "cell_type": "code",
      "source": [
        "student_cooks = student_data_infl.cooks_distance\n",
        "suspicious_student_cooks = np.abs(student_cooks[0]) > 4/(n_students-p_students)\n",
        "#which ones?\n",
        "print(student_data.index[suspicious_student_cooks],student_data[suspicious_student_cooks])"
      ],
      "outputs": [
        {
          "output_type": "stream",
          "name": "stdout",
          "text": [
            "Int64Index([  2,  47, 128, 130, 131, 134, 135, 136, 140, 148, 157, 170, 198,\n",
            "            221, 239, 242, 244, 259, 264, 293, 303, 314, 334, 338, 341, 367,\n",
            "            376, 387],\n",
            "           dtype='int64')     sex famsize Pstatus famsup  studytime  failures romantic  goout  absences  \\\n",
            "2     F     LE3       T     no          2         3       no      2        10   \n",
            "47    M     GT3       T     no          4         0       no      2         4   \n",
            "128   M     GT3       T    yes          1         2       no      3         0   \n",
            "130   F     GT3       T    yes          3         2      yes      2         0   \n",
            "131   F     GT3       T    yes          1         0      yes      3         0   \n",
            "134   M     GT3       T    yes          2         0      yes      3         0   \n",
            "135   F     GT3       T    yes          3         0      yes      3         0   \n",
            "136   M     GT3       T     no          2         0       no      5         0   \n",
            "140   M     GT3       T    yes          4         0       no      2         0   \n",
            "148   M     GT3       T    yes          1         0      yes      2         0   \n",
            "157   F     GT3       T    yes          1         3       no      5         6   \n",
            "170   M     GT3       T    yes          1         2       no      5         0   \n",
            "198   F     GT3       T    yes          1         1       no      4        24   \n",
            "221   F     GT3       T    yes          3         1      yes      4         0   \n",
            "239   M     GT3       T     no          2         1       no      4         0   \n",
            "242   M     LE3       T     no          1         0       no      5         0   \n",
            "244   F     GT3       T    yes          3         0      yes      4         0   \n",
            "259   F     LE3       T     no          4         0      yes      1         0   \n",
            "264   F     GT3       T    yes          3         0      yes      3         0   \n",
            "293   F     LE3       T    yes          4         0       no      2         6   \n",
            "303   F     GT3       T    yes          4         0       no      2         0   \n",
            "314   F     GT3       T     no          3         2      yes      2        14   \n",
            "334   F     GT3       T     no          4         0       no      4         0   \n",
            "338   F     LE3       T    yes          4         0       no      3         7   \n",
            "341   M     GT3       T    yes          2         1       no      3         0   \n",
            "367   F     GT3       T    yes          1         1      yes      1         0   \n",
            "376   F     GT3       T    yes          3         2      yes      3         4   \n",
            "387   F     GT3       T     no          3         1       no      2         0   \n",
            "\n",
            "     Dalc  traveltime paid schoolsup  G3  null  \n",
            "2       2           1  yes       yes  10     1  \n",
            "47      1           1   no        no  20     1  \n",
            "128     1           1   no        no   0     1  \n",
            "130     2           2   no        no   0     1  \n",
            "131     1           3   no        no   0     1  \n",
            "134     1           4   no        no   0     1  \n",
            "135     1           1   no        no   0     1  \n",
            "136     2           3   no        no   0     1  \n",
            "140     1           2   no       yes   0     1  \n",
            "148     2           1   no        no   0     1  \n",
            "157     1           3   no        no  10     1  \n",
            "170     2           3   no        no   0     1  \n",
            "198     2           2   no        no  18     1  \n",
            "221     1           1   no        no   0     1  \n",
            "239     3           1   no        no   0     1  \n",
            "242     1           1   no        no   0     1  \n",
            "244     1           2  yes        no   0     1  \n",
            "259     1           1  yes        no   0     1  \n",
            "264     1           1  yes        no   0     1  \n",
            "293     1           2  yes        no  18     1  \n",
            "303     1           1  yes        no  18     1  \n",
            "314     1           1   no        no  13     1  \n",
            "334     1           2   no        no   0     1  \n",
            "338     1           1   no        no  17     1  \n",
            "341     2           1   no        no   0     1  \n",
            "367     1           3  yes        no   0     1  \n",
            "376     1           2  yes        no  15     1  \n",
            "387     1           1   no        no   0     1  \n"
          ]
        }
      ],
      "execution_count": 58,
      "metadata": {}
    },
    {
      "cell_type": "markdown",
      "source": [
        "### Influential points :"
      ],
      "metadata": {}
    },
    {
      "cell_type": "code",
      "source": [
        "merged_student_susp = set(student_data.index[atyp_stud])\n",
        "merged_student_susp = merged_student_susp.union(set(student_data.index[suspicious_external_studs]))\n",
        "merged_student_susp = merged_student_susp.union(set(student_data.index[suspicious_students_dffits]))\n",
        "merged_student_susp = merged_student_susp.union(set(student_data.index[suspicious_student_cooks]))\n",
        "list(merged_student_susp)"
      ],
      "outputs": [
        {
          "output_type": "execute_result",
          "execution_count": 59,
          "data": {
            "text/plain": [
              "[128,\n",
              " 2,\n",
              " 131,\n",
              " 259,\n",
              " 260,\n",
              " 134,\n",
              " 135,\n",
              " 136,\n",
              " 264,\n",
              " 387,\n",
              " 389,\n",
              " 140,\n",
              " 269,\n",
              " 130,\n",
              " 148,\n",
              " 157,\n",
              " 293,\n",
              " 168,\n",
              " 296,\n",
              " 170,\n",
              " 47,\n",
              " 303,\n",
              " 314,\n",
              " 316,\n",
              " 198,\n",
              " 332,\n",
              " 333,\n",
              " 334,\n",
              " 337,\n",
              " 338,\n",
              " 341,\n",
              " 221,\n",
              " 239,\n",
              " 367,\n",
              " 242,\n",
              " 244,\n",
              " 376,\n",
              " 383]"
            ]
          },
          "metadata": {}
        }
      ],
      "execution_count": 59,
      "metadata": {}
    },
    {
      "cell_type": "markdown",
      "source": [
        "### Influence Plot"
      ],
      "metadata": {}
    },
    {
      "cell_type": "code",
      "source": [
        "#graphical representation of the influences()\n",
        "sm.graphics.influence_plot(reg_full_model)"
      ],
      "outputs": [
        {
          "output_type": "execute_result",
          "execution_count": 60,
          "data": {
            "image/png": "[encoded data removed]",
            "text/plain": [
              "<Figure size 432x288 with 1 Axes>"
            ]
          },
          "metadata": {}
        },
        {
          "output_type": "display_data",
          "data": {
            "image/png": "[encoded data removed]",
            "text/plain": [
              "<Figure size 432x288 with 1 Axes>"
            ]
          },
          "metadata": {
            "needs_background": "light"
          }
        }
      ],
      "execution_count": 60,
      "metadata": {}
    },
    {
      "cell_type": "markdown",
      "source": [
        "##  Fitted model after removing influential points"
      ],
      "metadata": {}
    },
    {
      "cell_type": "code",
      "source": [
        "students_not_influential = student_data.drop(list(merged_student_susp))"
      ],
      "outputs": [],
      "execution_count": 61,
      "metadata": {}
    },
    {
      "cell_type": "markdown",
      "source": [
        "#### summary"
      ],
      "metadata": {}
    },
    {
      "cell_type": "code",
      "source": [
        "reg_not_influential =  smf.ols('G3~ C(sex) + failures + C(romantic) + C(studytime)', data=students_not_influential).fit()\n",
        "reg_not_influential.summary()"
      ],
      "outputs": [
        {
          "output_type": "execute_result",
          "execution_count": 62,
          "data": {
            "text/html": [
              "<table class=\"simpletable\">\n",
              "<caption>OLS Regression Results</caption>\n",
              "<tr>\n",
              "  <th>Dep. Variable:</th>           <td>G3</td>        <th>  R-squared:         </th> <td>   0.261</td>\n",
              "</tr>\n",
              "<tr>\n",
              "  <th>Model:</th>                   <td>OLS</td>       <th>  Adj. R-squared:    </th> <td>   0.248</td>\n",
              "</tr>\n",
              "<tr>\n",
              "  <th>Method:</th>             <td>Least Squares</td>  <th>  F-statistic:       </th> <td>   19.98</td>\n",
              "</tr>\n",
              "<tr>\n",
              "  <th>Date:</th>             <td>Sun, 13 Oct 2019</td> <th>  Prob (F-statistic):</th> <td>5.22e-20</td>\n",
              "</tr>\n",
              "<tr>\n",
              "  <th>Time:</th>                 <td>21:15:28</td>     <th>  Log-Likelihood:    </th> <td> -880.00</td>\n",
              "</tr>\n",
              "<tr>\n",
              "  <th>No. Observations:</th>      <td>   347</td>      <th>  AIC:               </th> <td>   1774.</td>\n",
              "</tr>\n",
              "<tr>\n",
              "  <th>Df Residuals:</th>          <td>   340</td>      <th>  BIC:               </th> <td>   1801.</td>\n",
              "</tr>\n",
              "<tr>\n",
              "  <th>Df Model:</th>              <td>     6</td>      <th>                     </th>     <td> </td>   \n",
              "</tr>\n",
              "<tr>\n",
              "  <th>Covariance Type:</th>      <td>nonrobust</td>    <th>                     </th>     <td> </td>   \n",
              "</tr>\n",
              "</table>\n",
              "<table class=\"simpletable\">\n",
              "<tr>\n",
              "           <td></td>             <th>coef</th>     <th>std err</th>      <th>t</th>      <th>P>|t|</th>  <th>[0.025</th>    <th>0.975]</th>  \n",
              "</tr>\n",
              "<tr>\n",
              "  <th>Intercept</th>          <td>   11.0930</td> <td>    0.441</td> <td>   25.143</td> <td> 0.000</td> <td>   10.225</td> <td>   11.961</td>\n",
              "</tr>\n",
              "<tr>\n",
              "  <th>C(sex)[T.M]</th>        <td>    1.2845</td> <td>    0.355</td> <td>    3.618</td> <td> 0.000</td> <td>    0.586</td> <td>    1.983</td>\n",
              "</tr>\n",
              "<tr>\n",
              "  <th>C(romantic)[T.yes]</th> <td>   -0.5250</td> <td>    0.360</td> <td>   -1.458</td> <td> 0.146</td> <td>   -1.233</td> <td>    0.183</td>\n",
              "</tr>\n",
              "<tr>\n",
              "  <th>C(studytime)[T.2]</th>  <td>   -0.0146</td> <td>    0.416</td> <td>   -0.035</td> <td> 0.972</td> <td>   -0.832</td> <td>    0.803</td>\n",
              "</tr>\n",
              "<tr>\n",
              "  <th>C(studytime)[T.3]</th>  <td>    1.6456</td> <td>    0.566</td> <td>    2.907</td> <td> 0.004</td> <td>    0.532</td> <td>    2.759</td>\n",
              "</tr>\n",
              "<tr>\n",
              "  <th>C(studytime)[T.4]</th>  <td>    0.1608</td> <td>    0.778</td> <td>    0.207</td> <td> 0.836</td> <td>   -1.370</td> <td>    1.691</td>\n",
              "</tr>\n",
              "<tr>\n",
              "  <th>failures</th>           <td>   -2.2537</td> <td>    0.245</td> <td>   -9.189</td> <td> 0.000</td> <td>   -2.736</td> <td>   -1.771</td>\n",
              "</tr>\n",
              "</table>\n",
              "<table class=\"simpletable\">\n",
              "<tr>\n",
              "  <th>Omnibus:</th>       <td> 5.618</td> <th>  Durbin-Watson:     </th> <td>   2.083</td>\n",
              "</tr>\n",
              "<tr>\n",
              "  <th>Prob(Omnibus):</th> <td> 0.060</td> <th>  Jarque-Bera (JB):  </th> <td>   4.019</td>\n",
              "</tr>\n",
              "<tr>\n",
              "  <th>Skew:</th>          <td>-0.123</td> <th>  Prob(JB):          </th> <td>   0.134</td>\n",
              "</tr>\n",
              "<tr>\n",
              "  <th>Kurtosis:</th>      <td> 2.534</td> <th>  Cond. No.          </th> <td>    7.42</td>\n",
              "</tr>\n",
              "</table><br/><br/>Warnings:<br/>[1] Standard Errors assume that the covariance matrix of the errors is correctly specified."
            ],
            "text/plain": [
              "<class 'statsmodels.iolib.summary.Summary'>\n",
              "\"\"\"\n",
              "                            OLS Regression Results                            \n",
              "==============================================================================\n",
              "Dep. Variable:                     G3   R-squared:                       0.261\n",
              "Model:                            OLS   Adj. R-squared:                  0.248\n",
              "Method:                 Least Squares   F-statistic:                     19.98\n",
              "Date:                Sun, 13 Oct 2019   Prob (F-statistic):           5.22e-20\n",
              "Time:                        21:15:28   Log-Likelihood:                -880.00\n",
              "No. Observations:                 347   AIC:                             1774.\n",
              "Df Residuals:                     340   BIC:                             1801.\n",
              "Df Model:                           6                                         \n",
              "Covariance Type:            nonrobust                                         \n",
              "======================================================================================\n",
              "                         coef    std err          t      P>|t|      [0.025      0.975]\n",
              "--------------------------------------------------------------------------------------\n",
              "Intercept             11.0930      0.441     25.143      0.000      10.225      11.961\n",
              "C(sex)[T.M]            1.2845      0.355      3.618      0.000       0.586       1.983\n",
              "C(romantic)[T.yes]    -0.5250      0.360     -1.458      0.146      -1.233       0.183\n",
              "C(studytime)[T.2]     -0.0146      0.416     -0.035      0.972      -0.832       0.803\n",
              "C(studytime)[T.3]      1.6456      0.566      2.907      0.004       0.532       2.759\n",
              "C(studytime)[T.4]      0.1608      0.778      0.207      0.836      -1.370       1.691\n",
              "failures              -2.2537      0.245     -9.189      0.000      -2.736      -1.771\n",
              "==============================================================================\n",
              "Omnibus:                        5.618   Durbin-Watson:                   2.083\n",
              "Prob(Omnibus):                  0.060   Jarque-Bera (JB):                4.019\n",
              "Skew:                          -0.123   Prob(JB):                        0.134\n",
              "Kurtosis:                       2.534   Cond. No.                         7.42\n",
              "==============================================================================\n",
              "\n",
              "Warnings:\n",
              "[1] Standard Errors assume that the covariance matrix of the errors is correctly specified.\n",
              "\"\"\""
            ]
          },
          "metadata": {}
        }
      ],
      "execution_count": 62,
      "metadata": {}
    },
    {
      "cell_type": "markdown",
      "source": [
        "#### ANOVA table"
      ],
      "metadata": {}
    },
    {
      "cell_type": "code",
      "source": [
        "anova_not_influential = sm.stats.anova_lm(reg_not_influential, typ=2)\n",
        "anova_not_influential"
      ],
      "outputs": [
        {
          "output_type": "execute_result",
          "execution_count": 63,
          "data": {
            "text/html": [
              "<div>\n",
              "<style scoped>\n",
              "    .dataframe tbody tr th:only-of-type {\n",
              "        vertical-align: middle;\n",
              "    }\n",
              "\n",
              "    .dataframe tbody tr th {\n",
              "        vertical-align: top;\n",
              "    }\n",
              "\n",
              "    .dataframe thead th {\n",
              "        text-align: right;\n",
              "    }\n",
              "</style>\n",
              "<table border=\"1\" class=\"dataframe\">\n",
              "  <thead>\n",
              "    <tr style=\"text-align: right;\">\n",
              "      <th></th>\n",
              "      <th>sum_sq</th>\n",
              "      <th>df</th>\n",
              "      <th>F</th>\n",
              "      <th>PR(&gt;F)</th>\n",
              "    </tr>\n",
              "  </thead>\n",
              "  <tbody>\n",
              "    <tr>\n",
              "      <td>C(sex)</td>\n",
              "      <td>124.785555</td>\n",
              "      <td>1.0</td>\n",
              "      <td>13.092724</td>\n",
              "      <td>3.414508e-04</td>\n",
              "    </tr>\n",
              "    <tr>\n",
              "      <td>C(romantic)</td>\n",
              "      <td>20.259783</td>\n",
              "      <td>1.0</td>\n",
              "      <td>2.125693</td>\n",
              "      <td>1.457703e-01</td>\n",
              "    </tr>\n",
              "    <tr>\n",
              "      <td>C(studytime)</td>\n",
              "      <td>118.013781</td>\n",
              "      <td>3.0</td>\n",
              "      <td>4.127406</td>\n",
              "      <td>6.791673e-03</td>\n",
              "    </tr>\n",
              "    <tr>\n",
              "      <td>failures</td>\n",
              "      <td>804.694516</td>\n",
              "      <td>1.0</td>\n",
              "      <td>84.429992</td>\n",
              "      <td>4.035975e-18</td>\n",
              "    </tr>\n",
              "    <tr>\n",
              "      <td>Residual</td>\n",
              "      <td>3240.508826</td>\n",
              "      <td>340.0</td>\n",
              "      <td>NaN</td>\n",
              "      <td>NaN</td>\n",
              "    </tr>\n",
              "  </tbody>\n",
              "</table>\n",
              "</div>"
            ],
            "text/plain": [
              "                   sum_sq     df          F        PR(>F)\n",
              "C(sex)         124.785555    1.0  13.092724  3.414508e-04\n",
              "C(romantic)     20.259783    1.0   2.125693  1.457703e-01\n",
              "C(studytime)   118.013781    3.0   4.127406  6.791673e-03\n",
              "failures       804.694516    1.0  84.429992  4.035975e-18\n",
              "Residual      3240.508826  340.0        NaN           NaN"
            ]
          },
          "metadata": {}
        }
      ],
      "execution_count": 63,
      "metadata": {}
    },
    {
      "cell_type": "markdown",
      "source": [
        "## Fitted Model without removing influential points"
      ],
      "metadata": {}
    },
    {
      "cell_type": "code",
      "source": [
        "reg_full_model.summary()"
      ],
      "outputs": [
        {
          "output_type": "execute_result",
          "execution_count": 64,
          "data": {
            "text/html": [
              "<table class=\"simpletable\">\n",
              "<caption>OLS Regression Results</caption>\n",
              "<tr>\n",
              "  <th>Dep. Variable:</th>           <td>G3</td>        <th>  R-squared:         </th> <td>   0.156</td>\n",
              "</tr>\n",
              "<tr>\n",
              "  <th>Model:</th>                   <td>OLS</td>       <th>  Adj. R-squared:    </th> <td>   0.143</td>\n",
              "</tr>\n",
              "<tr>\n",
              "  <th>Method:</th>             <td>Least Squares</td>  <th>  F-statistic:       </th> <td>   11.67</td>\n",
              "</tr>\n",
              "<tr>\n",
              "  <th>Date:</th>             <td>Sun, 13 Oct 2019</td> <th>  Prob (F-statistic):</th> <td>5.25e-12</td>\n",
              "</tr>\n",
              "<tr>\n",
              "  <th>Time:</th>                 <td>21:15:28</td>     <th>  Log-Likelihood:    </th> <td> -1097.7</td>\n",
              "</tr>\n",
              "<tr>\n",
              "  <th>No. Observations:</th>      <td>   385</td>      <th>  AIC:               </th> <td>   2209.</td>\n",
              "</tr>\n",
              "<tr>\n",
              "  <th>Df Residuals:</th>          <td>   378</td>      <th>  BIC:               </th> <td>   2237.</td>\n",
              "</tr>\n",
              "<tr>\n",
              "  <th>Df Model:</th>              <td>     6</td>      <th>                     </th>     <td> </td>   \n",
              "</tr>\n",
              "<tr>\n",
              "  <th>Covariance Type:</th>      <td>nonrobust</td>    <th>                     </th>     <td> </td>   \n",
              "</tr>\n",
              "</table>\n",
              "<table class=\"simpletable\">\n",
              "<tr>\n",
              "           <td></td>             <th>coef</th>     <th>std err</th>      <th>t</th>      <th>P>|t|</th>  <th>[0.025</th>    <th>0.975]</th>  \n",
              "</tr>\n",
              "<tr>\n",
              "  <th>Intercept</th>          <td>   10.5740</td> <td>    0.579</td> <td>   18.271</td> <td> 0.000</td> <td>    9.436</td> <td>   11.712</td>\n",
              "</tr>\n",
              "<tr>\n",
              "  <th>C(sex)[T.M]</th>        <td>    1.3041</td> <td>    0.464</td> <td>    2.811</td> <td> 0.005</td> <td>    0.392</td> <td>    2.216</td>\n",
              "</tr>\n",
              "<tr>\n",
              "  <th>C(romantic)[T.yes]</th> <td>   -1.0021</td> <td>    0.466</td> <td>   -2.152</td> <td> 0.032</td> <td>   -1.918</td> <td>   -0.086</td>\n",
              "</tr>\n",
              "<tr>\n",
              "  <th>C(studytime)[T.2]</th>  <td>    0.0191</td> <td>    0.545</td> <td>    0.035</td> <td> 0.972</td> <td>   -1.052</td> <td>    1.091</td>\n",
              "</tr>\n",
              "<tr>\n",
              "  <th>C(studytime)[T.3]</th>  <td>    1.5086</td> <td>    0.733</td> <td>    2.059</td> <td> 0.040</td> <td>    0.068</td> <td>    2.949</td>\n",
              "</tr>\n",
              "<tr>\n",
              "  <th>C(studytime)[T.4]</th>  <td>    0.4646</td> <td>    0.943</td> <td>    0.493</td> <td> 0.623</td> <td>   -1.390</td> <td>    2.319</td>\n",
              "</tr>\n",
              "<tr>\n",
              "  <th>failures</th>           <td>   -2.0732</td> <td>    0.304</td> <td>   -6.811</td> <td> 0.000</td> <td>   -2.672</td> <td>   -1.475</td>\n",
              "</tr>\n",
              "</table>\n",
              "<table class=\"simpletable\">\n",
              "<tr>\n",
              "  <th>Omnibus:</th>       <td>33.422</td> <th>  Durbin-Watson:     </th> <td>   2.061</td>\n",
              "</tr>\n",
              "<tr>\n",
              "  <th>Prob(Omnibus):</th> <td> 0.000</td> <th>  Jarque-Bera (JB):  </th> <td>  39.688</td>\n",
              "</tr>\n",
              "<tr>\n",
              "  <th>Skew:</th>          <td>-0.739</td> <th>  Prob(JB):          </th> <td>2.41e-09</td>\n",
              "</tr>\n",
              "<tr>\n",
              "  <th>Kurtosis:</th>      <td> 3.537</td> <th>  Cond. No.          </th> <td>    7.27</td>\n",
              "</tr>\n",
              "</table><br/><br/>Warnings:<br/>[1] Standard Errors assume that the covariance matrix of the errors is correctly specified."
            ],
            "text/plain": [
              "<class 'statsmodels.iolib.summary.Summary'>\n",
              "\"\"\"\n",
              "                            OLS Regression Results                            \n",
              "==============================================================================\n",
              "Dep. Variable:                     G3   R-squared:                       0.156\n",
              "Model:                            OLS   Adj. R-squared:                  0.143\n",
              "Method:                 Least Squares   F-statistic:                     11.67\n",
              "Date:                Sun, 13 Oct 2019   Prob (F-statistic):           5.25e-12\n",
              "Time:                        21:15:28   Log-Likelihood:                -1097.7\n",
              "No. Observations:                 385   AIC:                             2209.\n",
              "Df Residuals:                     378   BIC:                             2237.\n",
              "Df Model:                           6                                         \n",
              "Covariance Type:            nonrobust                                         \n",
              "======================================================================================\n",
              "                         coef    std err          t      P>|t|      [0.025      0.975]\n",
              "--------------------------------------------------------------------------------------\n",
              "Intercept             10.5740      0.579     18.271      0.000       9.436      11.712\n",
              "C(sex)[T.M]            1.3041      0.464      2.811      0.005       0.392       2.216\n",
              "C(romantic)[T.yes]    -1.0021      0.466     -2.152      0.032      -1.918      -0.086\n",
              "C(studytime)[T.2]      0.0191      0.545      0.035      0.972      -1.052       1.091\n",
              "C(studytime)[T.3]      1.5086      0.733      2.059      0.040       0.068       2.949\n",
              "C(studytime)[T.4]      0.4646      0.943      0.493      0.623      -1.390       2.319\n",
              "failures              -2.0732      0.304     -6.811      0.000      -2.672      -1.475\n",
              "==============================================================================\n",
              "Omnibus:                       33.422   Durbin-Watson:                   2.061\n",
              "Prob(Omnibus):                  0.000   Jarque-Bera (JB):               39.688\n",
              "Skew:                          -0.739   Prob(JB):                     2.41e-09\n",
              "Kurtosis:                       3.537   Cond. No.                         7.27\n",
              "==============================================================================\n",
              "\n",
              "Warnings:\n",
              "[1] Standard Errors assume that the covariance matrix of the errors is correctly specified.\n",
              "\"\"\""
            ]
          },
          "metadata": {}
        }
      ],
      "execution_count": 64,
      "metadata": {}
    },
    {
      "cell_type": "code",
      "source": [
        "anova_full_model = sm.stats.anova_lm(reg_full_model, typ=2)\n",
        "anova_full_model"
      ],
      "outputs": [
        {
          "output_type": "execute_result",
          "execution_count": 65,
          "data": {
            "text/html": [
              "<div>\n",
              "<style scoped>\n",
              "    .dataframe tbody tr th:only-of-type {\n",
              "        vertical-align: middle;\n",
              "    }\n",
              "\n",
              "    .dataframe tbody tr th {\n",
              "        vertical-align: top;\n",
              "    }\n",
              "\n",
              "    .dataframe thead th {\n",
              "        text-align: right;\n",
              "    }\n",
              "</style>\n",
              "<table border=\"1\" class=\"dataframe\">\n",
              "  <thead>\n",
              "    <tr style=\"text-align: right;\">\n",
              "      <th></th>\n",
              "      <th>sum_sq</th>\n",
              "      <th>df</th>\n",
              "      <th>F</th>\n",
              "      <th>PR(&gt;F)</th>\n",
              "    </tr>\n",
              "  </thead>\n",
              "  <tbody>\n",
              "    <tr>\n",
              "      <td>C(sex)</td>\n",
              "      <td>141.236890</td>\n",
              "      <td>1.0</td>\n",
              "      <td>7.904001</td>\n",
              "      <td>5.189537e-03</td>\n",
              "    </tr>\n",
              "    <tr>\n",
              "      <td>C(romantic)</td>\n",
              "      <td>82.749346</td>\n",
              "      <td>1.0</td>\n",
              "      <td>4.630879</td>\n",
              "      <td>3.203424e-02</td>\n",
              "    </tr>\n",
              "    <tr>\n",
              "      <td>C(studytime)</td>\n",
              "      <td>108.584220</td>\n",
              "      <td>3.0</td>\n",
              "      <td>2.025556</td>\n",
              "      <td>1.098576e-01</td>\n",
              "    </tr>\n",
              "    <tr>\n",
              "      <td>failures</td>\n",
              "      <td>828.972569</td>\n",
              "      <td>1.0</td>\n",
              "      <td>46.391563</td>\n",
              "      <td>3.826003e-11</td>\n",
              "    </tr>\n",
              "    <tr>\n",
              "      <td>Residual</td>\n",
              "      <td>6754.496075</td>\n",
              "      <td>378.0</td>\n",
              "      <td>NaN</td>\n",
              "      <td>NaN</td>\n",
              "    </tr>\n",
              "  </tbody>\n",
              "</table>\n",
              "</div>"
            ],
            "text/plain": [
              "                   sum_sq     df          F        PR(>F)\n",
              "C(sex)         141.236890    1.0   7.904001  5.189537e-03\n",
              "C(romantic)     82.749346    1.0   4.630879  3.203424e-02\n",
              "C(studytime)   108.584220    3.0   2.025556  1.098576e-01\n",
              "failures       828.972569    1.0  46.391563  3.826003e-11\n",
              "Residual      6754.496075  378.0        NaN           NaN"
            ]
          },
          "metadata": {}
        }
      ],
      "execution_count": 65,
      "metadata": {}
    },
    {
      "cell_type": "markdown",
      "source": [
        "#### After removing influential points, romantic has become insignificant and the p-values for other predictors have also changed indicating the points were highly influential"
      ],
      "metadata": {}
    },
    {
      "cell_type": "markdown",
      "source": [
        "### VIF test"
      ],
      "metadata": {}
    },
    {
      "cell_type": "markdown",
      "source": [
        "#### failures"
      ],
      "metadata": {}
    },
    {
      "cell_type": "code",
      "source": [
        "failures_reg_vif = smf.ols('failures ~ C(sex) + C(romantic) + C(studytime)', data=student_data).fit()\n",
        "failures_reg_vif.summary()"
      ],
      "outputs": [
        {
          "output_type": "execute_result",
          "execution_count": 66,
          "data": {
            "text/html": [
              "<table class=\"simpletable\">\n",
              "<caption>OLS Regression Results</caption>\n",
              "<tr>\n",
              "  <th>Dep. Variable:</th>        <td>failures</td>     <th>  R-squared:         </th> <td>   0.045</td>\n",
              "</tr>\n",
              "<tr>\n",
              "  <th>Model:</th>                   <td>OLS</td>       <th>  Adj. R-squared:    </th> <td>   0.033</td>\n",
              "</tr>\n",
              "<tr>\n",
              "  <th>Method:</th>             <td>Least Squares</td>  <th>  F-statistic:       </th> <td>   3.613</td>\n",
              "</tr>\n",
              "<tr>\n",
              "  <th>Date:</th>             <td>Sun, 13 Oct 2019</td> <th>  Prob (F-statistic):</th>  <td>0.00333</td>\n",
              "</tr>\n",
              "<tr>\n",
              "  <th>Time:</th>                 <td>21:15:28</td>     <th>  Log-Likelihood:    </th> <td> -413.23</td>\n",
              "</tr>\n",
              "<tr>\n",
              "  <th>No. Observations:</th>      <td>   385</td>      <th>  AIC:               </th> <td>   838.5</td>\n",
              "</tr>\n",
              "<tr>\n",
              "  <th>Df Residuals:</th>          <td>   379</td>      <th>  BIC:               </th> <td>   862.2</td>\n",
              "</tr>\n",
              "<tr>\n",
              "  <th>Df Model:</th>              <td>     5</td>      <th>                     </th>     <td> </td>   \n",
              "</tr>\n",
              "<tr>\n",
              "  <th>Covariance Type:</th>      <td>nonrobust</td>    <th>                     </th>     <td> </td>   \n",
              "</tr>\n",
              "</table>\n",
              "<table class=\"simpletable\">\n",
              "<tr>\n",
              "           <td></td>             <th>coef</th>     <th>std err</th>      <th>t</th>      <th>P>|t|</th>  <th>[0.025</th>    <th>0.975]</th>  \n",
              "</tr>\n",
              "<tr>\n",
              "  <th>Intercept</th>          <td>    0.4624</td> <td>    0.095</td> <td>    4.881</td> <td> 0.000</td> <td>    0.276</td> <td>    0.649</td>\n",
              "</tr>\n",
              "<tr>\n",
              "  <th>C(sex)[T.M]</th>        <td>   -0.0082</td> <td>    0.078</td> <td>   -0.104</td> <td> 0.917</td> <td>   -0.162</td> <td>    0.146</td>\n",
              "</tr>\n",
              "<tr>\n",
              "  <th>C(romantic)[T.yes]</th> <td>    0.1889</td> <td>    0.078</td> <td>    2.422</td> <td> 0.016</td> <td>    0.036</td> <td>    0.342</td>\n",
              "</tr>\n",
              "<tr>\n",
              "  <th>C(studytime)[T.2]</th>  <td>   -0.2342</td> <td>    0.091</td> <td>   -2.569</td> <td> 0.011</td> <td>   -0.413</td> <td>   -0.055</td>\n",
              "</tr>\n",
              "<tr>\n",
              "  <th>C(studytime)[T.3]</th>  <td>   -0.3096</td> <td>    0.123</td> <td>   -2.524</td> <td> 0.012</td> <td>   -0.551</td> <td>   -0.068</td>\n",
              "</tr>\n",
              "<tr>\n",
              "  <th>C(studytime)[T.4]</th>  <td>   -0.4573</td> <td>    0.157</td> <td>   -2.905</td> <td> 0.004</td> <td>   -0.767</td> <td>   -0.148</td>\n",
              "</tr>\n",
              "</table>\n",
              "<table class=\"simpletable\">\n",
              "<tr>\n",
              "  <th>Omnibus:</th>       <td>187.596</td> <th>  Durbin-Watson:     </th> <td>   1.885</td> \n",
              "</tr>\n",
              "<tr>\n",
              "  <th>Prob(Omnibus):</th> <td> 0.000</td>  <th>  Jarque-Bera (JB):  </th> <td> 705.230</td> \n",
              "</tr>\n",
              "<tr>\n",
              "  <th>Skew:</th>          <td> 2.266</td>  <th>  Prob(JB):          </th> <td>7.27e-154</td>\n",
              "</tr>\n",
              "<tr>\n",
              "  <th>Kurtosis:</th>      <td> 7.839</td>  <th>  Cond. No.          </th> <td>    6.84</td> \n",
              "</tr>\n",
              "</table><br/><br/>Warnings:<br/>[1] Standard Errors assume that the covariance matrix of the errors is correctly specified."
            ],
            "text/plain": [
              "<class 'statsmodels.iolib.summary.Summary'>\n",
              "\"\"\"\n",
              "                            OLS Regression Results                            \n",
              "==============================================================================\n",
              "Dep. Variable:               failures   R-squared:                       0.045\n",
              "Model:                            OLS   Adj. R-squared:                  0.033\n",
              "Method:                 Least Squares   F-statistic:                     3.613\n",
              "Date:                Sun, 13 Oct 2019   Prob (F-statistic):            0.00333\n",
              "Time:                        21:15:28   Log-Likelihood:                -413.23\n",
              "No. Observations:                 385   AIC:                             838.5\n",
              "Df Residuals:                     379   BIC:                             862.2\n",
              "Df Model:                           5                                         \n",
              "Covariance Type:            nonrobust                                         \n",
              "======================================================================================\n",
              "                         coef    std err          t      P>|t|      [0.025      0.975]\n",
              "--------------------------------------------------------------------------------------\n",
              "Intercept              0.4624      0.095      4.881      0.000       0.276       0.649\n",
              "C(sex)[T.M]           -0.0082      0.078     -0.104      0.917      -0.162       0.146\n",
              "C(romantic)[T.yes]     0.1889      0.078      2.422      0.016       0.036       0.342\n",
              "C(studytime)[T.2]     -0.2342      0.091     -2.569      0.011      -0.413      -0.055\n",
              "C(studytime)[T.3]     -0.3096      0.123     -2.524      0.012      -0.551      -0.068\n",
              "C(studytime)[T.4]     -0.4573      0.157     -2.905      0.004      -0.767      -0.148\n",
              "==============================================================================\n",
              "Omnibus:                      187.596   Durbin-Watson:                   1.885\n",
              "Prob(Omnibus):                  0.000   Jarque-Bera (JB):              705.230\n",
              "Skew:                           2.266   Prob(JB):                    7.27e-154\n",
              "Kurtosis:                       7.839   Cond. No.                         6.84\n",
              "==============================================================================\n",
              "\n",
              "Warnings:\n",
              "[1] Standard Errors assume that the covariance matrix of the errors is correctly specified.\n",
              "\"\"\""
            ]
          },
          "metadata": {}
        }
      ],
      "execution_count": 66,
      "metadata": {}
    },
    {
      "cell_type": "code",
      "source": [
        "failures_vif = 1/(1 - 0.043)\n",
        "failures_vif ## no multicollinearity problem"
      ],
      "outputs": [
        {
          "output_type": "execute_result",
          "execution_count": 67,
          "data": {
            "text/plain": [
              "1.044932079414838"
            ]
          },
          "metadata": {}
        }
      ],
      "execution_count": 67,
      "metadata": {}
    },
    {
      "cell_type": "markdown",
      "source": [
        "#### sex"
      ],
      "metadata": {}
    },
    {
      "cell_type": "code",
      "source": [
        "##dummy coding\n",
        "vif_sex_data = student_data.copy()\n",
        "vif_sex_data['sex_female'] = 1\n",
        "vif_sex_data.loc[(vif_sex_data.sex == 'M'),'sex_female'] = 0"
      ],
      "outputs": [],
      "execution_count": 68,
      "metadata": {}
    },
    {
      "cell_type": "code",
      "source": [
        "vif_sex_data.head()"
      ],
      "outputs": [
        {
          "output_type": "execute_result",
          "execution_count": 69,
          "data": {
            "text/html": [
              "<div>\n",
              "<style scoped>\n",
              "    .dataframe tbody tr th:only-of-type {\n",
              "        vertical-align: middle;\n",
              "    }\n",
              "\n",
              "    .dataframe tbody tr th {\n",
              "        vertical-align: top;\n",
              "    }\n",
              "\n",
              "    .dataframe thead th {\n",
              "        text-align: right;\n",
              "    }\n",
              "</style>\n",
              "<table border=\"1\" class=\"dataframe\">\n",
              "  <thead>\n",
              "    <tr style=\"text-align: right;\">\n",
              "      <th></th>\n",
              "      <th>sex</th>\n",
              "      <th>famsize</th>\n",
              "      <th>Pstatus</th>\n",
              "      <th>famsup</th>\n",
              "      <th>studytime</th>\n",
              "      <th>failures</th>\n",
              "      <th>romantic</th>\n",
              "      <th>goout</th>\n",
              "      <th>absences</th>\n",
              "      <th>Dalc</th>\n",
              "      <th>traveltime</th>\n",
              "      <th>paid</th>\n",
              "      <th>schoolsup</th>\n",
              "      <th>G3</th>\n",
              "      <th>null</th>\n",
              "      <th>sex_female</th>\n",
              "    </tr>\n",
              "  </thead>\n",
              "  <tbody>\n",
              "    <tr>\n",
              "      <td>0</td>\n",
              "      <td>F</td>\n",
              "      <td>GT3</td>\n",
              "      <td>A</td>\n",
              "      <td>no</td>\n",
              "      <td>2</td>\n",
              "      <td>0</td>\n",
              "      <td>no</td>\n",
              "      <td>4</td>\n",
              "      <td>6</td>\n",
              "      <td>1</td>\n",
              "      <td>2</td>\n",
              "      <td>no</td>\n",
              "      <td>yes</td>\n",
              "      <td>6</td>\n",
              "      <td>1</td>\n",
              "      <td>1</td>\n",
              "    </tr>\n",
              "    <tr>\n",
              "      <td>1</td>\n",
              "      <td>F</td>\n",
              "      <td>GT3</td>\n",
              "      <td>T</td>\n",
              "      <td>yes</td>\n",
              "      <td>2</td>\n",
              "      <td>0</td>\n",
              "      <td>no</td>\n",
              "      <td>3</td>\n",
              "      <td>4</td>\n",
              "      <td>1</td>\n",
              "      <td>1</td>\n",
              "      <td>no</td>\n",
              "      <td>no</td>\n",
              "      <td>6</td>\n",
              "      <td>1</td>\n",
              "      <td>1</td>\n",
              "    </tr>\n",
              "    <tr>\n",
              "      <td>2</td>\n",
              "      <td>F</td>\n",
              "      <td>LE3</td>\n",
              "      <td>T</td>\n",
              "      <td>no</td>\n",
              "      <td>2</td>\n",
              "      <td>3</td>\n",
              "      <td>no</td>\n",
              "      <td>2</td>\n",
              "      <td>10</td>\n",
              "      <td>2</td>\n",
              "      <td>1</td>\n",
              "      <td>yes</td>\n",
              "      <td>yes</td>\n",
              "      <td>10</td>\n",
              "      <td>1</td>\n",
              "      <td>1</td>\n",
              "    </tr>\n",
              "    <tr>\n",
              "      <td>3</td>\n",
              "      <td>F</td>\n",
              "      <td>GT3</td>\n",
              "      <td>T</td>\n",
              "      <td>yes</td>\n",
              "      <td>3</td>\n",
              "      <td>0</td>\n",
              "      <td>yes</td>\n",
              "      <td>2</td>\n",
              "      <td>2</td>\n",
              "      <td>1</td>\n",
              "      <td>1</td>\n",
              "      <td>yes</td>\n",
              "      <td>no</td>\n",
              "      <td>15</td>\n",
              "      <td>1</td>\n",
              "      <td>1</td>\n",
              "    </tr>\n",
              "    <tr>\n",
              "      <td>4</td>\n",
              "      <td>F</td>\n",
              "      <td>GT3</td>\n",
              "      <td>T</td>\n",
              "      <td>yes</td>\n",
              "      <td>2</td>\n",
              "      <td>0</td>\n",
              "      <td>no</td>\n",
              "      <td>2</td>\n",
              "      <td>4</td>\n",
              "      <td>1</td>\n",
              "      <td>1</td>\n",
              "      <td>yes</td>\n",
              "      <td>no</td>\n",
              "      <td>10</td>\n",
              "      <td>1</td>\n",
              "      <td>1</td>\n",
              "    </tr>\n",
              "  </tbody>\n",
              "</table>\n",
              "</div>"
            ],
            "text/plain": [
              "  sex famsize Pstatus famsup  studytime  failures romantic  goout  absences  \\\n",
              "0   F     GT3       A     no          2         0       no      4         6   \n",
              "1   F     GT3       T    yes          2         0       no      3         4   \n",
              "2   F     LE3       T     no          2         3       no      2        10   \n",
              "3   F     GT3       T    yes          3         0      yes      2         2   \n",
              "4   F     GT3       T    yes          2         0       no      2         4   \n",
              "\n",
              "   Dalc  traveltime paid schoolsup  G3  null  sex_female  \n",
              "0     1           2   no       yes   6     1           1  \n",
              "1     1           1   no        no   6     1           1  \n",
              "2     2           1  yes       yes  10     1           1  \n",
              "3     1           1  yes        no  15     1           1  \n",
              "4     1           1  yes        no  10     1           1  "
            ]
          },
          "metadata": {}
        }
      ],
      "execution_count": 69,
      "metadata": {}
    },
    {
      "cell_type": "code",
      "source": [
        "sex_reg_vif = smf.ols('sex_female ~ failures + C(romantic) + C(studytime)', data=vif_sex_data).fit()\n",
        "sex_reg_vif.summary()"
      ],
      "outputs": [
        {
          "output_type": "execute_result",
          "execution_count": 70,
          "data": {
            "text/html": [
              "<table class=\"simpletable\">\n",
              "<caption>OLS Regression Results</caption>\n",
              "<tr>\n",
              "  <th>Dep. Variable:</th>       <td>sex_female</td>    <th>  R-squared:         </th> <td>   0.134</td>\n",
              "</tr>\n",
              "<tr>\n",
              "  <th>Model:</th>                   <td>OLS</td>       <th>  Adj. R-squared:    </th> <td>   0.123</td>\n",
              "</tr>\n",
              "<tr>\n",
              "  <th>Method:</th>             <td>Least Squares</td>  <th>  F-statistic:       </th> <td>   11.74</td>\n",
              "</tr>\n",
              "<tr>\n",
              "  <th>Date:</th>             <td>Sun, 13 Oct 2019</td> <th>  Prob (F-statistic):</th> <td>1.45e-10</td>\n",
              "</tr>\n",
              "<tr>\n",
              "  <th>Time:</th>                 <td>21:15:28</td>     <th>  Log-Likelihood:    </th> <td> -251.02</td>\n",
              "</tr>\n",
              "<tr>\n",
              "  <th>No. Observations:</th>      <td>   385</td>      <th>  AIC:               </th> <td>   514.0</td>\n",
              "</tr>\n",
              "<tr>\n",
              "  <th>Df Residuals:</th>          <td>   379</td>      <th>  BIC:               </th> <td>   537.8</td>\n",
              "</tr>\n",
              "<tr>\n",
              "  <th>Df Model:</th>              <td>     5</td>      <th>                     </th>     <td> </td>   \n",
              "</tr>\n",
              "<tr>\n",
              "  <th>Covariance Type:</th>      <td>nonrobust</td>    <th>                     </th>     <td> </td>   \n",
              "</tr>\n",
              "</table>\n",
              "<table class=\"simpletable\">\n",
              "<tr>\n",
              "           <td></td>             <th>coef</th>     <th>std err</th>      <th>t</th>      <th>P>|t|</th>  <th>[0.025</th>    <th>0.975]</th>  \n",
              "</tr>\n",
              "<tr>\n",
              "  <th>Intercept</th>          <td>    0.2389</td> <td>    0.051</td> <td>    4.705</td> <td> 0.000</td> <td>    0.139</td> <td>    0.339</td>\n",
              "</tr>\n",
              "<tr>\n",
              "  <th>C(romantic)[T.yes]</th> <td>    0.0650</td> <td>    0.051</td> <td>    1.263</td> <td> 0.207</td> <td>   -0.036</td> <td>    0.166</td>\n",
              "</tr>\n",
              "<tr>\n",
              "  <th>C(studytime)[T.2]</th>  <td>    0.3084</td> <td>    0.058</td> <td>    5.297</td> <td> 0.000</td> <td>    0.194</td> <td>    0.423</td>\n",
              "</tr>\n",
              "<tr>\n",
              "  <th>C(studytime)[T.3]</th>  <td>    0.5240</td> <td>    0.077</td> <td>    6.844</td> <td> 0.000</td> <td>    0.373</td> <td>    0.675</td>\n",
              "</tr>\n",
              "<tr>\n",
              "  <th>C(studytime)[T.4]</th>  <td>    0.3785</td> <td>    0.103</td> <td>    3.688</td> <td> 0.000</td> <td>    0.177</td> <td>    0.580</td>\n",
              "</tr>\n",
              "<tr>\n",
              "  <th>failures</th>           <td>    0.0035</td> <td>    0.034</td> <td>    0.104</td> <td> 0.917</td> <td>   -0.063</td> <td>    0.070</td>\n",
              "</tr>\n",
              "</table>\n",
              "<table class=\"simpletable\">\n",
              "<tr>\n",
              "  <th>Omnibus:</th>       <td>8419.613</td> <th>  Durbin-Watson:     </th> <td>   1.663</td>\n",
              "</tr>\n",
              "<tr>\n",
              "  <th>Prob(Omnibus):</th>  <td> 0.000</td>  <th>  Jarque-Bera (JB):  </th> <td>  34.223</td>\n",
              "</tr>\n",
              "<tr>\n",
              "  <th>Skew:</th>           <td>-0.138</td>  <th>  Prob(JB):          </th> <td>3.70e-08</td>\n",
              "</tr>\n",
              "<tr>\n",
              "  <th>Kurtosis:</th>       <td> 1.566</td>  <th>  Cond. No.          </th> <td>    6.26</td>\n",
              "</tr>\n",
              "</table><br/><br/>Warnings:<br/>[1] Standard Errors assume that the covariance matrix of the errors is correctly specified."
            ],
            "text/plain": [
              "<class 'statsmodels.iolib.summary.Summary'>\n",
              "\"\"\"\n",
              "                            OLS Regression Results                            \n",
              "==============================================================================\n",
              "Dep. Variable:             sex_female   R-squared:                       0.134\n",
              "Model:                            OLS   Adj. R-squared:                  0.123\n",
              "Method:                 Least Squares   F-statistic:                     11.74\n",
              "Date:                Sun, 13 Oct 2019   Prob (F-statistic):           1.45e-10\n",
              "Time:                        21:15:28   Log-Likelihood:                -251.02\n",
              "No. Observations:                 385   AIC:                             514.0\n",
              "Df Residuals:                     379   BIC:                             537.8\n",
              "Df Model:                           5                                         \n",
              "Covariance Type:            nonrobust                                         \n",
              "======================================================================================\n",
              "                         coef    std err          t      P>|t|      [0.025      0.975]\n",
              "--------------------------------------------------------------------------------------\n",
              "Intercept              0.2389      0.051      4.705      0.000       0.139       0.339\n",
              "C(romantic)[T.yes]     0.0650      0.051      1.263      0.207      -0.036       0.166\n",
              "C(studytime)[T.2]      0.3084      0.058      5.297      0.000       0.194       0.423\n",
              "C(studytime)[T.3]      0.5240      0.077      6.844      0.000       0.373       0.675\n",
              "C(studytime)[T.4]      0.3785      0.103      3.688      0.000       0.177       0.580\n",
              "failures               0.0035      0.034      0.104      0.917      -0.063       0.070\n",
              "==============================================================================\n",
              "Omnibus:                     8419.613   Durbin-Watson:                   1.663\n",
              "Prob(Omnibus):                  0.000   Jarque-Bera (JB):               34.223\n",
              "Skew:                          -0.138   Prob(JB):                     3.70e-08\n",
              "Kurtosis:                       1.566   Cond. No.                         6.26\n",
              "==============================================================================\n",
              "\n",
              "Warnings:\n",
              "[1] Standard Errors assume that the covariance matrix of the errors is correctly specified.\n",
              "\"\"\""
            ]
          },
          "metadata": {}
        }
      ],
      "execution_count": 70,
      "metadata": {}
    },
    {
      "cell_type": "code",
      "source": [
        "sex_vif = 1/(1 - 0.139)\n",
        "sex_vif ## no multicollinearity problem"
      ],
      "outputs": [
        {
          "output_type": "execute_result",
          "execution_count": 71,
          "data": {
            "text/plain": [
              "1.1614401858304297"
            ]
          },
          "metadata": {}
        }
      ],
      "execution_count": 71,
      "metadata": {}
    },
    {
      "cell_type": "markdown",
      "source": [
        "#### romantic"
      ],
      "metadata": {}
    },
    {
      "cell_type": "code",
      "source": [
        "##dummy coding\n",
        "vif_romantic_data = student_data.copy()\n",
        "vif_romantic_data['is_romantic'] = 1\n",
        "vif_romantic_data.loc[(vif_sex_data.romantic == 'no'),'is_romantic'] = 0"
      ],
      "outputs": [],
      "execution_count": 72,
      "metadata": {}
    },
    {
      "cell_type": "code",
      "source": [
        "vif_romantic_data.head()"
      ],
      "outputs": [
        {
          "output_type": "execute_result",
          "execution_count": 73,
          "data": {
            "text/html": [
              "<div>\n",
              "<style scoped>\n",
              "    .dataframe tbody tr th:only-of-type {\n",
              "        vertical-align: middle;\n",
              "    }\n",
              "\n",
              "    .dataframe tbody tr th {\n",
              "        vertical-align: top;\n",
              "    }\n",
              "\n",
              "    .dataframe thead th {\n",
              "        text-align: right;\n",
              "    }\n",
              "</style>\n",
              "<table border=\"1\" class=\"dataframe\">\n",
              "  <thead>\n",
              "    <tr style=\"text-align: right;\">\n",
              "      <th></th>\n",
              "      <th>sex</th>\n",
              "      <th>famsize</th>\n",
              "      <th>Pstatus</th>\n",
              "      <th>famsup</th>\n",
              "      <th>studytime</th>\n",
              "      <th>failures</th>\n",
              "      <th>romantic</th>\n",
              "      <th>goout</th>\n",
              "      <th>absences</th>\n",
              "      <th>Dalc</th>\n",
              "      <th>traveltime</th>\n",
              "      <th>paid</th>\n",
              "      <th>schoolsup</th>\n",
              "      <th>G3</th>\n",
              "      <th>null</th>\n",
              "      <th>is_romantic</th>\n",
              "    </tr>\n",
              "  </thead>\n",
              "  <tbody>\n",
              "    <tr>\n",
              "      <td>0</td>\n",
              "      <td>F</td>\n",
              "      <td>GT3</td>\n",
              "      <td>A</td>\n",
              "      <td>no</td>\n",
              "      <td>2</td>\n",
              "      <td>0</td>\n",
              "      <td>no</td>\n",
              "      <td>4</td>\n",
              "      <td>6</td>\n",
              "      <td>1</td>\n",
              "      <td>2</td>\n",
              "      <td>no</td>\n",
              "      <td>yes</td>\n",
              "      <td>6</td>\n",
              "      <td>1</td>\n",
              "      <td>0</td>\n",
              "    </tr>\n",
              "    <tr>\n",
              "      <td>1</td>\n",
              "      <td>F</td>\n",
              "      <td>GT3</td>\n",
              "      <td>T</td>\n",
              "      <td>yes</td>\n",
              "      <td>2</td>\n",
              "      <td>0</td>\n",
              "      <td>no</td>\n",
              "      <td>3</td>\n",
              "      <td>4</td>\n",
              "      <td>1</td>\n",
              "      <td>1</td>\n",
              "      <td>no</td>\n",
              "      <td>no</td>\n",
              "      <td>6</td>\n",
              "      <td>1</td>\n",
              "      <td>0</td>\n",
              "    </tr>\n",
              "    <tr>\n",
              "      <td>2</td>\n",
              "      <td>F</td>\n",
              "      <td>LE3</td>\n",
              "      <td>T</td>\n",
              "      <td>no</td>\n",
              "      <td>2</td>\n",
              "      <td>3</td>\n",
              "      <td>no</td>\n",
              "      <td>2</td>\n",
              "      <td>10</td>\n",
              "      <td>2</td>\n",
              "      <td>1</td>\n",
              "      <td>yes</td>\n",
              "      <td>yes</td>\n",
              "      <td>10</td>\n",
              "      <td>1</td>\n",
              "      <td>0</td>\n",
              "    </tr>\n",
              "    <tr>\n",
              "      <td>3</td>\n",
              "      <td>F</td>\n",
              "      <td>GT3</td>\n",
              "      <td>T</td>\n",
              "      <td>yes</td>\n",
              "      <td>3</td>\n",
              "      <td>0</td>\n",
              "      <td>yes</td>\n",
              "      <td>2</td>\n",
              "      <td>2</td>\n",
              "      <td>1</td>\n",
              "      <td>1</td>\n",
              "      <td>yes</td>\n",
              "      <td>no</td>\n",
              "      <td>15</td>\n",
              "      <td>1</td>\n",
              "      <td>1</td>\n",
              "    </tr>\n",
              "    <tr>\n",
              "      <td>4</td>\n",
              "      <td>F</td>\n",
              "      <td>GT3</td>\n",
              "      <td>T</td>\n",
              "      <td>yes</td>\n",
              "      <td>2</td>\n",
              "      <td>0</td>\n",
              "      <td>no</td>\n",
              "      <td>2</td>\n",
              "      <td>4</td>\n",
              "      <td>1</td>\n",
              "      <td>1</td>\n",
              "      <td>yes</td>\n",
              "      <td>no</td>\n",
              "      <td>10</td>\n",
              "      <td>1</td>\n",
              "      <td>0</td>\n",
              "    </tr>\n",
              "  </tbody>\n",
              "</table>\n",
              "</div>"
            ],
            "text/plain": [
              "  sex famsize Pstatus famsup  studytime  failures romantic  goout  absences  \\\n",
              "0   F     GT3       A     no          2         0       no      4         6   \n",
              "1   F     GT3       T    yes          2         0       no      3         4   \n",
              "2   F     LE3       T     no          2         3       no      2        10   \n",
              "3   F     GT3       T    yes          3         0      yes      2         2   \n",
              "4   F     GT3       T    yes          2         0       no      2         4   \n",
              "\n",
              "   Dalc  traveltime paid schoolsup  G3  null  is_romantic  \n",
              "0     1           2   no       yes   6     1            0  \n",
              "1     1           1   no        no   6     1            0  \n",
              "2     2           1  yes       yes  10     1            0  \n",
              "3     1           1  yes        no  15     1            1  \n",
              "4     1           1  yes        no  10     1            0  "
            ]
          },
          "metadata": {}
        }
      ],
      "execution_count": 73,
      "metadata": {}
    },
    {
      "cell_type": "code",
      "source": [
        "romantic_reg_vif = smf.ols('is_romantic ~ failures + C(sex) + C(studytime)', data=vif_romantic_data).fit()\n",
        "romantic_reg_vif.summary()"
      ],
      "outputs": [
        {
          "output_type": "execute_result",
          "execution_count": 74,
          "data": {
            "text/html": [
              "<table class=\"simpletable\">\n",
              "<caption>OLS Regression Results</caption>\n",
              "<tr>\n",
              "  <th>Dep. Variable:</th>       <td>is_romantic</td>   <th>  R-squared:         </th> <td>   0.047</td>\n",
              "</tr>\n",
              "<tr>\n",
              "  <th>Model:</th>                   <td>OLS</td>       <th>  Adj. R-squared:    </th> <td>   0.034</td>\n",
              "</tr>\n",
              "<tr>\n",
              "  <th>Method:</th>             <td>Least Squares</td>  <th>  F-statistic:       </th> <td>   3.697</td>\n",
              "</tr>\n",
              "<tr>\n",
              "  <th>Date:</th>             <td>Sun, 13 Oct 2019</td> <th>  Prob (F-statistic):</th>  <td>0.00280</td>\n",
              "</tr>\n",
              "<tr>\n",
              "  <th>Time:</th>                 <td>21:15:28</td>     <th>  Log-Likelihood:    </th> <td> -249.54</td>\n",
              "</tr>\n",
              "<tr>\n",
              "  <th>No. Observations:</th>      <td>   385</td>      <th>  AIC:               </th> <td>   511.1</td>\n",
              "</tr>\n",
              "<tr>\n",
              "  <th>Df Residuals:</th>          <td>   379</td>      <th>  BIC:               </th> <td>   534.8</td>\n",
              "</tr>\n",
              "<tr>\n",
              "  <th>Df Model:</th>              <td>     5</td>      <th>                     </th>     <td> </td>   \n",
              "</tr>\n",
              "<tr>\n",
              "  <th>Covariance Type:</th>      <td>nonrobust</td>    <th>                     </th>     <td> </td>   \n",
              "</tr>\n",
              "</table>\n",
              "<table class=\"simpletable\">\n",
              "<tr>\n",
              "          <td></td>             <th>coef</th>     <th>std err</th>      <th>t</th>      <th>P>|t|</th>  <th>[0.025</th>    <th>0.975]</th>  \n",
              "</tr>\n",
              "<tr>\n",
              "  <th>Intercept</th>         <td>    0.2646</td> <td>    0.062</td> <td>    4.242</td> <td> 0.000</td> <td>    0.142</td> <td>    0.387</td>\n",
              "</tr>\n",
              "<tr>\n",
              "  <th>C(sex)[T.M]</th>       <td>   -0.0645</td> <td>    0.051</td> <td>   -1.263</td> <td> 0.207</td> <td>   -0.165</td> <td>    0.036</td>\n",
              "</tr>\n",
              "<tr>\n",
              "  <th>C(studytime)[T.2]</th> <td>    0.1053</td> <td>    0.060</td> <td>    1.759</td> <td> 0.079</td> <td>   -0.012</td> <td>    0.223</td>\n",
              "</tr>\n",
              "<tr>\n",
              "  <th>C(studytime)[T.3]</th> <td>    0.1898</td> <td>    0.080</td> <td>    2.366</td> <td> 0.018</td> <td>    0.032</td> <td>    0.348</td>\n",
              "</tr>\n",
              "<tr>\n",
              "  <th>C(studytime)[T.4]</th> <td>   -0.0585</td> <td>    0.104</td> <td>   -0.562</td> <td> 0.574</td> <td>   -0.263</td> <td>    0.146</td>\n",
              "</tr>\n",
              "<tr>\n",
              "  <th>failures</th>          <td>    0.0807</td> <td>    0.033</td> <td>    2.422</td> <td> 0.016</td> <td>    0.015</td> <td>    0.146</td>\n",
              "</tr>\n",
              "</table>\n",
              "<table class=\"simpletable\">\n",
              "<tr>\n",
              "  <th>Omnibus:</th>       <td>3176.265</td> <th>  Durbin-Watson:     </th> <td>   1.962</td>\n",
              "</tr>\n",
              "<tr>\n",
              "  <th>Prob(Omnibus):</th>  <td> 0.000</td>  <th>  Jarque-Bera (JB):  </th> <td>  56.876</td>\n",
              "</tr>\n",
              "<tr>\n",
              "  <th>Skew:</th>           <td> 0.631</td>  <th>  Prob(JB):          </th> <td>4.46e-13</td>\n",
              "</tr>\n",
              "<tr>\n",
              "  <th>Kurtosis:</th>       <td> 1.603</td>  <th>  Cond. No.          </th> <td>    7.01</td>\n",
              "</tr>\n",
              "</table><br/><br/>Warnings:<br/>[1] Standard Errors assume that the covariance matrix of the errors is correctly specified."
            ],
            "text/plain": [
              "<class 'statsmodels.iolib.summary.Summary'>\n",
              "\"\"\"\n",
              "                            OLS Regression Results                            \n",
              "==============================================================================\n",
              "Dep. Variable:            is_romantic   R-squared:                       0.047\n",
              "Model:                            OLS   Adj. R-squared:                  0.034\n",
              "Method:                 Least Squares   F-statistic:                     3.697\n",
              "Date:                Sun, 13 Oct 2019   Prob (F-statistic):            0.00280\n",
              "Time:                        21:15:28   Log-Likelihood:                -249.54\n",
              "No. Observations:                 385   AIC:                             511.1\n",
              "Df Residuals:                     379   BIC:                             534.8\n",
              "Df Model:                           5                                         \n",
              "Covariance Type:            nonrobust                                         \n",
              "=====================================================================================\n",
              "                        coef    std err          t      P>|t|      [0.025      0.975]\n",
              "-------------------------------------------------------------------------------------\n",
              "Intercept             0.2646      0.062      4.242      0.000       0.142       0.387\n",
              "C(sex)[T.M]          -0.0645      0.051     -1.263      0.207      -0.165       0.036\n",
              "C(studytime)[T.2]     0.1053      0.060      1.759      0.079      -0.012       0.223\n",
              "C(studytime)[T.3]     0.1898      0.080      2.366      0.018       0.032       0.348\n",
              "C(studytime)[T.4]    -0.0585      0.104     -0.562      0.574      -0.263       0.146\n",
              "failures              0.0807      0.033      2.422      0.016       0.015       0.146\n",
              "==============================================================================\n",
              "Omnibus:                     3176.265   Durbin-Watson:                   1.962\n",
              "Prob(Omnibus):                  0.000   Jarque-Bera (JB):               56.876\n",
              "Skew:                           0.631   Prob(JB):                     4.46e-13\n",
              "Kurtosis:                       1.603   Cond. No.                         7.01\n",
              "==============================================================================\n",
              "\n",
              "Warnings:\n",
              "[1] Standard Errors assume that the covariance matrix of the errors is correctly specified.\n",
              "\"\"\""
            ]
          },
          "metadata": {}
        }
      ],
      "execution_count": 74,
      "metadata": {}
    },
    {
      "cell_type": "code",
      "source": [
        "romantic_vif = 1/(1 - 0.044)\n",
        "romantic_vif ## no multicollinearity problem"
      ],
      "outputs": [
        {
          "output_type": "execute_result",
          "execution_count": 75,
          "data": {
            "text/plain": [
              "1.0460251046025104"
            ]
          },
          "metadata": {}
        }
      ],
      "execution_count": 75,
      "metadata": {}
    },
    {
      "cell_type": "markdown",
      "source": [
        "### Predictions"
      ],
      "metadata": {}
    },
    {
      "cell_type": "code",
      "source": [
        "reg_full_model.predict(test_data[['sex','failures', 'romantic', 'studytime']])"
      ],
      "outputs": [
        {
          "output_type": "execute_result",
          "execution_count": 76,
          "data": {
            "text/plain": [
              "162     9.804970\n",
              "288    13.386726\n",
              "144     5.658607\n",
              "17     10.593182\n",
              "119    11.878151\n",
              "211    10.895219\n",
              "263    12.082611\n",
              "88      9.824116\n",
              "218    10.574036\n",
              "206     4.373638\n",
              "dtype: float64"
            ]
          },
          "metadata": {}
        }
      ],
      "execution_count": 76,
      "metadata": {}
    },
    {
      "cell_type": "markdown",
      "source": [
        "### RMSE VALUE"
      ],
      "metadata": {}
    },
    {
      "cell_type": "code",
      "source": [
        "# Full model\n",
        "((sum(test_data['G3']- reg_full_model.predict(test_data[['sex','failures', 'romantic', 'studytime']]))**2)/10)**0.5"
      ],
      "outputs": [
        {
          "output_type": "execute_result",
          "execution_count": 77,
          "data": {
            "text/plain": [
              "4.765949996307959"
            ]
          },
          "metadata": {}
        }
      ],
      "execution_count": 77,
      "metadata": {
        "scrolled": true
      }
    },
    {
      "cell_type": "code",
      "source": [
        "# Without the influential\n",
        "((sum(test_data['G3']- reg_not_influential.predict(test_data[['sex','failures', 'romantic', 'studytime']]))**2)/10)**0.5"
      ],
      "outputs": [
        {
          "output_type": "execute_result",
          "execution_count": 78,
          "data": {
            "text/plain": [
              "6.108098123294167"
            ]
          },
          "metadata": {}
        }
      ],
      "execution_count": 78,
      "metadata": {}
    },
    {
      "cell_type": "code",
      "source": [
        "#qq plot\n",
        "sm.qqplot(reg_full_model.resid)"
      ],
      "outputs": [
        {
          "output_type": "execute_result",
          "execution_count": 79,
          "data": {
            "image/png": "[encoded data removed]",
            "text/plain": [
              "<Figure size 432x288 with 1 Axes>"
            ]
          },
          "metadata": {}
        },
        {
          "output_type": "display_data",
          "data": {
            "image/png": "[encoded data removed]",
            "text/plain": [
              "<Figure size 432x288 with 1 Axes>"
            ]
          },
          "metadata": {
            "needs_background": "light"
          }
        }
      ],
      "execution_count": 79,
      "metadata": {}
    }
  ],
  "metadata": {
    "kernelspec": {
      "name": "python3",
      "language": "python",
      "display_name": "Python 3"
    },
    "language_info": {
      "name": "python",
      "version": "3.7.3",
      "mimetype": "text/x-python",
      "codemirror_mode": {
        "name": "ipython",
        "version": 3
      },
      "pygments_lexer": "ipython3",
      "nbconvert_exporter": "python",
      "file_extension": ".py"
    },
    "kernel_info": {
      "name": "python3"
    },
    "nteract": {
      "version": "0.15.0"
    }
  },
  "nbformat": 4,
  "nbformat_minor": 2
}